{
 "cells": [
  {
   "cell_type": "code",
   "execution_count": null,
   "id": "amateur-announcement",
   "metadata": {
    "id": "e2ef5cb6-cd00-4605-b1d1-b6e8a88082da",
    "tags": []
   },
   "outputs": [],
   "source": [
    "import os\n",
    "import json\n",
    "from datetime import datetime, timezone, timedelta\n",
    "import time\n",
    "import uuid\n",
    "from ibm_watson_openscale.base_classes.watson_open_scale_v2 import WMLCredentialsCP4D\n",
    "import urllib3\n",
    "urllib3.disable_warnings(urllib3.exceptions.InsecureRequestWarning)\n",
    "\n",
    "import wos_sdk_utils as wos_util\n",
    "import wml_sdk_utils as wml_util"
   ]
  },
  {
   "cell_type": "markdown",
   "id": "minor-refund",
   "metadata": {
    "id": "d099020b-2f0b-403f-9384-ab66227d5978"
   },
   "source": [
    "# OpenScale Configuration"
   ]
  },
  {
   "cell_type": "code",
   "execution_count": null,
   "id": "rapid-defense",
   "metadata": {
    "id": "e13165fb-f527-46bd-8810-dc8e780efd82",
    "tags": []
   },
   "outputs": [],
   "source": [
    "# SERVICE_PROVIDER_NAME = \"OpenScale Headless Service Provider\"\n",
    "# SUBSCRIPTION_NAME = \"DeepLIIF Monitor wendy 2\"\n",
    "\n",
    "# MODEL_ASSET_ID = \"3956ba10-52f9-40f8-8769-693a4a3ddbc5\"\n",
    "# WML_SPACE_ID = '81c825b4-a1ae-4c1e-8cf3-51b6e3b301b7' \n",
    "\n",
    "# WOS_GUID = '00000000-0000-0000-0000-000000000000'"
   ]
  },
  {
   "cell_type": "code",
   "execution_count": null,
   "id": "fewer-creator",
   "metadata": {
    "id": "34a411f2-329f-4e8f-9207-ad5b984e9ae4",
    "tags": []
   },
   "outputs": [],
   "source": [
    "SERVICE_PROVIDER_NAME = os.environ['SERVICE_PROVIDER_NAME']\n",
    "SUBSCRIPTION_NAME = os.environ['SUBSCRIPTION_NAME']\n",
    "\n",
    "MODEL_ASSET_ID = os.environ['MODEL_ASSET_ID']\n",
    "WML_SPACE_ID = os.environ['WML_SPACE_ID']\n",
    "\n",
    "WOS_GUID = os.environ['WOS_GUID']"
   ]
  },
  {
   "cell_type": "code",
   "execution_count": null,
   "id": "capital-compensation",
   "metadata": {
    "id": "1bee7ffb-46dc-471a-8aae-3c259bda1791",
    "tags": []
   },
   "outputs": [],
   "source": [
    "wos_client = wos_util.get_client()\n",
    "wml_client = wml_util.get_client(space_id=WML_SPACE_ID)"
   ]
  },
  {
   "cell_type": "code",
   "execution_count": null,
   "id": "fitting-dating",
   "metadata": {
    "id": "12473934-e03d-41e1-8b4e-605a2622b895",
    "tags": []
   },
   "outputs": [],
   "source": [
    "metadata_deployment = wml_util.metadata_yml_load(wml_client,'deployment')[MODEL_ASSET_ID]\n",
    "metadata_monitor = wml_util.metadata_yml_load(wml_client,'monitor')"
   ]
  },
  {
   "cell_type": "markdown",
   "id": "finnish-still",
   "metadata": {
    "id": "1c26a1aa-b0f1-4990-be62-a189b7ffe8cb"
   },
   "source": [
    "## 1. Subscribe to Deployment\n",
    "Here we create a dummy subscription because there is no need for OpenScale to communicate with the deployment's scoring endpoint."
   ]
  },
  {
   "cell_type": "code",
   "execution_count": null,
   "id": "proper-dominant",
   "metadata": {
    "id": "89161e5a-609b-418a-a720-c3a9d68becac",
    "tags": []
   },
   "outputs": [],
   "source": [
    "from ibm_cloud_sdk_core.authenticators import BearerTokenAuthenticator\n",
    "from ibm_watson_openscale import *\n",
    "from ibm_watson_openscale.supporting_classes.enums import *\n",
    "from ibm_watson_openscale.supporting_classes import *\n",
    "from ibm_watson_openscale.base_classes.watson_open_scale_v2 import ScoringEndpointRequest\n",
    "from ibm_watson_openscale.base_classes.watson_open_scale_v2 import MonitorMeasurementRequest"
   ]
  },
  {
   "cell_type": "code",
   "execution_count": null,
   "id": "ambient-vatican",
   "metadata": {
    "id": "32c50c01-9d70-45e0-bb73-9c33f3fcab2a",
    "tags": []
   },
   "outputs": [],
   "source": [
    "existing_providers_dict = wos_client.service_providers.list().get_result().to_dict()['service_providers']\n",
    "existing_providers = [sp['entity']['name'] for sp in existing_providers_dict]\n",
    "\n",
    "SERVICE_PROVIDER_ID = next((sp['metadata']['id'] for sp in existing_providers_dict \\\n",
    "                            if sp['entity']['name'] == SERVICE_PROVIDER_NAME))\n",
    "print(f\"Service provider ID: {SERVICE_PROVIDER_ID}\")"
   ]
  },
  {
   "cell_type": "code",
   "execution_count": null,
   "id": "governmental-installation",
   "metadata": {
    "id": "64de8cc3-7355-464c-bfe9-adfac8944689",
    "tags": []
   },
   "outputs": [],
   "source": [
    "wos_client.service_providers.show()"
   ]
  },
  {
   "cell_type": "code",
   "execution_count": null,
   "id": "asian-assistant",
   "metadata": {
    "id": "40360718-21be-4d42-9f02-a05771c7f238",
    "tags": []
   },
   "outputs": [],
   "source": [
    "existing_subscriptions_dict = wos_client.subscriptions.list().get_result().to_dict()['subscriptions']\n",
    "existing_subscriptions = [sp['entity']['asset']['name'] for sp in existing_subscriptions_dict]\n",
    "\n",
    "if not SUBSCRIPTION_NAME in existing_subscriptions:\n",
    "    ASSET_ID = str(uuid.uuid4())\n",
    "    ASSET_NAME = SUBSCRIPTION_NAME\n",
    "    url = ''\n",
    "\n",
    "    ASSET_DEPLOYMENT_ID = str(uuid.uuid4())\n",
    "    ASSET_DEPLOYMENT_NAME = SUBSCRIPTION_NAME\n",
    "    \n",
    "    subscription_details = wos_client.subscriptions.add(\n",
    "        data_mart_id=WOS_GUID,\n",
    "        service_provider_id=SERVICE_PROVIDER_ID,\n",
    "        asset=Asset(\n",
    "            asset_id=ASSET_ID,\n",
    "            name=ASSET_NAME,\n",
    "            url=url,\n",
    "            asset_type=AssetTypes.MODEL,\n",
    "            input_data_type=InputDataType.STRUCTURED,\n",
    "            problem_type=ProblemType.MULTICLASS_CLASSIFICATION\n",
    "        ),\n",
    "        deployment=AssetDeploymentRequest(\n",
    "            deployment_id=ASSET_DEPLOYMENT_ID,\n",
    "            name=ASSET_DEPLOYMENT_NAME,\n",
    "            deployment_type= DeploymentTypes.ONLINE\n",
    "        ),\n",
    "        asset_properties=AssetPropertiesRequest(\n",
    "            probability_fields=['probability']\n",
    "            )\n",
    "    ).result\n",
    "    \n",
    "    SUBSCRIPTION_ID = subscription_details.metadata.id\n",
    "    print(\"Subscription ID: {}\".format(SUBSCRIPTION_ID))\n",
    "else:\n",
    "    SUBSCRIPTION_ID = next((sp['metadata']['id'] for sp in existing_subscriptions_dict \\\n",
    "                            if sp['entity']['asset']['name'] == SUBSCRIPTION_NAME))\n",
    "    print(\"Subscription ID: {}\".format(SUBSCRIPTION_ID))"
   ]
  },
  {
   "cell_type": "code",
   "execution_count": null,
   "id": "perfect-crime",
   "metadata": {
    "id": "1dc5c86e-7dfb-402d-93bc-c54ea18a0251",
    "tags": []
   },
   "outputs": [],
   "source": [
    "wos_client.subscriptions.show()"
   ]
  },
  {
   "cell_type": "markdown",
   "id": "outside-kentucky",
   "metadata": {
    "id": "bfa7583c-92b2-40ae-bf56-200458ee4efc"
   },
   "source": [
    "## 2. Update Deployment Metadata File"
   ]
  },
  {
   "cell_type": "code",
   "execution_count": null,
   "id": "guilty-strategy",
   "metadata": {
    "id": "08b425b3-d4e1-4cfd-9591-174816c4eaea",
    "tags": []
   },
   "outputs": [],
   "source": [
    "metadata_update = {MODEL_ASSET_ID:{'openscale_subscription_id':SUBSCRIPTION_ID}}"
   ]
  },
  {
   "cell_type": "code",
   "execution_count": null,
   "id": "awful-reporter",
   "metadata": {
    "id": "b654488f-4581-44b3-9ad5-6bb4a7741881",
    "tags": []
   },
   "outputs": [],
   "source": [
    "wml_util.metadata_yml_update(metadata_update,wml_client)"
   ]
  },
  {
   "cell_type": "code",
   "execution_count": null,
   "id": "labeled-semester",
   "metadata": {
    "id": "b3cd76fd-fbf3-49d9-803a-953e5ed4a7f6",
    "tags": []
   },
   "outputs": [],
   "source": [
    "metadata_deployment = wml_util.metadata_yml_load(wml_client)[MODEL_ASSET_ID]\n",
    "metadata_deployment"
   ]
  },
  {
   "cell_type": "markdown",
   "id": "skilled-pioneer",
   "metadata": {
    "id": "c80a8f62-2aa3-436b-b85e-a97c0042e743"
   },
   "source": [
    "## 3. Configure Custom Metric Monitors"
   ]
  },
  {
   "cell_type": "markdown",
   "id": "simple-valentine",
   "metadata": {
    "id": "e968edf9-cbd8-4bcb-9d5a-62a320d8125a"
   },
   "source": [
    "### Check existence of custom monitor instance"
   ]
  },
  {
   "cell_type": "code",
   "execution_count": null,
   "id": "superb-magazine",
   "metadata": {
    "id": "980aa2c3-75a2-418f-80dd-66bf470b26ea",
    "tags": []
   },
   "outputs": [],
   "source": [
    "metadata_deployment['openscale_custom_metric_provider'].keys()"
   ]
  },
  {
   "cell_type": "code",
   "execution_count": null,
   "id": "static-prior",
   "metadata": {
    "id": "c2cb7c2b-40b7-4f4d-a6f8-d2fee31b0ba1",
    "tags": []
   },
   "outputs": [],
   "source": [
    "for monitor_id in metadata_deployment['openscale_custom_metric_provider'].keys():\n",
    "    print('*'*20,'checking',monitor_id,'*'*20)\n",
    "    print(wos_util.get_monitor_instance(monitor_id,SUBSCRIPTION_ID,wos_client))"
   ]
  },
  {
   "cell_type": "code",
   "execution_count": null,
   "id": "excited-ethiopia",
   "metadata": {
    "id": "255c2b85-91dd-4fa4-8713-22aa215e9484",
    "tags": []
   },
   "outputs": [],
   "source": [
    "# Openscale MRM service invokes custom metrics deployment url during runtime and wait for the default time of 60 second's to \n",
    "# to check the run status ie finished/Failed and fetch the latest measurement. Increase the wait time, if the runtime deployment \n",
    "# takes more than 60 seconds to compute and publish the custom metrics \n",
    "\n",
    "#Update the wait time here.\n",
    "custom_metrics_wait_time = 360 #time in seconds <update the time here>"
   ]
  },
  {
   "cell_type": "markdown",
   "id": "endangered-embassy",
   "metadata": {
    "id": "5323f4f8-94e1-4ce7-93d8-3abde807ea67"
   },
   "source": [
    "### Create one custom monitor instance per monitor"
   ]
  },
  {
   "cell_type": "code",
   "execution_count": null,
   "id": "handled-tracker",
   "metadata": {
    "id": "42284adb-836f-4290-a47b-72e3a793792f",
    "tags": []
   },
   "outputs": [],
   "source": [
    "for monitor_id in metadata_deployment['openscale_custom_metric_provider'].keys():\n",
    "    monitor_instance_details = wos_util.monitor_instance_create(monitor_id,\n",
    "                                                                metadata_deployment,\n",
    "                                                                metadata_monitor,\n",
    "                                                                custom_metrics_wait_time,\n",
    "                                                                wos_client)\n",
    "    print(monitor_instance_details)"
   ]
  },
  {
   "cell_type": "markdown",
   "id": "impressed-calgary",
   "metadata": {
    "id": "bb4d670b-c757-4b54-8882-4ddb3a77cbe7"
   },
   "source": [
    "### Manual Evaluation"
   ]
  },
  {
   "cell_type": "code",
   "execution_count": null,
   "id": "central-pennsylvania",
   "metadata": {
    "id": "929dd514-83c2-4e7b-9825-1390753c4936",
    "tags": []
   },
   "outputs": [],
   "source": [
    "import uuid\n",
    "from pprint import pprint\n",
    "\n",
    "subscription_id = SUBSCRIPTION_ID\n",
    "for monitor_id in metadata_deployment['openscale_custom_metric_provider'].keys():\n",
    "    print('*'*30,monitor_id,'*'*30)\n",
    "    parameters = {\n",
    "        \"custom_metrics_provider_id\": metadata_monitor[monitor_id]['integrated_system_id'],\n",
    "        \"custom_metrics_wait_time\":   custom_metrics_wait_time,\n",
    "        \"run_details\": {\n",
    "        \"run_id\": str(uuid.uuid4()),\n",
    "        \"run_status\": \"Running\"\n",
    "        }\n",
    "    }\n",
    "\n",
    "    payload= {\n",
    "        \"data_mart_id\" : WOS_GUID,\n",
    "        \"subscription_id\" : subscription_id,\n",
    "        \"custom_monitor_id\" : monitor_id,\n",
    "        \"custom_monitor_instance_id\" : wos_util.get_monitor_instance(monitor_id,subscription_id,wos_client)['metadata']['id'],\n",
    "        \"custom_monitor_instance_params\": parameters\n",
    "\n",
    "    }\n",
    "\n",
    "    input_data= { \"input_data\": [ { \"values\": payload } ]\n",
    "                }\n",
    "\n",
    "#     print(input_data)\n",
    "\n",
    "    job_details = wml_client.deployments.score(metadata_monitor[monitor_id]['wml_deployment_id'], input_data)\n",
    "    pprint(job_details)"
   ]
  }
 ],
 "metadata": {
  "kernelspec": {
   "display_name": "Python 3.8 + GPU with applications",
   "language": "python",
   "name": "python3"
  },
  "language_info": {
   "codemirror_mode": {
    "name": "ipython",
    "version": 3
   },
   "file_extension": ".py",
   "mimetype": "text/x-python",
   "name": "python",
   "nbconvert_exporter": "python",
   "pygments_lexer": "ipython3",
   "version": "3.8.11"
  }
 },
 "nbformat": 4,
 "nbformat_minor": 5
}
