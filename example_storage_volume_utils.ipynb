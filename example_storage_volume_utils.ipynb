{
 "cells": [
  {
   "cell_type": "markdown",
   "id": "attended-italic",
   "metadata": {
    "id": "9cf5f950-4ed6-4229-a35d-36e16828e48d",
    "tags": []
   },
   "source": [
    "# Example Usage of `storage_volume_utils`"
   ]
  },
  {
   "cell_type": "markdown",
   "id": "irish-butter",
   "metadata": {
    "id": "f90bd087-4143-4639-b639-c97b758ebdbe"
   },
   "source": [
    "## Import Module"
   ]
  },
  {
   "cell_type": "code",
   "execution_count": 1,
   "id": "destroyed-balance",
   "metadata": {
    "id": "96de5618-ddde-4d49-8c52-a0ac45a87634",
    "tags": []
   },
   "outputs": [],
   "source": [
    "import os\n",
    "import storage_volume_utils as sv"
   ]
  },
  {
   "cell_type": "code",
   "execution_count": 2,
   "id": "subjective-advocacy",
   "metadata": {
    "id": "27f4e473-4a93-4c50-8eec-b5c782f98299",
    "tags": []
   },
   "outputs": [],
   "source": [
    "# alternatively, you can pass the value to arg volume_display_name in list/download/upload functions\n",
    "os.environ['VOLUME_DISPLAY_NAME'] = 'AdditionalDeepLIIFVolume'"
   ]
  },
  {
   "cell_type": "markdown",
   "id": "dress-graduation",
   "metadata": {
    "id": "cc20d5db-0514-4671-b26b-6da43ed59fae"
   },
   "source": [
    "## Authenticate"
   ]
  },
  {
   "cell_type": "code",
   "execution_count": null,
   "id": "placed-mining",
   "metadata": {
    "id": "bcb706ed-2120-4dea-9459-8214d9a51618",
    "tags": []
   },
   "outputs": [],
   "source": [
    "credentials = {'username':'<your username>',\n",
    "               'api_key':'<your api key>'}\n",
    "\n",
    "token = sv.get_access_token(credentials)\n",
    "\n",
    "# if you are not running the code from Watson Studio environments, specify the token\n",
    "# otherwise, this variable will be set up when the environment starts\n",
    "os.environ['USER_ACCESS_TOKEN'] = token \n",
    "\n",
    "token"
   ]
  },
  {
   "cell_type": "markdown",
   "id": "material-literature",
   "metadata": {
    "id": "5150a746-298b-42f8-ad99-726da5a60365"
   },
   "source": [
    "## List Files on Storage Volume"
   ]
  },
  {
   "cell_type": "code",
   "execution_count": 4,
   "id": "elementary-poster",
   "metadata": {
    "id": "1b360035-3ae7-417c-8d88-bb077b8f68da",
    "tags": []
   },
   "outputs": [
    {
     "data": {
      "text/plain": [
       "['model_eval', 'test', 'test_small']"
      ]
     },
     "execution_count": 4,
     "metadata": {},
     "output_type": "execute_result"
    }
   ],
   "source": [
    "# with no parameter\n",
    "sv.list_files('DeepLIIF_Datasets',params={})"
   ]
  },
  {
   "cell_type": "code",
   "execution_count": 5,
   "id": "female-trinity",
   "metadata": {
    "id": "f4c7dc5a-2257-43ae-86a9-d87f4b51368f",
    "tags": []
   },
   "outputs": [
    {
     "data": {
      "text/plain": [
       "[{'path': 'model_eval',\n",
       "  'type': 'directory',\n",
       "  'content_length': 4096,\n",
       "  'last_modified': 'Tue, 15 Feb 2022 22:34:51 GMT'},\n",
       " {'path': 'test',\n",
       "  'type': 'directory',\n",
       "  'content_length': 65536,\n",
       "  'last_modified': 'Wed, 09 Feb 2022 14:39:29 GMT'},\n",
       " {'path': 'test_small',\n",
       "  'type': 'directory',\n",
       "  'content_length': 4096,\n",
       "  'last_modified': 'Tue, 15 Feb 2022 19:48:51 GMT'}]"
      ]
     },
     "execution_count": 5,
     "metadata": {},
     "output_type": "execute_result"
    }
   ],
   "source": [
    "# with include_details to get metadata\n",
    "sv.list_files('DeepLIIF_Datasets',params={'include_details':'true'})"
   ]
  },
  {
   "cell_type": "code",
   "execution_count": 6,
   "id": "constitutional-blues",
   "metadata": {
    "id": "1bb3f285-445b-4f3b-a305-3d67feadceaf",
    "tags": []
   },
   "outputs": [
    {
     "data": {
      "text/html": [
       "<div>\n",
       "<style scoped>\n",
       "    .dataframe tbody tr th:only-of-type {\n",
       "        vertical-align: middle;\n",
       "    }\n",
       "\n",
       "    .dataframe tbody tr th {\n",
       "        vertical-align: top;\n",
       "    }\n",
       "\n",
       "    .dataframe thead th {\n",
       "        text-align: right;\n",
       "    }\n",
       "</style>\n",
       "<table border=\"1\" class=\"dataframe\">\n",
       "  <thead>\n",
       "    <tr style=\"text-align: right;\">\n",
       "      <th></th>\n",
       "      <th>path</th>\n",
       "      <th>type</th>\n",
       "      <th>content_length</th>\n",
       "      <th>last_modified</th>\n",
       "    </tr>\n",
       "  </thead>\n",
       "  <tbody>\n",
       "    <tr>\n",
       "      <th>0</th>\n",
       "      <td>model_eval</td>\n",
       "      <td>directory</td>\n",
       "      <td>4096</td>\n",
       "      <td>Tue, 15 Feb 2022 22:34:51 GMT</td>\n",
       "    </tr>\n",
       "    <tr>\n",
       "      <th>1</th>\n",
       "      <td>test</td>\n",
       "      <td>directory</td>\n",
       "      <td>65536</td>\n",
       "      <td>Wed, 09 Feb 2022 14:39:29 GMT</td>\n",
       "    </tr>\n",
       "    <tr>\n",
       "      <th>2</th>\n",
       "      <td>test_small</td>\n",
       "      <td>directory</td>\n",
       "      <td>4096</td>\n",
       "      <td>Tue, 15 Feb 2022 19:48:51 GMT</td>\n",
       "    </tr>\n",
       "  </tbody>\n",
       "</table>\n",
       "</div>"
      ],
      "text/plain": [
       "         path       type  content_length                  last_modified\n",
       "0  model_eval  directory            4096  Tue, 15 Feb 2022 22:34:51 GMT\n",
       "1        test  directory           65536  Wed, 09 Feb 2022 14:39:29 GMT\n",
       "2  test_small  directory            4096  Tue, 15 Feb 2022 19:48:51 GMT"
      ]
     },
     "execution_count": 6,
     "metadata": {},
     "output_type": "execute_result"
    }
   ],
   "source": [
    "# with include_details to get metadata and display as a pandas dataframe\n",
    "sv.list_files('DeepLIIF_Datasets',params={'include_details':'true'}, return_df=True)"
   ]
  },
  {
   "cell_type": "code",
   "execution_count": 7,
   "id": "signal-prairie",
   "metadata": {
    "id": "2233942f-052f-410b-8bd7-7c5f9bec3c6b",
    "tags": []
   },
   "outputs": [
    {
     "data": {
      "text/html": [
       "<div>\n",
       "<style scoped>\n",
       "    .dataframe tbody tr th:only-of-type {\n",
       "        vertical-align: middle;\n",
       "    }\n",
       "\n",
       "    .dataframe tbody tr th {\n",
       "        vertical-align: top;\n",
       "    }\n",
       "\n",
       "    .dataframe thead th {\n",
       "        text-align: right;\n",
       "    }\n",
       "</style>\n",
       "<table border=\"1\" class=\"dataframe\">\n",
       "  <thead>\n",
       "    <tr style=\"text-align: right;\">\n",
       "      <th></th>\n",
       "      <th>path</th>\n",
       "      <th>type</th>\n",
       "      <th>content_length</th>\n",
       "      <th>last_modified</th>\n",
       "      <th>file_extension</th>\n",
       "    </tr>\n",
       "  </thead>\n",
       "  <tbody>\n",
       "    <tr>\n",
       "      <th>0</th>\n",
       "      <td>Bladder_38000_38000_0_2.png</td>\n",
       "      <td>file</td>\n",
       "      <td>1758813</td>\n",
       "      <td>Tue, 15 Feb 2022 19:48:51 GMT</td>\n",
       "      <td>.png</td>\n",
       "    </tr>\n",
       "    <tr>\n",
       "      <th>1</th>\n",
       "      <td>Bladder_38000_38000_0_3.png</td>\n",
       "      <td>file</td>\n",
       "      <td>1805763</td>\n",
       "      <td>Tue, 15 Feb 2022 19:48:51 GMT</td>\n",
       "      <td>.png</td>\n",
       "    </tr>\n",
       "    <tr>\n",
       "      <th>2</th>\n",
       "      <td>Bladder_38000_38000_1_0.png</td>\n",
       "      <td>file</td>\n",
       "      <td>1821166</td>\n",
       "      <td>Tue, 15 Feb 2022 19:48:51 GMT</td>\n",
       "      <td>.png</td>\n",
       "    </tr>\n",
       "    <tr>\n",
       "      <th>3</th>\n",
       "      <td>Bladder_38000_38000_1_2.png</td>\n",
       "      <td>file</td>\n",
       "      <td>1783133</td>\n",
       "      <td>Tue, 15 Feb 2022 19:48:51 GMT</td>\n",
       "      <td>.png</td>\n",
       "    </tr>\n",
       "    <tr>\n",
       "      <th>4</th>\n",
       "      <td>Bladder_38000_38000_2_2.png</td>\n",
       "      <td>file</td>\n",
       "      <td>1817230</td>\n",
       "      <td>Tue, 15 Feb 2022 19:48:51 GMT</td>\n",
       "      <td>.png</td>\n",
       "    </tr>\n",
       "    <tr>\n",
       "      <th>5</th>\n",
       "      <td>Bladder_38000_38000_2_3.png</td>\n",
       "      <td>file</td>\n",
       "      <td>1867251</td>\n",
       "      <td>Tue, 15 Feb 2022 19:48:51 GMT</td>\n",
       "      <td>.png</td>\n",
       "    </tr>\n",
       "    <tr>\n",
       "      <th>6</th>\n",
       "      <td>Bladder_38000_38000_3_0.png</td>\n",
       "      <td>file</td>\n",
       "      <td>1804754</td>\n",
       "      <td>Tue, 15 Feb 2022 19:48:51 GMT</td>\n",
       "      <td>.png</td>\n",
       "    </tr>\n",
       "    <tr>\n",
       "      <th>7</th>\n",
       "      <td>Bladder_38000_38000_3_1.png</td>\n",
       "      <td>file</td>\n",
       "      <td>1809860</td>\n",
       "      <td>Tue, 15 Feb 2022 19:48:51 GMT</td>\n",
       "      <td>.png</td>\n",
       "    </tr>\n",
       "    <tr>\n",
       "      <th>8</th>\n",
       "      <td>Bladder_38000_38000_3_2.png</td>\n",
       "      <td>file</td>\n",
       "      <td>1882813</td>\n",
       "      <td>Tue, 15 Feb 2022 19:48:51 GMT</td>\n",
       "      <td>.png</td>\n",
       "    </tr>\n",
       "    <tr>\n",
       "      <th>9</th>\n",
       "      <td>test_output</td>\n",
       "      <td>directory</td>\n",
       "      <td>8192</td>\n",
       "      <td>Tue, 15 Feb 2022 19:48:51 GMT</td>\n",
       "      <td>NaN</td>\n",
       "    </tr>\n",
       "  </tbody>\n",
       "</table>\n",
       "</div>"
      ],
      "text/plain": [
       "                          path       type  content_length  \\\n",
       "0  Bladder_38000_38000_0_2.png       file         1758813   \n",
       "1  Bladder_38000_38000_0_3.png       file         1805763   \n",
       "2  Bladder_38000_38000_1_0.png       file         1821166   \n",
       "3  Bladder_38000_38000_1_2.png       file         1783133   \n",
       "4  Bladder_38000_38000_2_2.png       file         1817230   \n",
       "5  Bladder_38000_38000_2_3.png       file         1867251   \n",
       "6  Bladder_38000_38000_3_0.png       file         1804754   \n",
       "7  Bladder_38000_38000_3_1.png       file         1809860   \n",
       "8  Bladder_38000_38000_3_2.png       file         1882813   \n",
       "9                  test_output  directory            8192   \n",
       "\n",
       "                   last_modified file_extension  \n",
       "0  Tue, 15 Feb 2022 19:48:51 GMT           .png  \n",
       "1  Tue, 15 Feb 2022 19:48:51 GMT           .png  \n",
       "2  Tue, 15 Feb 2022 19:48:51 GMT           .png  \n",
       "3  Tue, 15 Feb 2022 19:48:51 GMT           .png  \n",
       "4  Tue, 15 Feb 2022 19:48:51 GMT           .png  \n",
       "5  Tue, 15 Feb 2022 19:48:51 GMT           .png  \n",
       "6  Tue, 15 Feb 2022 19:48:51 GMT           .png  \n",
       "7  Tue, 15 Feb 2022 19:48:51 GMT           .png  \n",
       "8  Tue, 15 Feb 2022 19:48:51 GMT           .png  \n",
       "9  Tue, 15 Feb 2022 19:48:51 GMT            NaN  "
      ]
     },
     "execution_count": 7,
     "metadata": {},
     "output_type": "execute_result"
    }
   ],
   "source": [
    "# with include_details to get metadata and display as a pandas dataframe\n",
    "sv.list_files('DeepLIIF_Datasets/test_small',params={'include_details':'true'}, return_df=True)"
   ]
  },
  {
   "cell_type": "code",
   "execution_count": 8,
   "id": "crude-buffalo",
   "metadata": {
    "id": "41aac7d3-eae9-49d2-a2c2-af8ad04e89bf",
    "tags": []
   },
   "outputs": [
    {
     "data": {
      "text/html": [
       "<div>\n",
       "<style scoped>\n",
       "    .dataframe tbody tr th:only-of-type {\n",
       "        vertical-align: middle;\n",
       "    }\n",
       "\n",
       "    .dataframe tbody tr th {\n",
       "        vertical-align: top;\n",
       "    }\n",
       "\n",
       "    .dataframe thead th {\n",
       "        text-align: right;\n",
       "    }\n",
       "</style>\n",
       "<table border=\"1\" class=\"dataframe\">\n",
       "  <thead>\n",
       "    <tr style=\"text-align: right;\">\n",
       "      <th></th>\n",
       "      <th>path</th>\n",
       "      <th>type</th>\n",
       "      <th>content_length</th>\n",
       "      <th>last_modified</th>\n",
       "      <th>file_extension</th>\n",
       "    </tr>\n",
       "  </thead>\n",
       "  <tbody>\n",
       "    <tr>\n",
       "      <th>0</th>\n",
       "      <td>Bladder_38000_38000_0_2.png</td>\n",
       "      <td>file</td>\n",
       "      <td>1758813</td>\n",
       "      <td>Tue, 15 Feb 2022 19:48:51 GMT</td>\n",
       "      <td>.png</td>\n",
       "    </tr>\n",
       "    <tr>\n",
       "      <th>1</th>\n",
       "      <td>Bladder_38000_38000_0_3.png</td>\n",
       "      <td>file</td>\n",
       "      <td>1805763</td>\n",
       "      <td>Tue, 15 Feb 2022 19:48:51 GMT</td>\n",
       "      <td>.png</td>\n",
       "    </tr>\n",
       "    <tr>\n",
       "      <th>2</th>\n",
       "      <td>Bladder_38000_38000_1_0.png</td>\n",
       "      <td>file</td>\n",
       "      <td>1821166</td>\n",
       "      <td>Tue, 15 Feb 2022 19:48:51 GMT</td>\n",
       "      <td>.png</td>\n",
       "    </tr>\n",
       "    <tr>\n",
       "      <th>3</th>\n",
       "      <td>Bladder_38000_38000_1_2.png</td>\n",
       "      <td>file</td>\n",
       "      <td>1783133</td>\n",
       "      <td>Tue, 15 Feb 2022 19:48:51 GMT</td>\n",
       "      <td>.png</td>\n",
       "    </tr>\n",
       "    <tr>\n",
       "      <th>4</th>\n",
       "      <td>Bladder_38000_38000_2_2.png</td>\n",
       "      <td>file</td>\n",
       "      <td>1817230</td>\n",
       "      <td>Tue, 15 Feb 2022 19:48:51 GMT</td>\n",
       "      <td>.png</td>\n",
       "    </tr>\n",
       "    <tr>\n",
       "      <th>...</th>\n",
       "      <td>...</td>\n",
       "      <td>...</td>\n",
       "      <td>...</td>\n",
       "      <td>...</td>\n",
       "      <td>...</td>\n",
       "    </tr>\n",
       "    <tr>\n",
       "      <th>77</th>\n",
       "      <td>test_output/Bladder_38000_38000_3_2_Lap2.png</td>\n",
       "      <td>file</td>\n",
       "      <td>1627608</td>\n",
       "      <td>Tue, 15 Feb 2022 19:48:51 GMT</td>\n",
       "      <td>.png</td>\n",
       "    </tr>\n",
       "    <tr>\n",
       "      <th>78</th>\n",
       "      <td>test_output/Bladder_38000_38000_3_2_Marker.png</td>\n",
       "      <td>file</td>\n",
       "      <td>1395759</td>\n",
       "      <td>Tue, 15 Feb 2022 19:48:51 GMT</td>\n",
       "      <td>.png</td>\n",
       "    </tr>\n",
       "    <tr>\n",
       "      <th>79</th>\n",
       "      <td>test_output/Bladder_38000_38000_3_2_Seg.png</td>\n",
       "      <td>file</td>\n",
       "      <td>2031984</td>\n",
       "      <td>Tue, 15 Feb 2022 19:48:51 GMT</td>\n",
       "      <td>.png</td>\n",
       "    </tr>\n",
       "    <tr>\n",
       "      <th>80</th>\n",
       "      <td>test_output/Bladder_38000_38000_3_2_SegOverlai...</td>\n",
       "      <td>file</td>\n",
       "      <td>1598861</td>\n",
       "      <td>Tue, 15 Feb 2022 19:48:51 GMT</td>\n",
       "      <td>.png</td>\n",
       "    </tr>\n",
       "    <tr>\n",
       "      <th>81</th>\n",
       "      <td>test_output/Bladder_38000_38000_3_2_SegRefined...</td>\n",
       "      <td>file</td>\n",
       "      <td>105253</td>\n",
       "      <td>Tue, 15 Feb 2022 19:48:50 GMT</td>\n",
       "      <td>.png</td>\n",
       "    </tr>\n",
       "  </tbody>\n",
       "</table>\n",
       "<p>82 rows × 5 columns</p>\n",
       "</div>"
      ],
      "text/plain": [
       "                                                 path  type  content_length  \\\n",
       "0                         Bladder_38000_38000_0_2.png  file         1758813   \n",
       "1                         Bladder_38000_38000_0_3.png  file         1805763   \n",
       "2                         Bladder_38000_38000_1_0.png  file         1821166   \n",
       "3                         Bladder_38000_38000_1_2.png  file         1783133   \n",
       "4                         Bladder_38000_38000_2_2.png  file         1817230   \n",
       "..                                                ...   ...             ...   \n",
       "77       test_output/Bladder_38000_38000_3_2_Lap2.png  file         1627608   \n",
       "78     test_output/Bladder_38000_38000_3_2_Marker.png  file         1395759   \n",
       "79        test_output/Bladder_38000_38000_3_2_Seg.png  file         2031984   \n",
       "80  test_output/Bladder_38000_38000_3_2_SegOverlai...  file         1598861   \n",
       "81  test_output/Bladder_38000_38000_3_2_SegRefined...  file          105253   \n",
       "\n",
       "                    last_modified file_extension  \n",
       "0   Tue, 15 Feb 2022 19:48:51 GMT           .png  \n",
       "1   Tue, 15 Feb 2022 19:48:51 GMT           .png  \n",
       "2   Tue, 15 Feb 2022 19:48:51 GMT           .png  \n",
       "3   Tue, 15 Feb 2022 19:48:51 GMT           .png  \n",
       "4   Tue, 15 Feb 2022 19:48:51 GMT           .png  \n",
       "..                            ...            ...  \n",
       "77  Tue, 15 Feb 2022 19:48:51 GMT           .png  \n",
       "78  Tue, 15 Feb 2022 19:48:51 GMT           .png  \n",
       "79  Tue, 15 Feb 2022 19:48:51 GMT           .png  \n",
       "80  Tue, 15 Feb 2022 19:48:51 GMT           .png  \n",
       "81  Tue, 15 Feb 2022 19:48:50 GMT           .png  \n",
       "\n",
       "[82 rows x 5 columns]"
      ]
     },
     "execution_count": 8,
     "metadata": {},
     "output_type": "execute_result"
    }
   ],
   "source": [
    "# use recursive = true to fetch files and directories recursively\n",
    "sv.list_files('DeepLIIF_Datasets/test_small',params={'include_details':'true','recursive':'true'}, return_df=True)\n",
    "\n",
    "# this is equivalent to\n",
    "# sv.list_files('DeepLIIF_Datasets/model_eval',return_df=True)"
   ]
  },
  {
   "cell_type": "code",
   "execution_count": 9,
   "id": "alone-ticket",
   "metadata": {
    "id": "dceecb4a-9d7f-437d-88c1-65d224347fb1",
    "tags": []
   },
   "outputs": [
    {
     "data": {
      "text/html": [
       "<div>\n",
       "<style scoped>\n",
       "    .dataframe tbody tr th:only-of-type {\n",
       "        vertical-align: middle;\n",
       "    }\n",
       "\n",
       "    .dataframe tbody tr th {\n",
       "        vertical-align: top;\n",
       "    }\n",
       "\n",
       "    .dataframe thead th {\n",
       "        text-align: right;\n",
       "    }\n",
       "</style>\n",
       "<table border=\"1\" class=\"dataframe\">\n",
       "  <thead>\n",
       "    <tr style=\"text-align: right;\">\n",
       "      <th></th>\n",
       "      <th>path</th>\n",
       "      <th>type</th>\n",
       "      <th>content_length</th>\n",
       "      <th>last_modified</th>\n",
       "      <th>file_extension</th>\n",
       "    </tr>\n",
       "  </thead>\n",
       "  <tbody>\n",
       "    <tr>\n",
       "      <th>0</th>\n",
       "      <td>Bladder_38000_38000_0_2.png</td>\n",
       "      <td>file</td>\n",
       "      <td>1758813</td>\n",
       "      <td>Tue, 15 Feb 2022 19:48:51 GMT</td>\n",
       "      <td>.png</td>\n",
       "    </tr>\n",
       "    <tr>\n",
       "      <th>1</th>\n",
       "      <td>Bladder_38000_38000_0_3.png</td>\n",
       "      <td>file</td>\n",
       "      <td>1805763</td>\n",
       "      <td>Tue, 15 Feb 2022 19:48:51 GMT</td>\n",
       "      <td>.png</td>\n",
       "    </tr>\n",
       "    <tr>\n",
       "      <th>2</th>\n",
       "      <td>Bladder_38000_38000_1_0.png</td>\n",
       "      <td>file</td>\n",
       "      <td>1821166</td>\n",
       "      <td>Tue, 15 Feb 2022 19:48:51 GMT</td>\n",
       "      <td>.png</td>\n",
       "    </tr>\n",
       "    <tr>\n",
       "      <th>3</th>\n",
       "      <td>Bladder_38000_38000_1_2.png</td>\n",
       "      <td>file</td>\n",
       "      <td>1783133</td>\n",
       "      <td>Tue, 15 Feb 2022 19:48:51 GMT</td>\n",
       "      <td>.png</td>\n",
       "    </tr>\n",
       "    <tr>\n",
       "      <th>4</th>\n",
       "      <td>Bladder_38000_38000_2_2.png</td>\n",
       "      <td>file</td>\n",
       "      <td>1817230</td>\n",
       "      <td>Tue, 15 Feb 2022 19:48:51 GMT</td>\n",
       "      <td>.png</td>\n",
       "    </tr>\n",
       "    <tr>\n",
       "      <th>...</th>\n",
       "      <td>...</td>\n",
       "      <td>...</td>\n",
       "      <td>...</td>\n",
       "      <td>...</td>\n",
       "      <td>...</td>\n",
       "    </tr>\n",
       "    <tr>\n",
       "      <th>76</th>\n",
       "      <td>test_output/Bladder_38000_38000_3_2_Lap2.png</td>\n",
       "      <td>file</td>\n",
       "      <td>1627608</td>\n",
       "      <td>Tue, 15 Feb 2022 19:48:51 GMT</td>\n",
       "      <td>.png</td>\n",
       "    </tr>\n",
       "    <tr>\n",
       "      <th>77</th>\n",
       "      <td>test_output/Bladder_38000_38000_3_2_Marker.png</td>\n",
       "      <td>file</td>\n",
       "      <td>1395759</td>\n",
       "      <td>Tue, 15 Feb 2022 19:48:51 GMT</td>\n",
       "      <td>.png</td>\n",
       "    </tr>\n",
       "    <tr>\n",
       "      <th>78</th>\n",
       "      <td>test_output/Bladder_38000_38000_3_2_Seg.png</td>\n",
       "      <td>file</td>\n",
       "      <td>2031984</td>\n",
       "      <td>Tue, 15 Feb 2022 19:48:51 GMT</td>\n",
       "      <td>.png</td>\n",
       "    </tr>\n",
       "    <tr>\n",
       "      <th>79</th>\n",
       "      <td>test_output/Bladder_38000_38000_3_2_SegOverlai...</td>\n",
       "      <td>file</td>\n",
       "      <td>1598861</td>\n",
       "      <td>Tue, 15 Feb 2022 19:48:51 GMT</td>\n",
       "      <td>.png</td>\n",
       "    </tr>\n",
       "    <tr>\n",
       "      <th>80</th>\n",
       "      <td>test_output/Bladder_38000_38000_3_2_SegRefined...</td>\n",
       "      <td>file</td>\n",
       "      <td>105253</td>\n",
       "      <td>Tue, 15 Feb 2022 19:48:50 GMT</td>\n",
       "      <td>.png</td>\n",
       "    </tr>\n",
       "  </tbody>\n",
       "</table>\n",
       "<p>81 rows × 5 columns</p>\n",
       "</div>"
      ],
      "text/plain": [
       "                                                 path  type  content_length  \\\n",
       "0                         Bladder_38000_38000_0_2.png  file         1758813   \n",
       "1                         Bladder_38000_38000_0_3.png  file         1805763   \n",
       "2                         Bladder_38000_38000_1_0.png  file         1821166   \n",
       "3                         Bladder_38000_38000_1_2.png  file         1783133   \n",
       "4                         Bladder_38000_38000_2_2.png  file         1817230   \n",
       "..                                                ...   ...             ...   \n",
       "76       test_output/Bladder_38000_38000_3_2_Lap2.png  file         1627608   \n",
       "77     test_output/Bladder_38000_38000_3_2_Marker.png  file         1395759   \n",
       "78        test_output/Bladder_38000_38000_3_2_Seg.png  file         2031984   \n",
       "79  test_output/Bladder_38000_38000_3_2_SegOverlai...  file         1598861   \n",
       "80  test_output/Bladder_38000_38000_3_2_SegRefined...  file          105253   \n",
       "\n",
       "                    last_modified file_extension  \n",
       "0   Tue, 15 Feb 2022 19:48:51 GMT           .png  \n",
       "1   Tue, 15 Feb 2022 19:48:51 GMT           .png  \n",
       "2   Tue, 15 Feb 2022 19:48:51 GMT           .png  \n",
       "3   Tue, 15 Feb 2022 19:48:51 GMT           .png  \n",
       "4   Tue, 15 Feb 2022 19:48:51 GMT           .png  \n",
       "..                            ...            ...  \n",
       "76  Tue, 15 Feb 2022 19:48:51 GMT           .png  \n",
       "77  Tue, 15 Feb 2022 19:48:51 GMT           .png  \n",
       "78  Tue, 15 Feb 2022 19:48:51 GMT           .png  \n",
       "79  Tue, 15 Feb 2022 19:48:51 GMT           .png  \n",
       "80  Tue, 15 Feb 2022 19:48:50 GMT           .png  \n",
       "\n",
       "[81 rows x 5 columns]"
      ]
     },
     "execution_count": 9,
     "metadata": {},
     "output_type": "execute_result"
    }
   ],
   "source": [
    "# only return files (removing directories)\n",
    "sv.list_files('DeepLIIF_Datasets/test_small',files_only=True, return_df=True)"
   ]
  },
  {
   "cell_type": "code",
   "execution_count": 10,
   "id": "statutory-insider",
   "metadata": {
    "id": "3c0af468-e91b-4490-923c-d08c3f6310d4",
    "tags": []
   },
   "outputs": [
    {
     "data": {
      "text/html": [
       "<div>\n",
       "<style scoped>\n",
       "    .dataframe tbody tr th:only-of-type {\n",
       "        vertical-align: middle;\n",
       "    }\n",
       "\n",
       "    .dataframe tbody tr th {\n",
       "        vertical-align: top;\n",
       "    }\n",
       "\n",
       "    .dataframe thead th {\n",
       "        text-align: right;\n",
       "    }\n",
       "</style>\n",
       "<table border=\"1\" class=\"dataframe\">\n",
       "  <thead>\n",
       "    <tr style=\"text-align: right;\">\n",
       "      <th></th>\n",
       "      <th>path</th>\n",
       "      <th>type</th>\n",
       "      <th>content_length</th>\n",
       "      <th>last_modified</th>\n",
       "      <th>file_extension</th>\n",
       "    </tr>\n",
       "  </thead>\n",
       "  <tbody>\n",
       "    <tr>\n",
       "      <th>0</th>\n",
       "      <td>model_images/Bladder_38000_38000_0_3.json</td>\n",
       "      <td>file</td>\n",
       "      <td>80</td>\n",
       "      <td>Sun, 13 Feb 2022 20:34:50 GMT</td>\n",
       "      <td>.json</td>\n",
       "    </tr>\n",
       "    <tr>\n",
       "      <th>1</th>\n",
       "      <td>model_images/Bladder_38000_38000_0_3_DAPI.png</td>\n",
       "      <td>file</td>\n",
       "      <td>1715331</td>\n",
       "      <td>Sun, 13 Feb 2022 20:34:48 GMT</td>\n",
       "      <td>.png</td>\n",
       "    </tr>\n",
       "    <tr>\n",
       "      <th>2</th>\n",
       "      <td>model_images/Bladder_38000_38000_0_3_Hema.png</td>\n",
       "      <td>file</td>\n",
       "      <td>2299045</td>\n",
       "      <td>Sun, 13 Feb 2022 20:34:47 GMT</td>\n",
       "      <td>.png</td>\n",
       "    </tr>\n",
       "    <tr>\n",
       "      <th>3</th>\n",
       "      <td>model_images/Bladder_38000_38000_0_3_Lap2.png</td>\n",
       "      <td>file</td>\n",
       "      <td>1592745</td>\n",
       "      <td>Sun, 13 Feb 2022 20:34:48 GMT</td>\n",
       "      <td>.png</td>\n",
       "    </tr>\n",
       "    <tr>\n",
       "      <th>4</th>\n",
       "      <td>model_images/Bladder_38000_38000_0_3_Marker.png</td>\n",
       "      <td>file</td>\n",
       "      <td>1317156</td>\n",
       "      <td>Sun, 13 Feb 2022 20:34:49 GMT</td>\n",
       "      <td>.png</td>\n",
       "    </tr>\n",
       "    <tr>\n",
       "      <th>...</th>\n",
       "      <td>...</td>\n",
       "      <td>...</td>\n",
       "      <td>...</td>\n",
       "      <td>...</td>\n",
       "      <td>...</td>\n",
       "    </tr>\n",
       "    <tr>\n",
       "      <th>2131</th>\n",
       "      <td>model_images/Lung_36000_42000_3_3_Lap2.png</td>\n",
       "      <td>file</td>\n",
       "      <td>1618516</td>\n",
       "      <td>Mon, 14 Feb 2022 17:31:03 GMT</td>\n",
       "      <td>.png</td>\n",
       "    </tr>\n",
       "    <tr>\n",
       "      <th>2132</th>\n",
       "      <td>model_images/Lung_36000_42000_3_3_Marker.png</td>\n",
       "      <td>file</td>\n",
       "      <td>1312002</td>\n",
       "      <td>Mon, 14 Feb 2022 17:31:03 GMT</td>\n",
       "      <td>.png</td>\n",
       "    </tr>\n",
       "    <tr>\n",
       "      <th>2133</th>\n",
       "      <td>model_images/Lung_36000_42000_3_3_Seg.png</td>\n",
       "      <td>file</td>\n",
       "      <td>2052445</td>\n",
       "      <td>Mon, 14 Feb 2022 17:31:04 GMT</td>\n",
       "      <td>.png</td>\n",
       "    </tr>\n",
       "    <tr>\n",
       "      <th>2134</th>\n",
       "      <td>model_images/Lung_36000_42000_3_3_SegOverlaid.png</td>\n",
       "      <td>file</td>\n",
       "      <td>1609690</td>\n",
       "      <td>Mon, 14 Feb 2022 17:31:04 GMT</td>\n",
       "      <td>.png</td>\n",
       "    </tr>\n",
       "    <tr>\n",
       "      <th>2135</th>\n",
       "      <td>model_images/Lung_36000_42000_3_3_SegRefined.png</td>\n",
       "      <td>file</td>\n",
       "      <td>112944</td>\n",
       "      <td>Mon, 14 Feb 2022 17:31:04 GMT</td>\n",
       "      <td>.png</td>\n",
       "    </tr>\n",
       "  </tbody>\n",
       "</table>\n",
       "<p>2136 rows × 5 columns</p>\n",
       "</div>"
      ],
      "text/plain": [
       "                                                   path  type  content_length  \\\n",
       "0             model_images/Bladder_38000_38000_0_3.json  file              80   \n",
       "1         model_images/Bladder_38000_38000_0_3_DAPI.png  file         1715331   \n",
       "2         model_images/Bladder_38000_38000_0_3_Hema.png  file         2299045   \n",
       "3         model_images/Bladder_38000_38000_0_3_Lap2.png  file         1592745   \n",
       "4       model_images/Bladder_38000_38000_0_3_Marker.png  file         1317156   \n",
       "...                                                 ...   ...             ...   \n",
       "2131         model_images/Lung_36000_42000_3_3_Lap2.png  file         1618516   \n",
       "2132       model_images/Lung_36000_42000_3_3_Marker.png  file         1312002   \n",
       "2133          model_images/Lung_36000_42000_3_3_Seg.png  file         2052445   \n",
       "2134  model_images/Lung_36000_42000_3_3_SegOverlaid.png  file         1609690   \n",
       "2135   model_images/Lung_36000_42000_3_3_SegRefined.png  file          112944   \n",
       "\n",
       "                      last_modified file_extension  \n",
       "0     Sun, 13 Feb 2022 20:34:50 GMT          .json  \n",
       "1     Sun, 13 Feb 2022 20:34:48 GMT           .png  \n",
       "2     Sun, 13 Feb 2022 20:34:47 GMT           .png  \n",
       "3     Sun, 13 Feb 2022 20:34:48 GMT           .png  \n",
       "4     Sun, 13 Feb 2022 20:34:49 GMT           .png  \n",
       "...                             ...            ...  \n",
       "2131  Mon, 14 Feb 2022 17:31:03 GMT           .png  \n",
       "2132  Mon, 14 Feb 2022 17:31:03 GMT           .png  \n",
       "2133  Mon, 14 Feb 2022 17:31:04 GMT           .png  \n",
       "2134  Mon, 14 Feb 2022 17:31:04 GMT           .png  \n",
       "2135  Mon, 14 Feb 2022 17:31:04 GMT           .png  \n",
       "\n",
       "[2136 rows x 5 columns]"
      ]
     },
     "execution_count": 10,
     "metadata": {},
     "output_type": "execute_result"
    }
   ],
   "source": [
    "# only return files modified within the last 2 days\n",
    "sv.list_files('DeepLIIF_Datasets/model_eval',files_only=True, return_df=True, most_recent=2)"
   ]
  },
  {
   "cell_type": "code",
   "execution_count": 11,
   "id": "small-solomon",
   "metadata": {
    "id": "6d9dd168-160c-4f38-a7d4-dfcf1bb4f9db",
    "tags": []
   },
   "outputs": [
    {
     "data": {
      "text/html": [
       "<div>\n",
       "<style scoped>\n",
       "    .dataframe tbody tr th:only-of-type {\n",
       "        vertical-align: middle;\n",
       "    }\n",
       "\n",
       "    .dataframe tbody tr th {\n",
       "        vertical-align: top;\n",
       "    }\n",
       "\n",
       "    .dataframe thead th {\n",
       "        text-align: right;\n",
       "    }\n",
       "</style>\n",
       "<table border=\"1\" class=\"dataframe\">\n",
       "  <thead>\n",
       "    <tr style=\"text-align: right;\">\n",
       "      <th></th>\n",
       "      <th>path</th>\n",
       "      <th>type</th>\n",
       "      <th>content_length</th>\n",
       "      <th>last_modified</th>\n",
       "      <th>file_extension</th>\n",
       "    </tr>\n",
       "  </thead>\n",
       "  <tbody>\n",
       "    <tr>\n",
       "      <th>0</th>\n",
       "      <td>test_output/Bladder_38000_38000_0_2.json</td>\n",
       "      <td>file</td>\n",
       "      <td>80</td>\n",
       "      <td>Tue, 15 Feb 2022 19:48:50 GMT</td>\n",
       "      <td>.json</td>\n",
       "    </tr>\n",
       "    <tr>\n",
       "      <th>1</th>\n",
       "      <td>test_output/Bladder_38000_38000_0_3.json</td>\n",
       "      <td>file</td>\n",
       "      <td>80</td>\n",
       "      <td>Tue, 15 Feb 2022 19:48:51 GMT</td>\n",
       "      <td>.json</td>\n",
       "    </tr>\n",
       "    <tr>\n",
       "      <th>2</th>\n",
       "      <td>test_output/Bladder_38000_38000_1_0.json</td>\n",
       "      <td>file</td>\n",
       "      <td>80</td>\n",
       "      <td>Tue, 15 Feb 2022 19:48:50 GMT</td>\n",
       "      <td>.json</td>\n",
       "    </tr>\n",
       "    <tr>\n",
       "      <th>3</th>\n",
       "      <td>test_output/Bladder_38000_38000_1_2.json</td>\n",
       "      <td>file</td>\n",
       "      <td>80</td>\n",
       "      <td>Tue, 15 Feb 2022 19:48:51 GMT</td>\n",
       "      <td>.json</td>\n",
       "    </tr>\n",
       "    <tr>\n",
       "      <th>4</th>\n",
       "      <td>test_output/Bladder_38000_38000_2_2.json</td>\n",
       "      <td>file</td>\n",
       "      <td>80</td>\n",
       "      <td>Tue, 15 Feb 2022 19:48:51 GMT</td>\n",
       "      <td>.json</td>\n",
       "    </tr>\n",
       "    <tr>\n",
       "      <th>5</th>\n",
       "      <td>test_output/Bladder_38000_38000_2_3.json</td>\n",
       "      <td>file</td>\n",
       "      <td>80</td>\n",
       "      <td>Tue, 15 Feb 2022 19:48:51 GMT</td>\n",
       "      <td>.json</td>\n",
       "    </tr>\n",
       "    <tr>\n",
       "      <th>6</th>\n",
       "      <td>test_output/Bladder_38000_38000_3_0.json</td>\n",
       "      <td>file</td>\n",
       "      <td>80</td>\n",
       "      <td>Tue, 15 Feb 2022 19:48:51 GMT</td>\n",
       "      <td>.json</td>\n",
       "    </tr>\n",
       "    <tr>\n",
       "      <th>7</th>\n",
       "      <td>test_output/Bladder_38000_38000_3_1.json</td>\n",
       "      <td>file</td>\n",
       "      <td>80</td>\n",
       "      <td>Tue, 15 Feb 2022 19:48:51 GMT</td>\n",
       "      <td>.json</td>\n",
       "    </tr>\n",
       "    <tr>\n",
       "      <th>8</th>\n",
       "      <td>test_output/Bladder_38000_38000_3_2.json</td>\n",
       "      <td>file</td>\n",
       "      <td>80</td>\n",
       "      <td>Tue, 15 Feb 2022 19:48:51 GMT</td>\n",
       "      <td>.json</td>\n",
       "    </tr>\n",
       "  </tbody>\n",
       "</table>\n",
       "</div>"
      ],
      "text/plain": [
       "                                       path  type  content_length  \\\n",
       "0  test_output/Bladder_38000_38000_0_2.json  file              80   \n",
       "1  test_output/Bladder_38000_38000_0_3.json  file              80   \n",
       "2  test_output/Bladder_38000_38000_1_0.json  file              80   \n",
       "3  test_output/Bladder_38000_38000_1_2.json  file              80   \n",
       "4  test_output/Bladder_38000_38000_2_2.json  file              80   \n",
       "5  test_output/Bladder_38000_38000_2_3.json  file              80   \n",
       "6  test_output/Bladder_38000_38000_3_0.json  file              80   \n",
       "7  test_output/Bladder_38000_38000_3_1.json  file              80   \n",
       "8  test_output/Bladder_38000_38000_3_2.json  file              80   \n",
       "\n",
       "                   last_modified file_extension  \n",
       "0  Tue, 15 Feb 2022 19:48:50 GMT          .json  \n",
       "1  Tue, 15 Feb 2022 19:48:51 GMT          .json  \n",
       "2  Tue, 15 Feb 2022 19:48:50 GMT          .json  \n",
       "3  Tue, 15 Feb 2022 19:48:51 GMT          .json  \n",
       "4  Tue, 15 Feb 2022 19:48:51 GMT          .json  \n",
       "5  Tue, 15 Feb 2022 19:48:51 GMT          .json  \n",
       "6  Tue, 15 Feb 2022 19:48:51 GMT          .json  \n",
       "7  Tue, 15 Feb 2022 19:48:51 GMT          .json  \n",
       "8  Tue, 15 Feb 2022 19:48:51 GMT          .json  "
      ]
     },
     "execution_count": 11,
     "metadata": {},
     "output_type": "execute_result"
    }
   ],
   "source": [
    "# file extension filter\n",
    "sv.list_files('DeepLIIF_Datasets/test_small',return_df=True,file_extensions=['.json'])"
   ]
  },
  {
   "cell_type": "markdown",
   "id": "under-session",
   "metadata": {
    "id": "8f796822-1bbe-47ed-b248-f662187c7b8f"
   },
   "source": [
    "## Download from Storage Volume to Local"
   ]
  },
  {
   "cell_type": "code",
   "execution_count": 12,
   "id": "intermediate-airplane",
   "metadata": {
    "id": "2658a052-98e6-4f15-89c0-4f1a82d1996b",
    "tags": []
   },
   "outputs": [],
   "source": [
    "# if no target path is provided, files will be downloaded to your current directory\n",
    "os.makedirs('tmp',exist_ok=True)"
   ]
  },
  {
   "cell_type": "code",
   "execution_count": 13,
   "id": "agreed-royalty",
   "metadata": {
    "id": "10b508f9-193e-4830-8c84-0d618f9a3afb",
    "tags": []
   },
   "outputs": [
    {
     "name": "stdout",
     "output_type": "stream",
     "text": [
      "Success, file downloaded to tmp/DeepLIIF_Datasets/test_small/test_output/Bladder_38000_38000_3_2.json\n"
     ]
    }
   ],
   "source": [
    "# download one file\n",
    "sv.download('DeepLIIF_Datasets/test_small/test_output/Bladder_38000_38000_3_2.json','tmp')"
   ]
  },
  {
   "cell_type": "code",
   "execution_count": 14,
   "id": "defined-future",
   "metadata": {
    "id": "c637146a-e03b-45cc-bc5b-a9d232ffc9f5",
    "tags": []
   },
   "outputs": [
    {
     "name": "stdout",
     "output_type": "stream",
     "text": [
      "Success, file downloaded to tmp/DeepLIIF_Datasets/test_small.zip\n"
     ]
    }
   ],
   "source": [
    "# download a folder\n",
    "sv.download('DeepLIIF_Datasets/test_small/','tmp')"
   ]
  },
  {
   "cell_type": "code",
   "execution_count": 15,
   "id": "direct-olive",
   "metadata": {
    "id": "5b11df57-d4fb-4684-8785-cdb478e0e9bd",
    "tags": []
   },
   "outputs": [
    {
     "name": "stdout",
     "output_type": "stream",
     "text": [
      "Success, file downloaded to tmp/DeepLIIF_Datasets/test_small/test_output/Bladder_38000_38000_3_0.json\n",
      "Success, file downloaded to tmp/DeepLIIF_Datasets/test_small/test_output/Bladder_38000_38000_0_2.json\n",
      "Success, file downloaded to tmp/DeepLIIF_Datasets/test_small.zip\n"
     ]
    }
   ],
   "source": [
    "# download a selected group of files/directories\n",
    "sv.download_batch(['DeepLIIF_Datasets/test_small/test_output/Bladder_38000_38000_3_0.json',\n",
    "                   'DeepLIIF_Datasets/test_small/test_output/Bladder_38000_38000_0_2.json',\n",
    "                   'DeepLIIF_Datasets/test_small/'],\n",
    "                  'tmp')"
   ]
  },
  {
   "cell_type": "markdown",
   "id": "thrown-advance",
   "metadata": {
    "id": "f8d95d20-483f-4dc4-9089-7d92767313a1",
    "tags": []
   },
   "source": [
    "## Upload from Local to Storage Volume"
   ]
  },
  {
   "cell_type": "code",
   "execution_count": 16,
   "id": "changed-mixer",
   "metadata": {
    "id": "f36f5184-8942-4db9-804b-920548d9acc3",
    "tags": []
   },
   "outputs": [],
   "source": [
    "# if no target path is provided, files will be uploaded to storage volume with the same sub-folder structure"
   ]
  },
  {
   "cell_type": "code",
   "execution_count": 17,
   "id": "responsible-retreat",
   "metadata": {
    "id": "8d4b744d-0e17-487b-b863-938ddf0dd0a3",
    "tags": []
   },
   "outputs": [
    {
     "name": "stdout",
     "output_type": "stream",
     "text": [
      "Success, file uploaded to upload_test/tmp/DeepLIIF_Datasets/test_small.zip\n"
     ]
    }
   ],
   "source": [
    "# upload a file\n",
    "sv.upload('tmp/DeepLIIF_Datasets/test_small.zip','upload_test')"
   ]
  },
  {
   "cell_type": "code",
   "execution_count": 18,
   "id": "suburban-finding",
   "metadata": {
    "id": "f31e6c7a-4ab2-40c5-ae83-04d1bacef09d",
    "tags": []
   },
   "outputs": [
    {
     "name": "stdout",
     "output_type": "stream",
     "text": [
      "Success, file uploaded to upload_test/tmp/DeepLIIF_Datasets/test_small/test_output/Bladder_38000_38000_0_2.json\n",
      "Success, file uploaded to upload_test/tmp/DeepLIIF_Datasets/test_small/test_output/Bladder_38000_38000_3_2.json\n",
      "Success, file uploaded to upload_test/tmp/DeepLIIF_Datasets/test_small/test_output/Bladder_38000_38000_3_0.json\n",
      "Success, file uploaded to upload_test/tmp/DeepLIIF_Datasets/test_small/test_output/Bladder_38000_38000_3_2.json.zip\n"
     ]
    }
   ],
   "source": [
    "# upload a folder\n",
    "sv.upload('tmp/DeepLIIF_Datasets/test_small/','upload_test')"
   ]
  },
  {
   "cell_type": "code",
   "execution_count": 19,
   "id": "recognized-canada",
   "metadata": {
    "id": "1ad131d0-ecc1-4f45-92c9-e0a1728c7b56",
    "tags": []
   },
   "outputs": [
    {
     "name": "stdout",
     "output_type": "stream",
     "text": [
      "Success, file uploaded to upload_test/tmp/DeepLIIF_Datasets/test_small/test_output/Bladder_38000_38000_0_2.json\n",
      "Success, file uploaded to upload_test/tmp/DeepLIIF_Datasets/test_small/test_output/Bladder_38000_38000_3_2.json\n",
      "Success, file uploaded to upload_test/tmp/DeepLIIF_Datasets/test_small.zip\n",
      "Success, file uploaded to upload_test/tmp/DeepLIIF_Datasets/test_small/test_output/Bladder_38000_38000_0_2.json\n",
      "Success, file uploaded to upload_test/tmp/DeepLIIF_Datasets/test_small/test_output/Bladder_38000_38000_3_2.json\n",
      "Success, file uploaded to upload_test/tmp/DeepLIIF_Datasets/test_small/test_output/Bladder_38000_38000_3_0.json\n",
      "Success, file uploaded to upload_test/tmp/DeepLIIF_Datasets/test_small/test_output/Bladder_38000_38000_3_2.json.zip\n"
     ]
    }
   ],
   "source": [
    "# upload a selected group of files/directories\n",
    "sv.upload_batch(['tmp/DeepLIIF_Datasets/test_small/test_output/Bladder_38000_38000_0_2.json',\n",
    "                 'tmp/DeepLIIF_Datasets/test_small/test_output/Bladder_38000_38000_3_2.json',\n",
    "                 'tmp/DeepLIIF_Datasets/test_small.zip',\n",
    "                 'tmp/DeepLIIF_Datasets/test_small'],\n",
    "                 'upload_test')"
   ]
  },
  {
   "cell_type": "code",
   "execution_count": null,
   "id": "acoustic-return",
   "metadata": {
    "id": "a81bae4a-463f-47a5-aa4f-67be5241c16e"
   },
   "outputs": [],
   "source": []
  }
 ],
 "metadata": {
  "kernelspec": {
   "display_name": "Python 3.8 + GPU with applications",
   "language": "python",
   "name": "python3"
  },
  "language_info": {
   "codemirror_mode": {
    "name": "ipython",
    "version": 3
   },
   "file_extension": ".py",
   "mimetype": "text/x-python",
   "name": "python",
   "nbconvert_exporter": "python",
   "pygments_lexer": "ipython3",
   "version": "3.8.11"
  }
 },
 "nbformat": 4,
 "nbformat_minor": 5
}
