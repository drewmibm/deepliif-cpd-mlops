{
 "cells": [
  {
   "cell_type": "code",
   "execution_count": 1,
   "id": "alpha-avenue",
   "metadata": {
    "id": "902668b0-670b-4d7f-9021-55ba3ca35f8d",
    "tags": []
   },
   "outputs": [],
   "source": [
    "# !pip install --upgrade ibm-watson-openscale --no-cache | tail -n 1"
   ]
  },
  {
   "cell_type": "code",
   "execution_count": 2,
   "id": "removed-original",
   "metadata": {
    "id": "e2ef5cb6-cd00-4605-b1d1-b6e8a88082da",
    "tags": []
   },
   "outputs": [],
   "source": [
    "import os\n",
    "import json\n",
    "from datetime import datetime, timezone, timedelta\n",
    "import time\n",
    "import uuid\n",
    "from ibm_watson_openscale.base_classes.watson_open_scale_v2 import WMLCredentialsCP4D\n",
    "import urllib3\n",
    "urllib3.disable_warnings(urllib3.exceptions.InsecureRequestWarning)"
   ]
  },
  {
   "cell_type": "markdown",
   "id": "tight-brighton",
   "metadata": {
    "id": "d099020b-2f0b-403f-9384-ab66227d5978"
   },
   "source": [
    "# Create Dummy Headless ML Provider in OpenScale\n",
    "This is used when there is no need for OpenScale to communicate with the deployment (e.g., send scoring request to the endpoint)."
   ]
  },
  {
   "cell_type": "code",
   "execution_count": 3,
   "id": "original-enemy",
   "metadata": {
    "id": "89161e5a-609b-418a-a720-c3a9d68becac",
    "tags": []
   },
   "outputs": [],
   "source": [
    "from ibm_cloud_sdk_core.authenticators import BearerTokenAuthenticator\n",
    "from ibm_watson_openscale import *\n",
    "from ibm_watson_openscale.supporting_classes.enums import *\n",
    "from ibm_watson_openscale.supporting_classes import *\n",
    "from ibm_watson_openscale.base_classes.watson_open_scale_v2 import ScoringEndpointRequest\n",
    "from ibm_watson_openscale.base_classes.watson_open_scale_v2 import MonitorMeasurementRequest"
   ]
  },
  {
   "cell_type": "code",
   "execution_count": 4,
   "id": "incredible-mississippi",
   "metadata": {
    "id": "f09e48b6-6132-480e-88cb-a2556925db2f",
    "tags": []
   },
   "outputs": [
    {
     "data": {
      "text/plain": [
       "'3.0.7'"
      ]
     },
     "execution_count": 4,
     "metadata": {},
     "output_type": "execute_result"
    }
   ],
   "source": [
    "authenticator = BearerTokenAuthenticator(\n",
    "        bearer_token=os.environ['USER_ACCESS_TOKEN']\n",
    "    )\n",
    "\n",
    "wos_client = APIClient(authenticator=authenticator, \n",
    "                       service_url=os.environ['RUNTIME_ENV_APSX_URL'])\n",
    "wos_client.version"
   ]
  },
  {
   "cell_type": "code",
   "execution_count": 5,
   "id": "closed-advertiser",
   "metadata": {
    "id": "9b1f19ab-13b6-403b-825c-a9df0261cf73",
    "tags": []
   },
   "outputs": [
    {
     "data": {
      "text/html": [
       "<HTML>\n",
       "        <body>\n",
       "            <h3>Data Marts</h3>\n",
       "            <table style='border: 1px solid #dddddd; font-family: Courier'>\n",
       "                <th style='border: 1px solid #dddddd'>name</th><th style='border: 1px solid #dddddd'>description</th><th style='border: 1px solid #dddddd'>internal_database</th><th style='border: 1px solid #dddddd'>status</th><th style='border: 1px solid #dddddd'>created_at</th><th style='border: 1px solid #dddddd'>id</th>\n",
       "                <tr><td style='border: 1px solid #dddddd'>AIOSFASTPATHICP-00000000-0000-0000-0000-000000000000</td><td style='border: 1px solid #dddddd'>Data Mart created by OpenScale ExpressPath</td><td style='border: 1px solid #dddddd'>False</td><td style='border: 1px solid #dddddd'>active</td><td style='border: 1px solid #dddddd'>2022-01-13 06:19:21.327000+00:00</td><td style='border: 1px solid #dddddd'>00000000-0000-0000-0000-000000000000</td></tr>\n",
       "            </table>\n",
       "        </body>\n",
       "        </HTML>"
      ],
      "text/plain": [
       "<IPython.core.display.HTML object>"
      ]
     },
     "metadata": {},
     "output_type": "display_data"
    }
   ],
   "source": [
    "wos_client.data_marts.show()"
   ]
  },
  {
   "cell_type": "code",
   "execution_count": 6,
   "id": "detailed-sudan",
   "metadata": {
    "id": "c42c527d-1503-451a-976b-06ab8949dcee",
    "tags": []
   },
   "outputs": [
    {
     "name": "stdout",
     "output_type": "stream",
     "text": [
      "Data Mart ID: 00000000-0000-0000-0000-000000000000\n"
     ]
    }
   ],
   "source": [
    "data_marts = wos_client.data_marts.list().result.data_marts\n",
    "DATA_MART_ID = data_marts[0].metadata.id\n",
    "DATA_MART_ID \n",
    "print(\"Data Mart ID: {}\".format(DATA_MART_ID))"
   ]
  },
  {
   "cell_type": "markdown",
   "id": "matched-jacket",
   "metadata": {
    "id": "b22eacbf-9cdf-4f9e-8f8b-3a6901b69a64"
   },
   "source": [
    "## Create headless service provider"
   ]
  },
  {
   "cell_type": "code",
   "execution_count": 7,
   "id": "controversial-status",
   "metadata": {
    "id": "b9b9a9db-434f-42a8-958f-2f3c8629e538",
    "tags": []
   },
   "outputs": [],
   "source": [
    "SERVICE_PROVIDER_NAME = \"OpenScale Headless Service Provider\"\n",
    "SERVICE_PROVIDER_DESCRIPTION = \"\""
   ]
  },
  {
   "cell_type": "code",
   "execution_count": 8,
   "id": "temporal-andorra",
   "metadata": {
    "id": "32c50c01-9d70-45e0-bb73-9c33f3fcab2a",
    "tags": []
   },
   "outputs": [
    {
     "name": "stdout",
     "output_type": "stream",
     "text": [
      "Service provider ID: 1059fa1d-7dfc-4d7b-8e40-ae8aef72afe1\n"
     ]
    }
   ],
   "source": [
    "existing_providers_dict = wos_client.service_providers.list().get_result().to_dict()['service_providers']\n",
    "existing_providers = [sp['entity']['name'] for sp in existing_providers_dict]\n",
    "\n",
    "if not SERVICE_PROVIDER_NAME in existing_providers:\n",
    "    added_service_provider_result = wos_client.service_providers.add(\n",
    "        name=SERVICE_PROVIDER_NAME,\n",
    "        description=SERVICE_PROVIDER_DESCRIPTION,\n",
    "        service_type=ServiceTypes.CUSTOM_MACHINE_LEARNING,\n",
    "        operational_space_id = \"production\",\n",
    "        credentials=WMLCredentialsCP4D(),\n",
    "        background_mode=False\n",
    "     ).result\n",
    "    \n",
    "    SERVICE_PROVIDER_ID = added_service_provider_result.metadata.id\n",
    "    print(f\"Service provider ID: {SERVICE_PROVIDER_ID}\")\n",
    "else:\n",
    "    SERVICE_PROVIDER_ID = next((sp['metadata']['id'] for sp in existing_providers_dict \\\n",
    "                                if sp['entity']['name'] == SERVICE_PROVIDER_NAME))\n",
    "    print(f\"Service provider ID: {SERVICE_PROVIDER_ID}\")"
   ]
  },
  {
   "cell_type": "code",
   "execution_count": 9,
   "id": "tracked-shirt",
   "metadata": {
    "id": "64de8cc3-7355-464c-bfe9-adfac8944689",
    "tags": []
   },
   "outputs": [
    {
     "data": {
      "text/html": [
       "<HTML>\n",
       "        <body>\n",
       "            <h3>Service Providers</h3>\n",
       "            <table style='border: 1px solid #dddddd; font-family: Courier'>\n",
       "                <th style='border: 1px solid #dddddd'>instance_id</th><th style='border: 1px solid #dddddd'>status</th><th style='border: 1px solid #dddddd'>name</th><th style='border: 1px solid #dddddd'>service_type</th><th style='border: 1px solid #dddddd'>created_at</th><th style='border: 1px solid #dddddd'>id</th>\n",
       "                <tr><td style='border: 1px solid #dddddd'>None</td><td style='border: 1px solid #dddddd'>active</td><td style='border: 1px solid #dddddd'>OpenScale Headless Service Provider - Test</td><td style='border: 1px solid #dddddd'>custom_machine_learning</td><td style='border: 1px solid #dddddd'>2022-02-23 18:40:27.254000+00:00</td><td style='border: 1px solid #dddddd'>046a4364-6c34-4a66-ae25-ed83a9f764ec</td></tr><tr><td style='border: 1px solid #dddddd'>None</td><td style='border: 1px solid #dddddd'>active</td><td style='border: 1px solid #dddddd'>OpenScale Headless Service Provider</td><td style='border: 1px solid #dddddd'>custom_machine_learning</td><td style='border: 1px solid #dddddd'>2022-02-07 19:41:21.084000+00:00</td><td style='border: 1px solid #dddddd'>1059fa1d-7dfc-4d7b-8e40-ae8aef72afe1</td></tr><tr><td style='border: 1px solid #dddddd'>99999999-9999-9999-9999-999999999999</td><td style='border: 1px solid #dddddd'>active</td><td style='border: 1px solid #dddddd'>DeepLIIF WML Prod</td><td style='border: 1px solid #dddddd'>watson_machine_learning</td><td style='border: 1px solid #dddddd'>2022-01-13 19:11:00.897000+00:00</td><td style='border: 1px solid #dddddd'>09d6e718-c51f-41e2-9655-3991b6ac0104</td></tr><tr><td style='border: 1px solid #dddddd'>99999999-9999-9999-9999-999999999999</td><td style='border: 1px solid #dddddd'>active</td><td style='border: 1px solid #dddddd'>DeepLIIF WML Pre-Prod</td><td style='border: 1px solid #dddddd'>watson_machine_learning</td><td style='border: 1px solid #dddddd'>2022-01-13 19:10:38.638000+00:00</td><td style='border: 1px solid #dddddd'>1f4fab35-d955-4b91-a1f3-3dab72491116</td></tr><tr><td style='border: 1px solid #dddddd'>99999999-9999-9999-9999-999999999999</td><td style='border: 1px solid #dddddd'>active</td><td style='border: 1px solid #dddddd'>WOS ExpressPath WML pre_production binding</td><td style='border: 1px solid #dddddd'>watson_machine_learning</td><td style='border: 1px solid #dddddd'>2022-01-13 06:19:31.996000+00:00</td><td style='border: 1px solid #dddddd'>ae0d9dae-8599-400a-bcb9-0b5ab9e004f6</td></tr>\n",
       "            </table>\n",
       "        </body>\n",
       "        </HTML>"
      ],
      "text/plain": [
       "<IPython.core.display.HTML object>"
      ]
     },
     "metadata": {},
     "output_type": "display_data"
    }
   ],
   "source": [
    "wos_client.service_providers.show()"
   ]
  },
  {
   "cell_type": "code",
   "execution_count": null,
   "id": "located-comparison",
   "metadata": {
    "id": "c80a8f62-2aa3-436b-b85e-a97c0042e743"
   },
   "outputs": [],
   "source": []
  }
 ],
 "metadata": {
  "kernelspec": {
   "display_name": "Python 3.8 + GPU with applications",
   "language": "python",
   "name": "python3"
  },
  "language_info": {
   "codemirror_mode": {
    "name": "ipython",
    "version": 3
   },
   "file_extension": ".py",
   "mimetype": "text/x-python",
   "name": "python",
   "nbconvert_exporter": "python",
   "pygments_lexer": "ipython3",
   "version": "3.8.11"
  }
 },
 "nbformat": 4,
 "nbformat_minor": 5
}
