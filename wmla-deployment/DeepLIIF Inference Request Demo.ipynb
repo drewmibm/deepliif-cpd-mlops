{
 "cells": [
  {
   "cell_type": "markdown",
   "id": "proper-future",
   "metadata": {
    "id": "f3dbd92a-d383-4ee4-9e6a-a3e1b442f3ab"
   },
   "source": [
    "# DeepLIIF Inference Request Demo\n",
    "This notebook is inteded to help show the steps of how to deploy a model using cli_mlops.py and test that the model is working.\n",
    "\n",
    "Model gets staged and deployed using the commands in this notebook.  There are examples on how to test an inference request\n",
    "with an image from the storage volume and with a serialized image in the request."
   ]
  },
  {
   "cell_type": "code",
   "execution_count": null,
   "id": "healthy-tension",
   "metadata": {
    "id": "fc587503-48f0-4e7c-bc09-6a91138c3502",
    "tags": []
   },
   "outputs": [],
   "source": [
    "import wml_sdk_utils as wml_util\n",
    "import os\n",
    "import wmla_edi_utils as edi\n",
    "from PIL import Image\n",
    "import requests\n",
    "\n",
    "os.environ['SPACE_ID'] = \"81c825b4-a1ae-4c1e-8cf3-51b6e3b301b7\"\n",
    "os.environ['REST_SERVER'] = \"https://wmla-console-cpd-wmla.apps.cpd.mskcc.org/dlim/v1/\"\n",
    "\n",
    "DLIM_PATH = \"/userfs\"\n",
    "# Add to path\n",
    "if not DLIM_PATH in os.environ['PATH']:\n",
    "    os.environ['PATH'] = os.environ['PATH'] + f':{DLIM_PATH}'\n",
    "    \n",
    "DEPLOYMENT_URL = \"https://wmla-inference-cpd-wmla.apps.cpd.mskcc.org/dlim/v1/inference/deepliif-test\"\n",
    "\n",
    "os.chdir('/userfs')"
   ]
  },
  {
   "cell_type": "markdown",
   "id": "curious-japan",
   "metadata": {
    "id": "6e1bf43a-591e-40e7-aa41-a60949052e40"
   },
   "source": [
    "## Stage and deploy model\n",
    "Model needs to be staged to the WML assets space and then deployed to WMLA.  The following command needs to be run in a terminal session"
   ]
  },
  {
   "cell_type": "code",
   "execution_count": null,
   "id": "cheap-routine",
   "metadata": {
    "id": "2c74958d-ad53-4e0c-8d97-b52d6bb28200",
    "tags": []
   },
   "outputs": [],
   "source": [
    "\n",
    "!python cli_mlops.py prepare stage --path-yml deployment_metadata_cli_example.yml --path-model /mnts/AdditionalDeepLIIFVolume/deepliif-ws-output/Test_Model_wendy_ws_serialized3 --path-dependency /userfs/wmla-deployment/edi-deployment-dirs/deepliif-base -f"
   ]
  },
  {
   "cell_type": "code",
   "execution_count": null,
   "id": "unexpected-addition",
   "metadata": {
    "id": "9f926f43-58e1-4e73-9d07-c0cf3b84de3f",
    "tags": []
   },
   "outputs": [],
   "source": [
    "!python cli_mlops.py deploy stop --name deepliif-test"
   ]
  },
  {
   "cell_type": "code",
   "execution_count": null,
   "id": "irish-stage",
   "metadata": {
    "id": "4859d730-0fcd-44d9-92c3-39a96f041a5b",
    "tags": []
   },
   "outputs": [],
   "source": [
    "!python cli_mlops.py deploy delete --name deepliif-test"
   ]
  },
  {
   "cell_type": "code",
   "execution_count": null,
   "id": "discrete-turtle",
   "metadata": {
    "id": "d1289162-2a87-4271-8740-a4dc0c88b8d8",
    "tags": []
   },
   "outputs": [],
   "source": [
    "!python cli_mlops.py deploy create --model-asset-id 8ec4ed52-a390-4fa1-9114-a48ffd437bc8  --cpd-username *** --cpd-api-key *** --kernel-filename kernel.py --name deepliif-test --dlim-path /home/wsuser/bin --custom-arg CPD_USERNAME=*** --custom-arg CPD_API_KEY=*** --custom-arg VOLUME_DISPLAY_NAME=AdditionalDeepLIIFVolume"
   ]
  },
  {
   "cell_type": "markdown",
   "id": "celtic-florida",
   "metadata": {
    "id": "df06565e-1cfb-4982-96de-4bb7ca3e3a99",
    "tags": []
   },
   "source": [
    "## Image on volume (recommended for large images)"
   ]
  },
  {
   "cell_type": "code",
   "execution_count": null,
   "id": "prime-english",
   "metadata": {
    "id": "2c1a96a6-1531-4a54-805e-187234186d08",
    "tags": []
   },
   "outputs": [],
   "source": [
    "headers = {'Authorization': f'Bearer {os.getenv(\"USER_ACCESS_TOKEN\")}'}\n",
    "data = {\n",
    "        'img_path_on_pvc':'edi_deployments/sample_input_images/22_2_real_A.png',\n",
    "        'save_path_on_pvc':'edi_inference/output_images',\n",
    "        'tile_size': 512,\n",
    "        'images_to_return': 'seg_masks',\n",
    "        }"
   ]
  },
  {
   "cell_type": "code",
   "execution_count": null,
   "id": "given-growing",
   "metadata": {
    "id": "afe66859-f92d-48a9-9c1b-f4d3712279dc",
    "tags": []
   },
   "outputs": [],
   "source": [
    "r = requests.post(DEPLOYMENT_URL, headers=headers,\n",
    "                  json = data, verify = False)\n",
    "r.status_code"
   ]
  },
  {
   "cell_type": "code",
   "execution_count": null,
   "id": "cognitive-award",
   "metadata": {
    "id": "e15b2c10-48ec-44d2-8b21-8f6b57944d0a",
    "tags": []
   },
   "outputs": [],
   "source": [
    "r.json()"
   ]
  },
  {
   "cell_type": "markdown",
   "id": "academic-opera",
   "metadata": {
    "id": "207200bf-19be-4612-80ab-91288be266b8"
   },
   "source": [
    "## Send and return serialized image in request"
   ]
  },
  {
   "cell_type": "code",
   "execution_count": null,
   "id": "satellite-amber",
   "metadata": {
    "id": "e6e9491c-a89d-4cc2-8af9-22d70eb67c92",
    "tags": []
   },
   "outputs": [],
   "source": [
    "local_image = Image.open(\"/mnts/DeepLIIFData/edi_deployments/sample_input_images/22_2_real_A.png\")"
   ]
  },
  {
   "cell_type": "code",
   "execution_count": null,
   "id": "norman-andorra",
   "metadata": {
    "id": "ff0e9ba2-bc81-44ed-8705-a3fd95ad5eea",
    "tags": []
   },
   "outputs": [],
   "source": [
    "headers = {'Authorization': f'Bearer {os.getenv(\"USER_ACCESS_TOKEN\")}'}\n",
    "data = {\n",
    "        'local_input_image': edi.serialize_image(local_image),\n",
    "        'tile_size': 512,\n",
    "        'images_to_return': 'all',\n",
    "        }"
   ]
  },
  {
   "cell_type": "code",
   "execution_count": null,
   "id": "desirable-democrat",
   "metadata": {
    "id": "e375ef8a-76b2-4c5d-bd44-e8ec80e09e30",
    "tags": []
   },
   "outputs": [],
   "source": [
    "r2 = requests.post(DEPLOYMENT_URL, headers=headers,\n",
    "                  json = data, verify = False)\n",
    "r2.status_code"
   ]
  },
  {
   "cell_type": "code",
   "execution_count": null,
   "id": "resident-costs",
   "metadata": {
    "id": "24c0013f-aa93-481e-9abf-f9bf1bd75c5a",
    "tags": []
   },
   "outputs": [],
   "source": [
    "output = r2.json()"
   ]
  },
  {
   "cell_type": "code",
   "execution_count": null,
   "id": "pleasant-diabetes",
   "metadata": {
    "id": "4b1b5104-eee7-485f-8944-404cd9b7900b",
    "tags": []
   },
   "outputs": [],
   "source": [
    "output['images'].keys()"
   ]
  },
  {
   "cell_type": "code",
   "execution_count": null,
   "id": "substantial-passion",
   "metadata": {
    "id": "c0eb7280-17f9-4fa9-8a67-91ce253522b6",
    "tags": []
   },
   "outputs": [],
   "source": [
    "output['msg']"
   ]
  },
  {
   "cell_type": "code",
   "execution_count": null,
   "id": "standing-foundation",
   "metadata": {
    "id": "2ead2198-6c85-4d4f-b4b4-64bafac73932",
    "tags": []
   },
   "outputs": [],
   "source": [
    "Image.open(edi.deserialize_image(output['images']['local_SegOverlaid.png']))"
   ]
  }
 ],
 "metadata": {
  "kernelspec": {
   "display_name": "Python 3.8 + GPU with applications",
   "language": "python",
   "name": "python3"
  },
  "language_info": {
   "codemirror_mode": {
    "name": "ipython",
    "version": 3
   },
   "file_extension": ".py",
   "mimetype": "text/x-python",
   "name": "python",
   "nbconvert_exporter": "python",
   "pygments_lexer": "ipython3",
   "version": "3.8.11"
  }
 },
 "nbformat": 4,
 "nbformat_minor": 5
}
