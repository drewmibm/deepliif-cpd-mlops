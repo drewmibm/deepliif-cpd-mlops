{
 "cells": [
  {
   "cell_type": "markdown",
   "id": "logical-karma",
   "metadata": {
    "id": "45d54f92-01eb-44d4-a195-6bc6bb951aae",
    "tags": []
   },
   "source": [
    "# Example Usage of `wml_sdk_utils`"
   ]
  },
  {
   "cell_type": "markdown",
   "id": "advance-failing",
   "metadata": {
    "id": "2e9bfa0d-37a4-498b-bb70-8c1c1fd8ea7b"
   },
   "source": [
    "## Import Module"
   ]
  },
  {
   "cell_type": "code",
   "execution_count": 1,
   "id": "temporal-cleaners",
   "metadata": {
    "id": "a9b9d84a-3b31-4dad-a1c3-eff58c82eace",
    "tags": []
   },
   "outputs": [],
   "source": [
    "import os\n",
    "import wml_sdk_utils as wml_util"
   ]
  },
  {
   "cell_type": "markdown",
   "id": "nominated-mother",
   "metadata": {
    "id": "c6d6ad27-b1bd-4586-b376-6c7aeabcfcea"
   },
   "source": [
    "## Create WML Client (based on wml sdk)"
   ]
  },
  {
   "cell_type": "code",
   "execution_count": 2,
   "id": "massive-layout",
   "metadata": {
    "id": "8d29c417-dfaa-4864-9db5-0ca8a44bde3a",
    "tags": []
   },
   "outputs": [
    {
     "data": {
      "text/plain": [
       "'1.0.189'"
      ]
     },
     "execution_count": 2,
     "metadata": {},
     "output_type": "execute_result"
    }
   ],
   "source": [
    "# the default credentials look for env var \"USER_ACCESS_TOKEN\"\n",
    "wml_client = wml_util.get_client(space_id='81c825b4-a1ae-4c1e-8cf3-51b6e3b301b7')\n",
    "wml_client.version"
   ]
  },
  {
   "cell_type": "code",
   "execution_count": 3,
   "id": "adverse-thompson",
   "metadata": {
    "id": "23376fe4-69d6-4c44-a9ad-0b58b5dde25e",
    "tags": []
   },
   "outputs": [],
   "source": [
    "# # provide credentials, if not running from Watson Studio environments\n",
    "# credentials = {'url':'<cpd url>',\n",
    "#                'token':'<your token>'}\n",
    "# wml_client = wml_util.get_client(credentials)"
   ]
  },
  {
   "cell_type": "code",
   "execution_count": 4,
   "id": "resistant-fruit",
   "metadata": {
    "id": "10169815-d725-4680-b846-b1de2dff32f5",
    "tags": []
   },
   "outputs": [],
   "source": [
    "# # space id can be configured afterwards too\n",
    "# wml_client = wml_util.get_client()\n",
    "# WML_SPACE_ID='81c825b4-a1ae-4c1e-8cf3-51b6e3b301b7' \n",
    "# wml_client.set.default_space(WML_SPACE_ID)"
   ]
  },
  {
   "cell_type": "markdown",
   "id": "chubby-charles",
   "metadata": {
    "id": "a4338033-221e-43f1-84ec-d5bf2ca61cfe"
   },
   "source": [
    "## List Files (Data Assets)"
   ]
  },
  {
   "cell_type": "code",
   "execution_count": 5,
   "id": "deluxe-constitutional",
   "metadata": {
    "id": "04a6efcb-3ae5-43ad-8259-8af2bd0dec9f",
    "tags": []
   },
   "outputs": [
    {
     "data": {
      "text/plain": [
       "{'68ab91fa-7223-4dce-af14-e7134824a6ab': 'storage_volume_utils.py',\n",
       " '51b6c871-5077-4bf1-ab79-d3f6ab509376': 'DeepLIIF_Statistics.zip',\n",
       " 'a802d162-d59b-4437-9d9e-385d24be661c': 'Test_Model_wendy_ws_serialized.zip'}"
      ]
     },
     "execution_count": 5,
     "metadata": {},
     "output_type": "execute_result"
    }
   ],
   "source": [
    "wml_util.list_files(wml_client)"
   ]
  },
  {
   "cell_type": "markdown",
   "id": "geological-paint",
   "metadata": {
    "id": "165db770-612f-4085-9f56-821205408115"
   },
   "source": [
    "## Download"
   ]
  },
  {
   "cell_type": "code",
   "execution_count": 6,
   "id": "earned-hotel",
   "metadata": {
    "id": "dd40192b-d054-4238-ab4d-241d2f2e1361",
    "tags": []
   },
   "outputs": [],
   "source": [
    "# if no target path is provided, files will be downloaded to your current directory\n",
    "os.makedirs('tmp',exist_ok=True)"
   ]
  },
  {
   "cell_type": "code",
   "execution_count": 7,
   "id": "wooden-brown",
   "metadata": {
    "id": "1b729356-da48-4209-a1dc-2d2d1f32a582",
    "tags": []
   },
   "outputs": [
    {
     "name": "stdout",
     "output_type": "stream",
     "text": [
      "Successfully saved data asset content to file: 'tmp/storage_volume_utils.py'\n"
     ]
    }
   ],
   "source": [
    "# download one file\n",
    "wml_util.download('storage_volume_utils.py',wml_client,'tmp')"
   ]
  },
  {
   "cell_type": "code",
   "execution_count": 8,
   "id": "certain-meaning",
   "metadata": {
    "id": "4313d319-d291-42d3-9c5f-42aa47d0a179",
    "tags": []
   },
   "outputs": [
    {
     "name": "stdout",
     "output_type": "stream",
     "text": [
      "Successfully saved data asset content to file: 'tmp/storage_volume_utils.py'\n",
      "Successfully saved data asset content to file: 'tmp/DeepLIIF_Statistics.zip'\n",
      "Successfully saved data asset content to file: 'tmp/Test_Model_wendy_ws_serialized.zip'\n"
     ]
    }
   ],
   "source": [
    "# download multiple files\n",
    "fns = ['storage_volume_utils.py','DeepLIIF_Statistics.zip','Test_Model_wendy_ws_serialized.zip']\n",
    "wml_util.download_batch(fns,wml_client,'tmp')"
   ]
  },
  {
   "cell_type": "markdown",
   "id": "brave-privilege",
   "metadata": {
    "id": "26f18462-c94c-4968-baf7-7458549310bd"
   },
   "source": [
    "## Upload"
   ]
  },
  {
   "cell_type": "code",
   "execution_count": 9,
   "id": "royal-asian",
   "metadata": {
    "id": "2ba26689-6661-4f49-b74c-792eb655a8ae",
    "tags": []
   },
   "outputs": [
    {
     "name": "stdout",
     "output_type": "stream",
     "text": [
      "Creating data asset...\n",
      "SUCCESS\n",
      "Finished publishing storage_volume_utils.py as storage_volume_utils.py\n"
     ]
    }
   ],
   "source": [
    "# upload one file\n",
    "wml_util.upload('storage_volume_utils.py',wml_client)"
   ]
  },
  {
   "cell_type": "code",
   "execution_count": 10,
   "id": "plain-defendant",
   "metadata": {
    "id": "3d5ed26c-7e37-4d98-877e-2e778bbaf441",
    "tags": []
   },
   "outputs": [
    {
     "name": "stdout",
     "output_type": "stream",
     "text": [
      "Creating data asset...\n",
      "SUCCESS\n",
      "Finished publishing storage_volume_utils.py as storage_volume_utils.py\n",
      "Finished deleting existing old assets with the same name\n"
     ]
    }
   ],
   "source": [
    "# upload one file with overwrite=True, this deletes existing assets with the same name\n",
    "wml_util.upload('storage_volume_utils.py',wml_client,overwrite=True)"
   ]
  },
  {
   "cell_type": "code",
   "execution_count": 11,
   "id": "fancy-establishment",
   "metadata": {
    "id": "fa91a918-82df-44be-afa8-3a7fd76b7b41",
    "tags": []
   },
   "outputs": [
    {
     "name": "stdout",
     "output_type": "stream",
     "text": [
      "Creating data asset...\n",
      "SUCCESS\n",
      "Finished publishing /userfs/tmp/DeepLIIF_Statistics.zip as DeepLIIF_Statistics.zip\n",
      "Finished deleting existing old assets with the same name\n"
     ]
    }
   ],
   "source": [
    "# upload a folder as an archive\n",
    "wml_util.upload('/userfs/deepliif-repo/DeepLIIF_Statistics',wml_client,overwrite=True)"
   ]
  },
  {
   "cell_type": "code",
   "execution_count": 12,
   "id": "labeled-federation",
   "metadata": {
    "id": "21671873-cb3d-4ea4-9328-e47035051eef",
    "tags": []
   },
   "outputs": [
    {
     "name": "stdout",
     "output_type": "stream",
     "text": [
      "Creating data asset...\n",
      "SUCCESS\n",
      "Finished publishing /userfs/storage_volume_utils.py as storage_volume_utils.py\n",
      "Finished deleting existing old assets with the same name\n",
      "Creating data asset...\n",
      "SUCCESS\n",
      "Finished publishing /userfs/tmp/DeepLIIF_Statistics.zip as DeepLIIF_Statistics.zip\n",
      "Finished deleting existing old assets with the same name\n",
      "Creating data asset...\n",
      "SUCCESS\n",
      "Finished publishing /userfs/tmp/Test_Model_wendy_ws_serialized.zip as Test_Model_wendy_ws_serialized.zip\n",
      "Finished deleting existing old assets with the same name\n"
     ]
    }
   ],
   "source": [
    "# upload multiple assets\n",
    "paths = ['/userfs/storage_volume_utils.py', \n",
    "         '/userfs/deepliif-repo/DeepLIIF_Statistics',\n",
    "         '/mnts/AdditionalDeepLIIFVolume/deepliif-ws-output/Test_Model_wendy_ws_serialized']\n",
    "\n",
    "wml_util.upload_batch(paths,wml_client,overwrite=True)"
   ]
  },
  {
   "cell_type": "code",
   "execution_count": null,
   "id": "arctic-hepatitis",
   "metadata": {
    "id": "17823de5-7210-4969-888e-261c9315f971"
   },
   "outputs": [],
   "source": []
  }
 ],
 "metadata": {
  "kernelspec": {
   "display_name": "Python 3.8 + GPU with applications",
   "language": "python",
   "name": "python3"
  },
  "language_info": {
   "codemirror_mode": {
    "name": "ipython",
    "version": 3
   },
   "file_extension": ".py",
   "mimetype": "text/x-python",
   "name": "python",
   "nbconvert_exporter": "python",
   "pygments_lexer": "ipython3",
   "version": "3.8.11"
  }
 },
 "nbformat": 4,
 "nbformat_minor": 5
}
