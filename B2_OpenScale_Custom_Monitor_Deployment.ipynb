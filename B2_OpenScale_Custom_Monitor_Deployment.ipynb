{
 "cells": [
  {
   "cell_type": "markdown",
   "id": "oriented-advancement",
   "metadata": {
    "id": "482cd097-e673-48fa-974b-a37911460a11"
   },
   "source": [
    "# Create Custom Metric Provider for OpenScale\n",
    "This notebook \n",
    "1. creates a deployment of how the metrics in a custom monitor need to be calculated, a.k.a. custom metric provider \n",
    "2. registers the custom metric provider in openscale\n",
    "3. creates the corresponding monitor definition\n",
    "4. updates monitor metadata"
   ]
  },
  {
   "cell_type": "code",
   "execution_count": 1,
   "id": "conventional-selling",
   "metadata": {
    "id": "71e64a8e-dcc5-4a71-893f-688e6d00ac0c",
    "tags": []
   },
   "outputs": [],
   "source": [
    "import os\n",
    "import wml_sdk_utils as wml_util"
   ]
  },
  {
   "cell_type": "code",
   "execution_count": 2,
   "id": "drawn-fraud",
   "metadata": {
    "id": "e8678a0a-c62f-4ab6-8188-dbc9a4ae3cf9",
    "tags": []
   },
   "outputs": [],
   "source": [
    "confs = {'custom_metrics_generic_edited.py':\n",
    "            {'function_asset_name':'Generic Metrics Provider Function wendy',\n",
    "             'function_deployment_name':'Generic Metrics Provider Deployment wendy',\n",
    "             'openscale_integrated_system_name':\"Generic Metrics Provider\",\n",
    "             'openscale_monitor_name':'Generic Metrics',\n",
    "             'openscale_monitor_id':None,\n",
    "             'openscale_monitor_defaults':\n",
    "                {'num_images_total_ground_truth': {'threshold':[5,'lower']},\n",
    "                 'num_images_total_predicted': {'threshold':[40,'lower']},\n",
    "                 'num_images_recent_ground_truth': {'threshold':[5,'lower']},\n",
    "                 'num_images_recent_predicted': {'threshold':[40,'lower']}}\n",
    "             },\n",
    "           'custom_metrics_segmentation_edited.py':\n",
    "            {'function_asset_name':'Segmentation Metrics Provider Function wendy',\n",
    "             'function_deployment_name':'Segmentation Metrics Provider Deployment wendy',\n",
    "             'openscale_integrated_system_name':\"Segmentation Metrics Provider\",\n",
    "             'openscale_monitor_name':'Segmentation Metrics',\n",
    "             'openscale_monitor_id':None,\n",
    "             'openscale_monitor_defaults':\n",
    "                 {'precision': {'threshold':[60,'lower']},\n",
    "                 'precision_positive': {'threshold':[0.6,'lower']},\n",
    "                 'precision_negative': {'threshold':[0.6,'lower']},\n",
    "                 'recall': {'threshold':[15,'lower']},\n",
    "                 'recall_positive': {'threshold':[0.15,'lower']},\n",
    "                 'recall_negative': {'threshold':[0.15,'lower']},\n",
    "                 'f1': {'threshold':[45,'lower']},\n",
    "                 'f1_positive': {'threshold':[0.45,'lower']},\n",
    "                 'f1_negative': {'threshold':[0.45,'lower']},\n",
    "                 'Dice': {'threshold':[25,'lower']},\n",
    "                 'Dice_positive': {'threshold':[0.25,'lower']},\n",
    "                 'Dice_negative': {'threshold':[0.25,'lower']},\n",
    "                 'IOU': {'threshold':[15,'lower']},\n",
    "                 'IOU_positive': {'threshold':[0.15,'lower']},\n",
    "                 'IOU_negative': {'threshold':[0.15,'lower']},\n",
    "                 'PixAcc': {'threshold':[35,'lower']},\n",
    "                 'PixAcc_positive': {'threshold':[0.35,'lower']},\n",
    "                 'PixAcc_negative': {'threshold':[0.35,'lower']}}\n",
    "            }\n",
    "          }"
   ]
  },
  {
   "cell_type": "code",
   "execution_count": 3,
   "id": "special-balance",
   "metadata": {
    "id": "2aa92c1b-d307-4abf-9d7a-d6f6fac796b5",
    "tags": []
   },
   "outputs": [],
   "source": [
    "path_custom_metrics_script = 'custom_metrics_segmentation_edited.py'\n",
    "conf = confs[path_custom_metrics_script]\n",
    "\n",
    "WML_SPACE_ID = '81c825b4-a1ae-4c1e-8cf3-51b6e3b301b7'\n",
    "\n",
    "WOS_GUID = '00000000-0000-0000-0000-000000000000'"
   ]
  },
  {
   "cell_type": "code",
   "execution_count": 4,
   "id": "happy-lawsuit",
   "metadata": {
    "id": "58a1d42d-97ee-4a0b-8d10-a7bb431397aa",
    "tags": []
   },
   "outputs": [
    {
     "data": {
      "text/plain": [
       "'1.0.141'"
      ]
     },
     "execution_count": 4,
     "metadata": {},
     "output_type": "execute_result"
    }
   ],
   "source": [
    "wml_client = wml_util.get_client(space_id=WML_SPACE_ID)\n",
    "wml_client.version"
   ]
  },
  {
   "cell_type": "code",
   "execution_count": 5,
   "id": "entitled-ferry",
   "metadata": {
    "id": "468f6d78-06a0-4db4-9902-6dd493064de6",
    "tags": []
   },
   "outputs": [
    {
     "name": "stdout",
     "output_type": "stream",
     "text": [
      "------------------------------------  --------------------------------------------  ------------------------  ------\n",
      "GUID                                  NAME                                          CREATED                   TYPE\n",
      "69d899cf-19b5-4c4b-9ee1-89c5b7ba401d  Generic Metrics Provider Function wendy       2022-03-10T14:40:04.002Z  python\n",
      "638aaa96-9fec-41af-be97-6457ac87a470  Segmentation Metrics Provider Function wendy  2022-03-10T14:36:19.002Z  python\n",
      "------------------------------------  --------------------------------------------  ------------------------  ------\n"
     ]
    }
   ],
   "source": [
    "wml_client.repository.list_functions()"
   ]
  },
  {
   "cell_type": "markdown",
   "id": "ignored-casino",
   "metadata": {
    "id": "c3e0d2ac-5999-4789-83e0-2e3bbf4b4f26"
   },
   "source": [
    "## 1. Store and Deploy Custom Metrics Provider in the form of a Deployable Python function\n",
    "\n",
    "The Python function receives the required variables, such as the datamart_id, monitor_instance_id, monitor_id, monitor_instance_parameters and subscription_id from the Watson OpenScale service when it is invoked by the custom monitor.\n",
    "\n",
    "In the Python function, add your own logic to compute the custom metrics in the get_metrics method, publish the metrics to the Watson Openscale service and update the status of the run to the finished state in the custom monitor instance.\n",
    "\n",
    "Update the WOS_CREDENTIALS in the Python function."
   ]
  },
  {
   "cell_type": "code",
   "execution_count": 6,
   "id": "desperate-junction",
   "metadata": {
    "id": "582e93f6-97c5-42e3-96c3-b670dbc7b4d5",
    "tags": []
   },
   "outputs": [
    {
     "name": "stdout",
     "output_type": "stream",
     "text": [
      "Deleted deployment Segmentation Metrics Provider Deployment wendy (61793676-80bb-45a0-920e-becdd3b93cea) associated with asset Segmentation Metrics Provider Function wendy (638aaa96-9fec-41af-be97-6457ac87a470).\n",
      "Deleted function asset Segmentation Metrics Provider Function wendy (638aaa96-9fec-41af-be97-6457ac87a470).\n",
      "Function UID = 69148712-9710-4a4b-b80d-866642ed7169\n",
      "69148712-9710-4a4b-b80d-866642ed7169\n"
     ]
    }
   ],
   "source": [
    "function_asset_id = wml_util.function_store(path_custom_metrics_script,wml_client,\n",
    "                                            function_name=conf['function_asset_name'])\n",
    "print(function_asset_id)"
   ]
  },
  {
   "cell_type": "code",
   "execution_count": 7,
   "id": "motivated-plumbing",
   "metadata": {
    "id": "c10b0de2-c082-4280-8eb5-700315662851",
    "tags": []
   },
   "outputs": [
    {
     "name": "stdout",
     "output_type": "stream",
     "text": [
      "\n",
      "\n",
      "#######################################################################################\n",
      "\n",
      "Synchronous deployment creation for uid: '69148712-9710-4a4b-b80d-866642ed7169' started\n",
      "\n",
      "#######################################################################################\n",
      "\n",
      "\n",
      "initializing\n",
      "Note: online_url is deprecated and will be removed in a future release. Use serving_urls instead.\n",
      "....\n",
      "ready\n",
      "\n",
      "\n",
      "------------------------------------------------------------------------------------------------\n",
      "Successfully finished deployment creation, deployment_uid='4183416b-8692-4006-8245-2e2a7f4f0f1b'\n",
      "------------------------------------------------------------------------------------------------\n",
      "\n",
      "\n",
      "4183416b-8692-4006-8245-2e2a7f4f0f1b https://internal-nginx-svc:12443/ml/v4/deployments/4183416b-8692-4006-8245-2e2a7f4f0f1b/predictions?version=2022-03-10\n"
     ]
    }
   ],
   "source": [
    "deployment_id,scoring_url = wml_util.function_deploy(function_asset_id,wml_client,\n",
    "                                                      function_deployment_name=conf['function_deployment_name'])\n",
    "print(deployment_id,scoring_url)"
   ]
  },
  {
   "cell_type": "markdown",
   "id": "silver-decade",
   "metadata": {
    "id": "e774df23-97ce-49f7-b048-9d373baaa33f"
   },
   "source": [
    "## 2. Register in OpenScale"
   ]
  },
  {
   "cell_type": "code",
   "execution_count": 8,
   "id": "indirect-raise",
   "metadata": {
    "id": "c866205c-d01f-4cc3-b86a-5a187cc12066",
    "tags": []
   },
   "outputs": [],
   "source": [
    "from ibm_watson_openscale import *\n",
    "from ibm_watson_openscale.base_classes.watson_open_scale_v2 import *\n",
    "import wos_sdk_utils as wos_util\n",
    "\n",
    "from datetime import datetime, timezone, timedelta\n",
    "import uuid"
   ]
  },
  {
   "cell_type": "code",
   "execution_count": 9,
   "id": "looking-geneva",
   "metadata": {
    "id": "5e16bea0-37cc-4456-9fac-394cecc3560e",
    "tags": []
   },
   "outputs": [
    {
     "data": {
      "text/plain": [
       "'3.0.14'"
      ]
     },
     "execution_count": 9,
     "metadata": {},
     "output_type": "execute_result"
    }
   ],
   "source": [
    "wos_client = wos_util.get_client()\n",
    "wos_client.version"
   ]
  },
  {
   "cell_type": "markdown",
   "id": "aggregate-inspector",
   "metadata": {
    "id": "de959d64-6db5-4451-9eb0-74ce70d90806"
   },
   "source": [
    "Update the custom metrics deployment URL, which is created during the Python function creation in the integrated system. Watson OpenScale invokes the deployment URL at runtime to compute the custom metrics.\n",
    "\n",
    "You must define the authentication type based on the communication with custom metrics deployment. Watson OpenScale supports 2 types of authentication: basic and bearer. If custom metrics deployment accepts the basic authentication type, then provide auth_type=basic otherwise use auth_type=bearer."
   ]
  },
  {
   "cell_type": "code",
   "execution_count": 10,
   "id": "seven-steam",
   "metadata": {
    "id": "59a764a3-1d55-4426-8c69-54abbd2058cf",
    "tags": []
   },
   "outputs": [
    {
     "name": "stdout",
     "output_type": "stream",
     "text": [
      "Deleted integrated system Segmentation Metrics Provider\n"
     ]
    }
   ],
   "source": [
    "# Delete existing custom metrics provider integrated systems if present\n",
    "wos_util.integrated_system_delete(conf['openscale_integrated_system_name'],wos_client)"
   ]
  },
  {
   "cell_type": "code",
   "execution_count": 11,
   "id": "protective-ending",
   "metadata": {
    "id": "54dc10b5-86a9-48d5-92b5-603668bbaa99",
    "tags": []
   },
   "outputs": [],
   "source": [
    "credentials = {}\n",
    "with open(path_custom_metrics_script,'r') as f:\n",
    "    for line in f:\n",
    "        if \"os.environ['USERNAME'] = \" in line:\n",
    "            credentials['username'] = eval(line.replace(\"os.environ['USERNAME'] = \",'').strip())\n",
    "        elif \"os.environ['APIKEY'] = \" in line:\n",
    "            credentials['api_key'] = eval(line.replace(\"os.environ['APIKEY'] = \",'').strip())\n",
    "        else:\n",
    "            pass\n",
    "\n",
    "assert 'username' in credentials and 'api_key' in credentials, 'Either parsing has issue or the information is not included in the script'"
   ]
  },
  {
   "cell_type": "code",
   "execution_count": 12,
   "id": "subject-pocket",
   "metadata": {
    "id": "5954c88b-4919-4301-99bb-7da6faab6c98",
    "tags": []
   },
   "outputs": [
    {
     "name": "stdout",
     "output_type": "stream",
     "text": [
      "54543a45-8785-465f-98d6-b69ff0725d55\n"
     ]
    }
   ],
   "source": [
    "custom_metrics_integrated_system = IntegratedSystems(wos_client).add(\n",
    "    name=conf['openscale_integrated_system_name'],\n",
    "    description=conf['openscale_integrated_system_name'],\n",
    "    type=\"custom_metrics_provider\",\n",
    "    credentials= {\"auth_type\":\"bearer\",\n",
    "                  \"token_info\": {\n",
    "                      \"url\": \"{}/icp4d-api/v1/authorize\".format(os.environ['RUNTIME_ENV_APSX_URL']),\n",
    "                      \"headers\": {\"Content-Type\": \"application/json\",\n",
    "                                  \"Accept\": \"application/json\"},\n",
    "                      \"payload\": {'username':credentials['username'],\n",
    "                                   'api_key':credentials['api_key']},\n",
    "                      \"method\": \"post\"}\n",
    "                 },\n",
    "    connection={\"display_name\": conf['openscale_integrated_system_name'],\n",
    "                \"endpoint\": scoring_url\n",
    "    }).result\n",
    "\n",
    "integrated_system_id = custom_metrics_integrated_system.metadata.id\n",
    "print(integrated_system_id)"
   ]
  },
  {
   "cell_type": "markdown",
   "id": "developmental-circle",
   "metadata": {
    "id": "ba49f419-c235-4665-8fe1-7b9bc90f0968"
   },
   "source": [
    "## 3. Setup custom monitor definition"
   ]
  },
  {
   "cell_type": "code",
   "execution_count": 13,
   "id": "juvenile-hollow",
   "metadata": {
    "id": "7838408d-47f6-4ae4-8124-9ac7caa4f4aa",
    "tags": []
   },
   "outputs": [
    {
     "name": "stdout",
     "output_type": "stream",
     "text": [
      "Deleted existing monitor definition Segmentation Metrics (segmentation_metrics)\n",
      "\n",
      "\n",
      "===================================================================\n",
      "\n",
      " Waiting for end of adding monitor definition segmentation_metrics \n",
      "\n",
      "===================================================================\n",
      "\n",
      "\n",
      "\n",
      "finished\n",
      "\n",
      "-------------------------------------------------\n",
      " Successfully finished adding monitor definition \n",
      "-------------------------------------------------\n",
      "\n",
      "\n",
      "segmentation_metrics\n"
     ]
    }
   ],
   "source": [
    "monitor_id = wos_util.monitor_definition_create(conf['openscale_monitor_name'],conf['openscale_monitor_defaults'],wos_client,overwrite=True)\n",
    "print(monitor_id)"
   ]
  },
  {
   "cell_type": "code",
   "execution_count": 14,
   "id": "wireless-suicide",
   "metadata": {
    "id": "54eb062c-15e1-45cb-b832-0f72e5a0a337",
    "tags": []
   },
   "outputs": [
    {
     "data": {
      "text/html": [
       "<HTML>\n",
       "        <body>\n",
       "            <h3>Monitor definitions</h3>\n",
       "            <table style='border: 1px solid #dddddd; font-family: Courier'>\n",
       "                <th style='border: 1px solid #dddddd'>monitor id</th><th style='border: 1px solid #dddddd'>monitor name</th><th style='border: 1px solid #dddddd'>metrics names</th>\n",
       "                <tr><td style='border: 1px solid #dddddd'>segmentation_metrics</td><td style='border: 1px solid #dddddd'>Segmentation Metrics</td><td style='border: 1px solid #dddddd'>['precision', 'precision_positive', 'precision_negative', 'recall', 'recall_positive', 'recall_negative', 'f1', 'f1_positive', 'f1_negative', 'Dice', 'Dice_positive', 'Dice_negative', 'IOU', 'IOU_positive', 'IOU_negative', 'PixAcc', 'PixAcc_positive', 'PixAcc_negative']</td></tr><tr><td style='border: 1px solid #dddddd'>generic_metrics</td><td style='border: 1px solid #dddddd'>Generic Metrics</td><td style='border: 1px solid #dddddd'>['num_images_total_ground_truth', 'num_images_total_predicted', 'num_images_recent_ground_truth', 'num_images_recent_predicted']</td></tr><tr><td style='border: 1px solid #dddddd'>segmentation_metrics_rich_2</td><td style='border: 1px solid #dddddd'>Segmentation Metrics Rich 2</td><td style='border: 1px solid #dddddd'>['precision', 'precision_positive', 'precision_negative', 'recall', 'recall_positive', 'recall_negative', 'f1', 'f1_positive', 'f1_negative', 'Dice', 'Dice_positive', 'Dice_negative', 'IOU', 'IOU_positive', 'IOU_negative', 'PixAcc', 'PixAcc_positive', 'PixAcc_negative', 'Num_Images']</td></tr><tr><td style='border: 1px solid #dddddd'>segmentation_metrics_rich</td><td style='border: 1px solid #dddddd'>Segmentation Metrics Rich</td><td style='border: 1px solid #dddddd'>['precision', 'precision_positive', 'precision_negative', 'recall', 'recall_positive', 'recall_negative', 'f1', 'f1_positive', 'f1_negative', 'Dice', 'Dice_positive', 'Dice_negative', 'IOU', 'IOU_positive', 'IOU_negative', 'PixAcc', 'PixAcc_positive', 'PixAcc_negative', 'Num_Images']</td></tr><tr><td style='border: 1px solid #dddddd'>segmentation_accuracy</td><td style='border: 1px solid #dddddd'>Segmentation Accuracy</td><td style='border: 1px solid #dddddd'>['dice_score']</td></tr><tr><td style='border: 1px solid #dddddd'>segmentation_accuracy_metrics</td><td style='border: 1px solid #dddddd'>Segmentation Accuracy Metrics</td><td style='border: 1px solid #dddddd'>['Dice Score']</td></tr><tr><td style='border: 1px solid #dddddd'>assurance</td><td style='border: 1px solid #dddddd'>Assurance</td><td style='border: 1px solid #dddddd'>['Uncertainty', 'Confidence']</td></tr><tr><td style='border: 1px solid #dddddd'>fairness</td><td style='border: 1px solid #dddddd'>Fairness</td><td style='border: 1px solid #dddddd'>['Fairness value', 'Average Odds Difference metric value', 'False Discovery Rate Difference metric value', 'Error Rate Difference metric value', 'False Negative Rate Difference metric value', 'False Omission Rate Difference metric value', 'False Positive Rate Difference metric value', 'True Positive Rate Difference metric value']</td></tr><tr><td style='border: 1px solid #dddddd'>performance</td><td style='border: 1px solid #dddddd'>Performance</td><td style='border: 1px solid #dddddd'>['Number of records']</td></tr><tr><td style='border: 1px solid #dddddd'>explainability</td><td style='border: 1px solid #dddddd'>Explainability</td><td style='border: 1px solid #dddddd'>[]</td></tr>\n",
       "            </table>\n",
       "        </body>\n",
       "        </HTML>"
      ],
      "text/plain": [
       "<IPython.core.display.HTML object>"
      ]
     },
     "metadata": {},
     "output_type": "display_data"
    },
    {
     "name": "stdout",
     "output_type": "stream",
     "text": [
      "Note: First 10 records were displayed.\n"
     ]
    }
   ],
   "source": [
    "wos_client.monitor_definitions.show()"
   ]
  },
  {
   "cell_type": "markdown",
   "id": "naked-health",
   "metadata": {
    "id": "f78297b6-bf05-4838-b956-92ca44cd32ee",
    "tags": []
   },
   "source": [
    "## Update Metadata File"
   ]
  },
  {
   "cell_type": "code",
   "execution_count": 15,
   "id": "congressional-backing",
   "metadata": {
    "id": "e830bbc0-eb87-4a4c-876b-ab9e1669e21e",
    "tags": []
   },
   "outputs": [
    {
     "data": {
      "text/plain": [
       "{'segmentation_metrics': {'integrated_system_id': '54543a45-8785-465f-98d6-b69ff0725d55',\n",
       "  'wml_deployment_id': '4183416b-8692-4006-8245-2e2a7f4f0f1b'}}"
      ]
     },
     "execution_count": 15,
     "metadata": {},
     "output_type": "execute_result"
    }
   ],
   "source": [
    "metadata = {monitor_id:\n",
    "            {'integrated_system_id':integrated_system_id,\n",
    "             'wml_deployment_id':deployment_id}}\n",
    "\n",
    "metadata"
   ]
  },
  {
   "cell_type": "code",
   "execution_count": 17,
   "id": "excellent-northeast",
   "metadata": {
    "id": "81bc4408-1770-4457-8bc0-9765e8507a9f",
    "tags": []
   },
   "outputs": [
    {
     "name": "stdout",
     "output_type": "stream",
     "text": [
      "Successfully saved data asset content to file: 'tmp/monitor_metadata.yml'\n",
      "Key segmentation_metrics already exists in yaml file monitor_metadata.yml, updating the values...\n",
      "Writing new metadata in..\n",
      "Creating data asset...\n",
      "SUCCESS\n",
      "Finished publishing tmp/monitor_metadata.yml as monitor_metadata.yml\n",
      "Finished deleting existing old assets with the same name\n"
     ]
    }
   ],
   "source": [
    "# wml_util.metadata_yml_add(metadata,wml_client,metadata_type='monitor')\n",
    "wml_util.metadata_yml_add(metadata,wml_client,metadata_type='monitor',overwrite=True)"
   ]
  },
  {
   "cell_type": "code",
   "execution_count": 18,
   "id": "ideal-netherlands",
   "metadata": {
    "id": "5b17f8cf-4e7a-410e-a4a1-d844cb8d012e",
    "tags": []
   },
   "outputs": [
    {
     "name": "stdout",
     "output_type": "stream",
     "text": [
      "Successfully saved data asset content to file: 'tmp/monitor_metadata.yml'\n"
     ]
    },
    {
     "data": {
      "text/plain": [
       "{'TEST_MONITOR_ID': {'integrated_system_id': '', 'wml_deployment_id': ''},\n",
       " 'generic_metrics': {'integrated_system_id': '3d472886-52c4-4941-b4eb-e6cc8abb887c',\n",
       "  'wml_deployment_id': 'aa4248ea-c3bb-42db-9a87-169f19b8d2a5'},\n",
       " 'segmentation_metrics': {'integrated_system_id': '54543a45-8785-465f-98d6-b69ff0725d55',\n",
       "  'wml_deployment_id': '4183416b-8692-4006-8245-2e2a7f4f0f1b'}}"
      ]
     },
     "execution_count": 18,
     "metadata": {},
     "output_type": "execute_result"
    }
   ],
   "source": [
    "wml_util.metadata_yml_load(wml_client,metadata_type='monitor')"
   ]
  },
  {
   "cell_type": "code",
   "execution_count": null,
   "id": "approximate-arthritis",
   "metadata": {
    "id": "edcd42c4-b952-4e33-978b-dd18da064576"
   },
   "outputs": [],
   "source": []
  }
 ],
 "metadata": {
  "kernelspec": {
   "display_name": "Python 3.8 + GPU with applications",
   "language": "python",
   "name": "python3"
  },
  "language_info": {
   "codemirror_mode": {
    "name": "ipython",
    "version": 3
   },
   "file_extension": ".py",
   "mimetype": "text/x-python",
   "name": "python",
   "nbconvert_exporter": "python",
   "pygments_lexer": "ipython3",
   "version": "3.8.11"
  }
 },
 "nbformat": 4,
 "nbformat_minor": 5
}
