{
 "cells": [
  {
   "cell_type": "markdown",
   "id": "affecting-gather",
   "metadata": {
    "id": "482cd097-e673-48fa-974b-a37911460a11"
   },
   "source": [
    "# Create Custom Metric Provider for OpenScale\n",
    "This notebook \n",
    "1. creates a deployment of how the metrics in a custom monitor need to be calculated, a.k.a. custom metric provider \n",
    "2. registers the custom metric provider in openscale\n",
    "3. creates the corresponding monitor definition\n",
    "4. updates monitor metadata"
   ]
  },
  {
   "cell_type": "code",
   "execution_count": null,
   "id": "cosmetic-first",
   "metadata": {
    "id": "71e64a8e-dcc5-4a71-893f-688e6d00ac0c",
    "tags": []
   },
   "outputs": [],
   "source": [
    "import os\n",
    "from cpd_sdk_plus import wml_sdk_utils as wml_util"
   ]
  },
  {
   "cell_type": "code",
   "execution_count": null,
   "id": "aggregate-blade",
   "metadata": {
    "id": "e8678a0a-c62f-4ab6-8188-dbc9a4ae3cf9",
    "tags": []
   },
   "outputs": [],
   "source": [
    "confs = {'custom_metrics_generic_edited.py':\n",
    "            {'function_asset_name':'Generic Metrics Provider Function wendy',\n",
    "             'function_deployment_name':'Generic Metrics Provider Deployment wendy',\n",
    "             'openscale_integrated_system_name':\"Generic Metrics Provider\",\n",
    "             'openscale_monitor_name':'Generic Metrics v5',\n",
    "             'openscale_monitor_id':None,\n",
    "             'openscale_monitor_defaults':\n",
    "                {'num_images_total_ground_truth': {'threshold':[5,'lower']},\n",
    "                 'num_images_total_predicted': {'threshold':[40,'lower']},\n",
    "                 'num_images_recent_ground_truth': {'threshold':[5,'lower']},\n",
    "                 'num_images_recent_predicted': {'threshold':[40,'lower']}}\n",
    "             },\n",
    "           'custom_metrics_segmentation_edited.py':\n",
    "            {'function_asset_name':'Segmentation Metrics Provider Function wendy',\n",
    "             'function_deployment_name':'Segmentation Metrics Provider Deployment wendy',\n",
    "             'openscale_integrated_system_name':\"Segmentation Metrics Provider\",\n",
    "             'openscale_monitor_name':'Segmentation Metrics v22',\n",
    "             'openscale_monitor_id':None,\n",
    "             'openscale_monitor_defaults':\n",
    "                 {'precision': {'threshold':[60,'lower']},\n",
    "                 'precision_positive': {'threshold':[0.6,'lower']},\n",
    "                 'precision_negative': {'threshold':[0.6,'lower']},\n",
    "                 'recall': {'threshold':[15,'lower']},\n",
    "                 'recall_positive': {'threshold':[0.15,'lower']},\n",
    "                 'recall_negative': {'threshold':[0.15,'lower']},\n",
    "                 'f1': {'threshold':[45,'lower']},\n",
    "                 'f1_positive': {'threshold':[0.45,'lower']},\n",
    "                 'f1_negative': {'threshold':[0.45,'lower']},\n",
    "                 'Dice': {'threshold':[25,'lower']},\n",
    "                 'Dice_positive': {'threshold':[0.25,'lower']},\n",
    "                 'Dice_negative': {'threshold':[0.25,'lower']},\n",
    "                 'IOU': {'threshold':[15,'lower']},\n",
    "                 'IOU_positive': {'threshold':[0.15,'lower']},\n",
    "                 'IOU_negative': {'threshold':[0.15,'lower']},\n",
    "                 'PixAcc': {'threshold':[35,'lower']},\n",
    "                 'PixAcc_positive': {'threshold':[0.35,'lower']},\n",
    "                 'PixAcc_negative': {'threshold':[0.35,'lower']}}\n",
    "            }\n",
    "          }"
   ]
  },
  {
   "cell_type": "code",
   "execution_count": null,
   "id": "threatened-smile",
   "metadata": {
    "id": "2aa92c1b-d307-4abf-9d7a-d6f6fac796b5",
    "tags": []
   },
   "outputs": [],
   "source": [
    "path_custom_metrics_script = 'custom_metrics_segmentation_edited.py'\n",
    "conf = confs[path_custom_metrics_script]\n",
    "\n",
    "WML_SPACE_ID = '81c825b4-a1ae-4c1e-8cf3-51b6e3b301b7'\n",
    "\n",
    "WOS_GUID = '00000000-0000-0000-0000-000000000000'"
   ]
  },
  {
   "cell_type": "code",
   "execution_count": null,
   "id": "referenced-spouse",
   "metadata": {
    "id": "58a1d42d-97ee-4a0b-8d10-a7bb431397aa",
    "tags": []
   },
   "outputs": [],
   "source": [
    "wml_client = wml_util.get_client(space_id=WML_SPACE_ID)\n",
    "wml_client.version"
   ]
  },
  {
   "cell_type": "code",
   "execution_count": null,
   "id": "directed-technique",
   "metadata": {
    "id": "468f6d78-06a0-4db4-9902-6dd493064de6",
    "tags": []
   },
   "outputs": [],
   "source": [
    "wml_client.deployments.list()"
   ]
  },
  {
   "cell_type": "markdown",
   "id": "aquatic-daughter",
   "metadata": {
    "id": "c3e0d2ac-5999-4789-83e0-2e3bbf4b4f26"
   },
   "source": [
    "## 1. Store and Deploy Custom Metrics Provider in the form of a Deployable Python function\n",
    "\n",
    "The Python function receives the required variables, such as the datamart_id, monitor_instance_id, monitor_id, monitor_instance_parameters and subscription_id from the Watson OpenScale service when it is invoked by the custom monitor.\n",
    "\n",
    "In the Python function, add your own logic to compute the custom metrics in the get_metrics method, publish the metrics to the Watson Openscale service and update the status of the run to the finished state in the custom monitor instance.\n",
    "\n",
    "Update the WOS_CREDENTIALS in the Python function."
   ]
  },
  {
   "cell_type": "code",
   "execution_count": null,
   "id": "forced-groove",
   "metadata": {
    "id": "582e93f6-97c5-42e3-96c3-b670dbc7b4d5",
    "tags": []
   },
   "outputs": [],
   "source": [
    "function_asset_id = wml_util.function_store(path_custom_metrics_script,wml_client,\n",
    "                                            function_name=conf['function_asset_name'],\n",
    "                                            software_spec='runtime-22.1-py3.9')\n",
    "print(function_asset_id)"
   ]
  },
  {
   "cell_type": "code",
   "execution_count": null,
   "id": "forty-coffee",
   "metadata": {
    "id": "c10b0de2-c082-4280-8eb5-700315662851",
    "tags": []
   },
   "outputs": [],
   "source": [
    "deployment_id,scoring_url = wml_util.function_deploy(function_asset_id,wml_client,\n",
    "                                                    function_deployment_name=conf['function_deployment_name'])\n",
    "print(deployment_id,scoring_url)"
   ]
  },
  {
   "cell_type": "markdown",
   "id": "electronic-angle",
   "metadata": {
    "id": "e774df23-97ce-49f7-b048-9d373baaa33f"
   },
   "source": [
    "## 2. Register in OpenScale"
   ]
  },
  {
   "cell_type": "code",
   "execution_count": null,
   "id": "square-nightmare",
   "metadata": {
    "id": "c866205c-d01f-4cc3-b86a-5a187cc12066",
    "tags": []
   },
   "outputs": [],
   "source": [
    "from ibm_watson_openscale import *\n",
    "from ibm_watson_openscale.base_classes.watson_open_scale_v2 import *\n",
    "import wos_sdk_utils as wos_util\n",
    "\n",
    "from datetime import datetime, timezone, timedelta\n",
    "import uuid"
   ]
  },
  {
   "cell_type": "code",
   "execution_count": null,
   "id": "altered-attachment",
   "metadata": {
    "id": "5e16bea0-37cc-4456-9fac-394cecc3560e",
    "tags": []
   },
   "outputs": [],
   "source": [
    "wos_client = wos_util.get_client()\n",
    "wos_client.version"
   ]
  },
  {
   "cell_type": "markdown",
   "id": "sorted-commission",
   "metadata": {
    "id": "de959d64-6db5-4451-9eb0-74ce70d90806"
   },
   "source": [
    "Update the custom metrics deployment URL, which is created during the Python function creation in the integrated system. Watson OpenScale invokes the deployment URL at runtime to compute the custom metrics.\n",
    "\n",
    "You must define the authentication type based on the communication with custom metrics deployment. Watson OpenScale supports 2 types of authentication: basic and bearer. If custom metrics deployment accepts the basic authentication type, then provide auth_type=basic otherwise use auth_type=bearer."
   ]
  },
  {
   "cell_type": "code",
   "execution_count": null,
   "id": "pleased-showcase",
   "metadata": {
    "id": "59a764a3-1d55-4426-8c69-54abbd2058cf",
    "tags": []
   },
   "outputs": [],
   "source": [
    "# Delete existing custom metrics provider integrated systems if present\n",
    "wos_util.integrated_system_delete(conf['openscale_integrated_system_name'],wos_client)"
   ]
  },
  {
   "cell_type": "code",
   "execution_count": null,
   "id": "finished-handling",
   "metadata": {
    "id": "54dc10b5-86a9-48d5-92b5-603668bbaa99",
    "tags": []
   },
   "outputs": [],
   "source": [
    "credentials = {}\n",
    "with open(path_custom_metrics_script,'r') as f:\n",
    "    for line in f:\n",
    "        if \"os.environ['USERNAME'] = \" in line:\n",
    "            credentials['username'] = eval(line.replace(\"os.environ['USERNAME'] = \",'').strip())\n",
    "        elif \"os.environ['APIKEY'] = \" in line:\n",
    "            credentials['api_key'] = eval(line.replace(\"os.environ['APIKEY'] = \",'').strip())\n",
    "        else:\n",
    "            pass\n",
    "\n",
    "assert 'username' in credentials and 'api_key' in credentials, 'Either parsing has issue or the information is not included in the script'"
   ]
  },
  {
   "cell_type": "code",
   "execution_count": null,
   "id": "floating-arkansas",
   "metadata": {
    "id": "5954c88b-4919-4301-99bb-7da6faab6c98",
    "tags": []
   },
   "outputs": [],
   "source": [
    "custom_metrics_integrated_system = IntegratedSystems(wos_client).add(\n",
    "    name=conf['openscale_integrated_system_name'],\n",
    "    description=conf['openscale_integrated_system_name'],\n",
    "    type=\"custom_metrics_provider\",\n",
    "    credentials= {\"auth_type\":\"bearer\",\n",
    "                  \"token_info\": {\n",
    "                      \"url\": \"{}/icp4d-api/v1/authorize\".format(os.environ['RUNTIME_ENV_APSX_URL']),\n",
    "                      \"headers\": {\"Content-Type\": \"application/json\",\n",
    "                                  \"Accept\": \"application/json\"},\n",
    "                      \"payload\": {'username':credentials['username'],\n",
    "                                   'api_key':credentials['api_key']},\n",
    "                      \"method\": \"post\"}\n",
    "                 },\n",
    "    connection={\"display_name\": conf['openscale_integrated_system_name'],\n",
    "                \"endpoint\": scoring_url\n",
    "    }).result\n",
    "\n",
    "integrated_system_id = custom_metrics_integrated_system.metadata.id\n",
    "print(integrated_system_id)"
   ]
  },
  {
   "cell_type": "markdown",
   "id": "younger-silly",
   "metadata": {
    "id": "ba49f419-c235-4665-8fe1-7b9bc90f0968"
   },
   "source": [
    "## 3. Setup custom monitor definition"
   ]
  },
  {
   "cell_type": "code",
   "execution_count": null,
   "id": "essential-geometry",
   "metadata": {
    "id": "7838408d-47f6-4ae4-8124-9ac7caa4f4aa",
    "tags": []
   },
   "outputs": [],
   "source": [
    "monitor_id = wos_util.monitor_definition_create(conf['openscale_monitor_name'],conf['openscale_monitor_defaults'],wos_client,overwrite=True)\n",
    "print(monitor_id)"
   ]
  },
  {
   "cell_type": "code",
   "execution_count": null,
   "id": "fifth-stress",
   "metadata": {
    "id": "54eb062c-15e1-45cb-b832-0f72e5a0a337",
    "tags": []
   },
   "outputs": [],
   "source": [
    "wos_client.monitor_definitions.show()"
   ]
  },
  {
   "cell_type": "markdown",
   "id": "cosmetic-omega",
   "metadata": {
    "id": "f78297b6-bf05-4838-b956-92ca44cd32ee",
    "tags": []
   },
   "source": [
    "## Update Metadata File"
   ]
  },
  {
   "cell_type": "code",
   "execution_count": null,
   "id": "still-planning",
   "metadata": {
    "id": "e830bbc0-eb87-4a4c-876b-ab9e1669e21e",
    "tags": []
   },
   "outputs": [],
   "source": [
    "metadata = {monitor_id:\n",
    "            {'integrated_system_id':integrated_system_id,\n",
    "             'wml_deployment_id':deployment_id}}\n",
    "\n",
    "metadata"
   ]
  },
  {
   "cell_type": "code",
   "execution_count": null,
   "id": "stock-spyware",
   "metadata": {
    "id": "81bc4408-1770-4457-8bc0-9765e8507a9f",
    "tags": []
   },
   "outputs": [],
   "source": [
    "# wml_util.metadata_yml_add(metadata,wml_client,metadata_type='monitor')\n",
    "wml_util.metadata_yml_add(metadata,wml_client,metadata_type='monitor',overwrite=True)"
   ]
  },
  {
   "cell_type": "code",
   "execution_count": null,
   "id": "female-yahoo",
   "metadata": {
    "id": "5b17f8cf-4e7a-410e-a4a1-d844cb8d012e",
    "tags": []
   },
   "outputs": [],
   "source": [
    "wml_util.metadata_yml_load(wml_client,metadata_type='monitor')"
   ]
  },
  {
   "cell_type": "code",
   "execution_count": null,
   "id": "biological-barcelona",
   "metadata": {
    "id": "639906ae-f376-4276-b4ff-f66890571e76"
   },
   "outputs": [],
   "source": []
  },
  {
   "cell_type": "code",
   "execution_count": null,
   "id": "accessible-speaking",
   "metadata": {
    "id": "23a32b9c-ad7a-410d-b786-a6346b001d28"
   },
   "outputs": [],
   "source": []
  },
  {
   "cell_type": "code",
   "execution_count": null,
   "id": "hourly-camera",
   "metadata": {
    "id": "b4c59cf5-dfe8-4782-b957-ee9c16e4e715"
   },
   "outputs": [],
   "source": []
  }
 ],
 "metadata": {
  "kernelspec": {
   "display_name": "Python 3.8 with applications",
   "language": "python",
   "name": "python3"
  },
  "language_info": {
   "codemirror_mode": {
    "name": "ipython",
    "version": 3
   },
   "file_extension": ".py",
   "mimetype": "text/x-python",
   "name": "python",
   "nbconvert_exporter": "python",
   "pygments_lexer": "ipython3",
   "version": "3.8.11"
  }
 },
 "nbformat": 4,
 "nbformat_minor": 5
}
