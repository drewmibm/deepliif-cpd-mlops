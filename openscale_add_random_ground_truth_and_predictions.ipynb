{
    "cells": [
     {
      "cell_type": "markdown",
      "id": "bibliographic-estate",
      "metadata": {
       "id": "ab45ec8d-256f-4393-bb71-8a99bcd81958",
       "tags": []
      },
      "source": [
       "# Add Random Ground Truth and Predictions\n",
       "This notebook intends to mimic the real situation where new ground truth data and the corresponding predictions get added once in a while. Here we randomly select a certain amount of input images, derive the predictions, and add both to the storage volume. "
      ]
     },
     {
      "cell_type": "code",
      "execution_count": 1,
      "id": "royal-keyboard",
      "metadata": {
       "id": "f2354b56-f656-4f57-9ebe-d598c3be7358",
       "tags": []
      },
      "outputs": [
       {
        "name": "stdout",
        "output_type": "stream",
        "text": [
         "Requirement already satisfied: dominate in /opt/conda/envs/Python-3.8-CUDA/lib/python3.8/site-packages (2.6.0)\n",
         "Requirement already satisfied: visdom in /opt/conda/envs/Python-3.8-CUDA/lib/python3.8/site-packages (0.1.8.9)\n",
         "Requirement already satisfied: numba in /opt/conda/envs/Python-3.8-CUDA/lib/python3.8/site-packages (0.54.1)\n",
         "Requirement already satisfied: pyzmq in /opt/conda/envs/Python-3.8-CUDA/lib/python3.8/site-packages (from visdom) (20.0.0)\n",
         "Requirement already satisfied: jsonpatch in /opt/conda/envs/Python-3.8-CUDA/lib/python3.8/site-packages (from visdom) (1.32)\n",
         "Requirement already satisfied: numpy>=1.8 in /opt/conda/envs/Python-3.8-CUDA/lib/python3.8/site-packages (from visdom) (1.19.2)\n",
         "Requirement already satisfied: six in /opt/conda/envs/Python-3.8-CUDA/lib/python3.8/site-packages (from visdom) (1.15.0)\n",
         "Requirement already satisfied: tornado in /opt/conda/envs/Python-3.8-CUDA/lib/python3.8/site-packages (from visdom) (6.1)\n",
         "Requirement already satisfied: networkx in /opt/conda/envs/Python-3.8-CUDA/lib/python3.8/site-packages (from visdom) (2.3)\n",
         "Requirement already satisfied: websocket-client in /opt/conda/envs/Python-3.8-CUDA/lib/python3.8/site-packages (from visdom) (1.2.3)\n",
         "Requirement already satisfied: scipy in /opt/conda/envs/Python-3.8-CUDA/lib/python3.8/site-packages (from visdom) (1.4.1)\n",
         "Requirement already satisfied: pillow in /opt/conda/envs/Python-3.8-CUDA/lib/python3.8/site-packages (from visdom) (8.3.1)\n",
         "Requirement already satisfied: requests in /opt/conda/envs/Python-3.8-CUDA/lib/python3.8/site-packages (from visdom) (2.25.1)\n",
         "Requirement already satisfied: setuptools in /opt/conda/envs/Python-3.8-CUDA/lib/python3.8/site-packages (from numba) (52.0.0.post20210125)\n",
         "Requirement already satisfied: llvmlite<0.38,>=0.37.0rc1 in /opt/conda/envs/Python-3.8-CUDA/lib/python3.8/site-packages (from numba) (0.37.0)\n",
         "Requirement already satisfied: jsonpointer>=1.9 in /opt/conda/envs/Python-3.8-CUDA/lib/python3.8/site-packages (from jsonpatch->visdom) (2.2)\n",
         "Requirement already satisfied: decorator>=4.3.0 in /opt/conda/envs/Python-3.8-CUDA/lib/python3.8/site-packages (from networkx->visdom) (5.0.9)\n",
         "Requirement already satisfied: urllib3<1.27,>=1.21.1 in /opt/conda/envs/Python-3.8-CUDA/lib/python3.8/site-packages (from requests->visdom) (1.26.6)\n",
         "Requirement already satisfied: certifi>=2017.4.17 in /opt/conda/envs/Python-3.8-CUDA/lib/python3.8/site-packages (from requests->visdom) (2021.5.30)\n",
         "Requirement already satisfied: chardet<5,>=3.0.2 in /opt/conda/envs/Python-3.8-CUDA/lib/python3.8/site-packages (from requests->visdom) (3.0.4)\n",
         "Requirement already satisfied: idna<3,>=2.5 in /opt/conda/envs/Python-3.8-CUDA/lib/python3.8/site-packages (from requests->visdom) (2.8)\n"
        ]
       }
      ],
      "source": [
       "!pip install dominate visdom numba"
      ]
     },
     {
      "cell_type": "code",
      "execution_count": 2,
      "id": "careful-metabolism",
      "metadata": {
       "id": "2c47de89-4d86-4822-8268-31ae0f484522",
       "tags": []
      },
      "outputs": [],
      "source": [
       "import os\n",
       "import shutil\n",
       "import random\n",
       "import subprocess"
      ]
     },
     {
      "cell_type": "code",
      "execution_count": 3,
      "id": "found-webster",
      "metadata": {
       "id": "424d4231-c366-4d5a-bacc-6c5ccf67ad72",
       "tags": []
      },
      "outputs": [],
      "source": [
       "volume_name = 'AdditionalDeepLIIFVolume'\n",
       "num_files = 5\n",
       "\n",
       "dir_source = f'/mnts/{volume_name}/DeepLIIF_Datasets/test'\n",
       "dir_target = f'/mnts/{volume_name}/DeepLIIF_Datasets/model_eval'"
      ]
     },
     {
      "cell_type": "code",
      "execution_count": 4,
      "id": "rational-marks",
      "metadata": {
       "id": "693ac91f-3b33-473f-bf4c-1632e6615e14",
       "tags": []
      },
      "outputs": [
       {
        "name": "stdout",
        "output_type": "stream",
        "text": [
         "['Lung_34000_34000_3_3.png', 'Lung_26000_34000_2_2.png', 'Lung_28000_32000_0_0.png', 'Lung_34000_26000_0_1.png', 'Lung_32000_32000_2_1.png']\n"
        ]
       }
      ],
      "source": [
       "fns = os.listdir(dir_source) # assume this directory has no sub-directories\n",
       "fns_input = random.sample(fns,num_files)\n",
       "print(fns_input)"
      ]
     },
     {
      "cell_type": "code",
      "execution_count": 5,
      "id": "moving-geology",
      "metadata": {
       "id": "6209feb1-a797-4757-9175-eda9a80c7fef",
       "tags": []
      },
      "outputs": [],
      "source": [
       "dir_target_gt_tmp = f'{dir_target}/gt_images_tmp'\n",
       "dir_target_pred_tmp = f'{dir_target}/model_images_tmp'\n",
       "\n",
       "shutil.rmtree(dir_target_gt_tmp,ignore_errors=True)\n",
       "shutil.rmtree(dir_target_pred_tmp,ignore_errors=True)\n",
       "\n",
       "os.mkdir(dir_target_gt_tmp)\n",
       "os.mkdir(dir_target_pred_tmp)"
      ]
     },
     {
      "cell_type": "code",
      "execution_count": 6,
      "id": "indie-touch",
      "metadata": {
       "id": "b943c913-72c6-4045-94d2-892306308cbc",
       "tags": []
      },
      "outputs": [],
      "source": [
       "for fn in fns_input:\n",
       "    shutil.copy2(f'{dir_source}/{fn}',dir_target_gt_tmp)"
      ]
     },
     {
      "cell_type": "code",
      "execution_count": 7,
      "id": "aboriginal-mayor",
      "metadata": {
       "id": "c6cbac20-dc02-4a98-8c8d-b3aa35e2a88a",
       "tags": []
      },
      "outputs": [
       {
        "name": "stdout",
        "output_type": "stream",
        "text": [
         "CPU times: user 21 µs, sys: 5 µs, total: 26 µs\n",
         "Wall time: 29.6 µs\n"
        ]
       }
      ],
      "source": [
       "%%time\n",
       "path_script = '/userfs/deepliif-repo/cli.py'\n",
       "path_model = f'/mnts/{volume_name}/deepliif-ws-output/Test_Model_wendy_ws'\n",
       "\n",
       "os.environ['DEEPLIIF_SEED'] = 'None'\n",
       "os.environ['DEEPLIIF_MODEL_DIR'] = path_model\n",
       "# out = subprocess.check_output(f'python {path_script} test --input-dir {dir_target_gt_tmp} --output-dir {dir_target_pred_tmp}',shell=True)\n",
       "# print(out.decode())"
      ]
     },
     {
      "cell_type": "code",
      "execution_count": 8,
      "id": "stuffed-belief",
      "metadata": {
       "id": "b6fd04d9-a833-452f-9b08-a3ca9576df5e",
       "tags": []
      },
      "outputs": [
       {
        "name": "stdout",
        "output_type": "stream",
        "text": [
         "\u001b[?25lProcessing 5 images  [####################################]  100%                                    \u001b[?25h\n",
         "CPU times: user 436 ms, sys: 78.9 ms, total: 515 ms\n",
         "Wall time: 36.6 s\n"
        ]
       }
      ],
      "source": [
       "%%time\n",
       "!python /userfs/deepliif-repo/cli.py test --input-dir /mnts/AdditionalDeepLIIFVolume/DeepLIIF_Datasets/model_eval/gt_images_tmp --output-dir /mnts/AdditionalDeepLIIFVolume/DeepLIIF_Datasets/model_eval/model_images_tmp"
      ]
     },
     {
      "cell_type": "code",
      "execution_count": 9,
      "id": "computational-practitioner",
      "metadata": {
       "id": "bc574d7c-2450-4338-a530-ff0f0d9328e1",
       "tags": []
      },
      "outputs": [],
      "source": [
       "dir_target_gt = f'{dir_target}/gt_images'\n",
       "dir_target_pred = f'{dir_target}/model_images'"
      ]
     },
     {
      "cell_type": "code",
      "execution_count": 10,
      "id": "boolean-delaware",
      "metadata": {
       "id": "d6d6268e-8288-4a9f-9d11-9e87bb5c28d9",
       "tags": []
      },
      "outputs": [
       {
        "name": "stdout",
        "output_type": "stream",
        "text": [
         "Before:\n",
         "/mnts/AdditionalDeepLIIFVolume/DeepLIIF_Datasets/model_eval/gt_images 6\n",
         "\n",
         "/mnts/AdditionalDeepLIIFVolume/DeepLIIF_Datasets/model_eval/model_images 41\n",
         "\n"
        ]
       }
      ],
      "source": [
       "print('Before:')\n",
       "out = subprocess.check_output(f'ls -lh {dir_target_gt} | wc -l',shell=True)\n",
       "print(dir_target_gt,out.decode())\n",
       "out = subprocess.check_output(f'ls -lh {dir_target_pred} | wc -l',shell=True)\n",
       "print(dir_target_pred,out.decode())"
      ]
     },
     {
      "cell_type": "code",
      "execution_count": 11,
      "id": "sixth-tuner",
      "metadata": {
       "id": "1d63e3e4-3f1b-4ca8-9f7a-608e05f3fd73",
       "tags": []
      },
      "outputs": [],
      "source": [
       "for fn in os.listdir(dir_target_gt_tmp):\n",
       "    shutil.copy2(f'{dir_target_gt_tmp}/{fn}',dir_target_gt)\n",
       "    subprocess.run(f'touch {dir_target_gt}/{fn}',shell=True) # shutil.copy2 keeps the original timestamp\n",
       "    \n",
       "for fn in os.listdir(dir_target_pred_tmp):\n",
       "    shutil.copy2(f'{dir_target_pred_tmp}/{fn}',dir_target_pred)"
      ]
     },
     {
      "cell_type": "code",
      "execution_count": 12,
      "id": "clean-wireless",
      "metadata": {
       "id": "98713ad2-4747-4305-9f20-c841e72e6df3",
       "tags": []
      },
      "outputs": [
       {
        "name": "stdout",
        "output_type": "stream",
        "text": [
         "After:\n",
         "/mnts/AdditionalDeepLIIFVolume/DeepLIIF_Datasets/model_eval/gt_images 11\n",
         "\n",
         "/mnts/AdditionalDeepLIIFVolume/DeepLIIF_Datasets/model_eval/model_images 81\n",
         "\n"
        ]
       }
      ],
      "source": [
       "print('After:')\n",
       "out = subprocess.check_output(f'ls -lh {dir_target_gt} | wc -l',shell=True)\n",
       "print(dir_target_gt,out.decode())\n",
       "out = subprocess.check_output(f'ls -lh {dir_target_pred} | wc -l',shell=True)\n",
       "print(dir_target_pred,out.decode())"
      ]
     },
     {
      "cell_type": "code",
      "execution_count": 13,
      "id": "polar-signal",
      "metadata": {
       "id": "4970c1e1-9f72-4d07-a871-41514f063295",
       "tags": []
      },
      "outputs": [],
      "source": [
       "shutil.rmtree(dir_target_gt_tmp,ignore_errors=True)\n",
       "shutil.rmtree(dir_target_pred_tmp,ignore_errors=True)"
      ]
     },
     {
      "cell_type": "code",
      "execution_count": null,
      "id": "sorted-antarctica",
      "metadata": {
       "id": "b1783cbc-5f14-48b9-b033-1a7799fa6062"
      },
      "outputs": [],
      "source": []
     }
    ],
    "metadata": {
     "kernelspec": {
      "display_name": "Python 3.8 + GPU with applications",
      "language": "python",
      "name": "python3"
     },
     "language_info": {
      "codemirror_mode": {
       "name": "ipython",
       "version": 3
      },
      "file_extension": ".py",
      "mimetype": "text/x-python",
      "name": "python",
      "nbconvert_exporter": "python",
      "pygments_lexer": "ipython3",
      "version": "3.8.11"
     }
    },
    "nbformat": 4,
    "nbformat_minor": 5
   }