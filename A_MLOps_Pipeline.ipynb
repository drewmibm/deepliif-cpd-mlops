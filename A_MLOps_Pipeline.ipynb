{
 "cells": [
  {
   "cell_type": "markdown",
   "id": "natural-cabinet",
   "metadata": {
    "id": "a2868006-8dec-42f4-9520-b7ba65bba0c4",
    "tags": []
   },
   "source": [
    "# MLOps: Deploy and Monitor"
   ]
  },
  {
   "cell_type": "code",
   "execution_count": 12,
   "id": "express-pakistan",
   "metadata": {
    "id": "58b3ced1-0f5d-43e1-b654-6aac89dedacd",
    "tags": []
   },
   "outputs": [
    {
     "name": "stderr",
     "output_type": "stream",
     "text": [
      "/opt/conda/envs/Python-3.8-CUDA/lib/python3.8/site-packages/urllib3/connectionpool.py:1013: InsecureRequestWarning: Unverified HTTPS request is being made to host 'internal-nginx-svc'. Adding certificate verification is strongly advised. See: https://urllib3.readthedocs.io/en/1.26.x/advanced-usage.html#ssl-warnings\n",
      "  warnings.warn(\n",
      "/opt/conda/envs/Python-3.8-CUDA/lib/python3.8/site-packages/urllib3/connectionpool.py:1013: InsecureRequestWarning: Unverified HTTPS request is being made to host 'internal-nginx-svc'. Adding certificate verification is strongly advised. See: https://urllib3.readthedocs.io/en/1.26.x/advanced-usage.html#ssl-warnings\n",
      "  warnings.warn(\n"
     ]
    }
   ],
   "source": [
    "import os\n",
    "import wml_sdk_utils as wml_util\n",
    "import wos_sdk_utils as wos_util\n",
    "import ws_utils as ws_util\n",
    "\n",
    "wos_client = wos_util.get_client()"
   ]
  },
  {
   "cell_type": "markdown",
   "id": "dated-richmond",
   "metadata": {
    "id": "d66b258c-b69a-46dc-a106-abb2112e9af0"
   },
   "source": [
    "## User Configuration\n",
    "### deployment admin to decide"
   ]
  },
  {
   "cell_type": "code",
   "execution_count": 37,
   "id": "periodic-medium",
   "metadata": {
    "id": "978425d1-580e-44fb-b6b9-7d7982a774e9",
    "tags": []
   },
   "outputs": [],
   "source": [
    "# decide which wml space & openscale deployment service provider to use\n",
    "WML_SPACE_ID = '81c825b4-a1ae-4c1e-8cf3-51b6e3b301b7' \n",
    "SERVICE_PROVIDER_NAME = \"OpenScale Headless Service Provider\"\n",
    "\n",
    "# decide as you wish\n",
    "MODEL_NAME = 'DeepLIIF wendy' # just give it name :)\n",
    "DEPLOYMENT_NAME = 'deepliif-wendy' # no space, and be careful about special characters (some may not work)"
   ]
  },
  {
   "cell_type": "code",
   "execution_count": 39,
   "id": "solid-archive",
   "metadata": {
    "id": "82df9b11-16f7-4781-ae3d-e1f9aa030f78",
    "tags": []
   },
   "outputs": [
    {
     "name": "stdout",
     "output_type": "stream",
     "text": [
      "Successfully saved data asset content to file: 'tmp/deployment_metadata.yml'\n"
     ]
    },
    {
     "data": {
      "text/plain": [
       "{'deployment_id': None,\n",
       " 'deployment_space_id': '81c825b4-a1ae-4c1e-8cf3-51b6e3b301b7',\n",
       " 'model_asset': 'Test_Model_wendy_ws_serialized2.zip',\n",
       " 'model_name': 'DeepLIIF rich test',\n",
       " 'openscale_custom_metric_provider': {'generic_metrics': {'dir_gt': 'DeepLIIF_Datasets/model_eval/gt_images',\n",
       "   'dir_pred': 'DeepLIIF_Datasets/model_eval/model_images',\n",
       "   'most_recent': 1,\n",
       "   'thresholds': {'num_images_recent_ground_truth': {'threshold': [5.0,\n",
       "      'lower']},\n",
       "    'num_images_recent_predicted': {'threshold': [40.0, 'lower']},\n",
       "    'num_images_total_ground_truth': {'threshold': [5.0, 'lower']},\n",
       "    'num_images_total_predicted': {'threshold': [40.0, 'lower']}},\n",
       "   'volume_display_name': 'AdditionalDeepLIIFVolume'},\n",
       "  'segmentation_metrics': {'dir_gt': 'DeepLIIF_Datasets/model_eval/gt_images',\n",
       "   'dir_pred': 'DeepLIIF_Datasets/model_eval/model_images',\n",
       "   'most_recent': 5,\n",
       "   'thresholds': {'Dice': {'threshold': [20.0, 'lower']},\n",
       "    'Dice_negative': {'threshold': [0.2, 'lower']},\n",
       "    'Dice_positive': {'threshold': [0.2, 'lower']},\n",
       "    'IOU': {'threshold': [12.0, 'lower']},\n",
       "    'IOU_negative': {'threshold': [0.12, 'lower']},\n",
       "    'IOU_positive': {'threshold': [0.12, 'lower']},\n",
       "    'PixAcc': {'threshold': [35.0, 'lower']},\n",
       "    'PixAcc_negative': {'threshold': [0.35, 'lower']},\n",
       "    'PixAcc_positive': {'threshold': [0.35, 'lower']},\n",
       "    'f1': {'threshold': [45.0, 'lower']},\n",
       "    'f1_negative': {'threshold': [0.45, 'lower']},\n",
       "    'f1_positive': {'threshold': [0.45, 'lower']},\n",
       "    'precision': {'threshold': [60.0, 'lower']},\n",
       "    'precision_negative': {'threshold': [0.6, 'lower']},\n",
       "    'precision_positive': {'threshold': [0.6, 'lower']},\n",
       "    'recall': {'threshold': [15.0, 'lower']},\n",
       "    'recall_negative': {'threshold': [0.15, 'lower']},\n",
       "    'recall_positive': {'threshold': [0.15, 'lower']}},\n",
       "   'volume_display_name': 'AdditionalDeepLIIFVolume'}},\n",
       " 'openscale_subscription_id': None,\n",
       " 'wmla_deployment': {'dependency_filename': 'deepliif-base.zip',\n",
       "  'deployment_name': 'deepliif-base',\n",
       "  'deployment_url': 'https://wmla-inference-cpd-wmla.apps.cpd.mskcc.org/dlim/v1/inference/deepliif-base',\n",
       "  'resource_configs': {'enable_gpus': 'True',\n",
       "   'memory_allocation': 10000,\n",
       "   'n_cpus': 8,\n",
       "   'n_min_kernels': 1,\n",
       "   'n_replicas': 1,\n",
       "   'task_execution_timeout': 120},\n",
       "  'volume_display_name': 'AdditionalDeepLIIFVolume'}}"
      ]
     },
     "execution_count": 39,
     "metadata": {},
     "output_type": "execute_result"
    }
   ],
   "source": [
    "wml_client = wml_util.get_client(space_id=WML_SPACE_ID)"
   ]
  },
  {
   "cell_type": "markdown",
   "id": "coordinate-martial",
   "metadata": {
    "id": "d7d4d638-a6aa-4789-a9c2-1111ce78aa5d"
   },
   "source": [
    "### input from model owner: deployment related"
   ]
  },
  {
   "cell_type": "code",
   "execution_count": 3,
   "id": "favorite-rescue",
   "metadata": {
    "id": "9f808e0c-bea8-464e-9018-942726b0a6b4",
    "tags": []
   },
   "outputs": [],
   "source": [
    "# model and script files for deployment\n",
    "PATH_MODEL = '/mnts/AdditionalDeepLIIFVolume/deepliif-ws-output/Test_Model_wendy_ws_serialized2'\n",
    "PATH_DEPENDENCY = '/userfs/wmla-tutorial/deployment-wmla/edi_deployment_files/deepliif-base'\n",
    "\n",
    "# WMLA deployment information\n",
    "RESOURCE_CONFIGS = {'enable_gpus':'True',\n",
    "                    'n_cpus':8,\n",
    "                    'memory_allocation':10000,\n",
    "                    'n_replicas':1,\n",
    "                    'n_min_kernels':1,\n",
    "                    'task_execution_timeout':2*60}"
   ]
  },
  {
   "cell_type": "markdown",
   "id": "encouraging-medline",
   "metadata": {
    "id": "ff0c5818-56fe-4aa4-897f-6b76eb8e62f6"
   },
   "source": [
    "### input from model owner: monitor related"
   ]
  },
  {
   "cell_type": "code",
   "execution_count": 5,
   "id": "talented-courtesy",
   "metadata": {
    "id": "87e53175-f952-4480-881a-5e71e108391b",
    "tags": []
   },
   "outputs": [
    {
     "name": "stderr",
     "output_type": "stream",
     "text": [
      "/opt/conda/envs/Python-3.8-CUDA/lib/python3.8/site-packages/urllib3/connectionpool.py:1013: InsecureRequestWarning: Unverified HTTPS request is being made to host 'internal-nginx-svc'. Adding certificate verification is strongly advised. See: https://urllib3.readthedocs.io/en/1.26.x/advanced-usage.html#ssl-warnings\n",
      "  warnings.warn(\n"
     ]
    }
   ],
   "source": [
    "# openscale monitor related\n",
    "DIR_GT = 'DeepLIIF_Datasets/model_eval/gt_images'\n",
    "DIR_PRED = 'DeepLIIF_Datasets/model_eval/model_images'\n",
    "VOLUME_DISPLAY_NAME = 'AdditionalDeepLIIFVolume'\n",
    "\n",
    "# use the function to get default thresholds if default thresholds are desired\n",
    "THRESHOLDS_GENERIC = wos_util.get_default_thresholds('generic_metrics',wos_client)\n",
    "\n",
    "THRESHOLDS_SEGMENTATION = {'precision': {'threshold': [60.0, 'lower']},\n",
    " 'precision_positive': {'threshold': [0.6, 'lower']},\n",
    " 'precision_negative': {'threshold': [0.6, 'lower']},\n",
    " 'recall': {'threshold': [15.0, 'lower']},\n",
    " 'recall_positive': {'threshold': [0.15, 'lower']},\n",
    " 'recall_negative': {'threshold': [0.15, 'lower']},\n",
    " 'f1': {'threshold': [45.0, 'lower']},\n",
    " 'f1_positive': {'threshold': [0.45, 'lower']},\n",
    " 'f1_negative': {'threshold': [0.45, 'lower']},\n",
    " 'Dice': {'threshold': [20.0, 'lower']},\n",
    " 'Dice_positive': {'threshold': [0.20, 'lower']},\n",
    " 'Dice_negative': {'threshold': [0.20, 'lower']},\n",
    " 'IOU': {'threshold': [12.0, 'lower']},\n",
    " 'IOU_positive': {'threshold': [0.12, 'lower']},\n",
    " 'IOU_negative': {'threshold': [0.12, 'lower']},\n",
    " 'PixAcc': {'threshold': [35.0, 'lower']},\n",
    " 'PixAcc_positive': {'threshold': [0.35, 'lower']},\n",
    " 'PixAcc_negative': {'threshold': [0.35, 'lower']}}"
   ]
  },
  {
   "cell_type": "markdown",
   "id": "consolidated-premises",
   "metadata": {
    "id": "7264d804-0bf9-4f1d-8a7a-b27807aa41d7"
   },
   "source": [
    "### deploy admin to modify `'openscale_custom_metric_provider'` section \n",
    "Make sure you added all the monitors you need / are asked to use."
   ]
  },
  {
   "cell_type": "code",
   "execution_count": 6,
   "id": "abroad-ready",
   "metadata": {
    "id": "ab9b7dff-26c3-47a0-9edb-1f406599e701",
    "tags": []
   },
   "outputs": [],
   "source": [
    "# use double brackets to indicate that it's not for format to fill in a value but an actual bracket\n",
    "metadata = \"\"\"\n",
    "{{{model_asset_id}:{{\n",
    "                 'model_asset': {model_asset_name},\n",
    "                 'model_name': {MODEL_NAME},\n",
    "                 'deployment_id': None,\n",
    "                 'deployment_space_id':{WML_SPACE_ID},\n",
    "                 'openscale_subscription_id': None,\n",
    "                 'openscale_custom_metric_provider': \n",
    "                     {{'segmentation_metrics':{{'dir_gt': {DIR_GT},\n",
    "                                              'dir_pred': {DIR_PRED},\n",
    "                                              'volume_display_name': {VOLUME_DISPLAY_NAME},\n",
    "                                              'most_recent': 5,\n",
    "                                              'thresholds': {THRESHOLDS_SEGMENTATION}}},\n",
    "                      'generic_metrics': {{'dir_gt': {DIR_GT},\n",
    "                                          'dir_pred': {DIR_PRED},\n",
    "                                          'volume_display_name': {VOLUME_DISPLAY_NAME},\n",
    "                                          'most_recent': 1,\n",
    "                                          'thresholds': {THRESHOLDS_GENERIC}}}\n",
    "                     }},\n",
    "                'wmla_deployment':{{'deployment_name':{DEPLOYMENT_NAME},\n",
    "                                   'deployment_url':{deployment_url},\n",
    "                                   'dependency_filename':{dependency_asset_name},\n",
    "                                   'volume_display_name':{VOLUME_DISPLAY_NAME},\n",
    "                                   'resource_configs':{RESOURCE_CONFIGS}}}\n",
    "             }}}}\n",
    "\"\"\""
   ]
  },
  {
   "cell_type": "markdown",
   "id": "robust-brazilian",
   "metadata": {
    "id": "6f075e0a-53bf-4ca6-8378-9d39c603efb9"
   },
   "source": [
    "### settings you don't need to worry about"
   ]
  },
  {
   "cell_type": "code",
   "execution_count": null,
   "id": "adapted-retro",
   "metadata": {
    "id": "aa29b9f5-249c-433c-b378-0a2efc52b73d",
    "tags": []
   },
   "outputs": [],
   "source": [
    "data_mart_id = '00000000-0000-0000-0000-000000000000'\n",
    "deployment_url = f'https://wmla-inference-cpd-wmla.apps.cpd.mskcc.org/dlim/v1/inference/{DEPLOYMENT_NAME}'\n",
    "subscription_name = f\"{DEPLOYMENT_NAME} Monitor\" # a new subscription name\n",
    "\n",
    "model_asset_name = os.path.basename(PATH_MODEL)\n",
    "if os.path.isdir(PATH_MODEL):\n",
    "    model_asset_name += '.zip'\n",
    "        \n",
    "dependency_asset_name = os.path.basename(PATH_DEPENDENCY)\n",
    "if os.path.isdir(PATH_DEPENDENCY):\n",
    "    dependency_asset_name += '.zip'"
   ]
  },
  {
   "cell_type": "markdown",
   "id": "indonesian-converter",
   "metadata": {
    "id": "d0749647-d5b1-4d2c-bca3-47cf3ef266fd"
   },
   "source": [
    "## 1. Publish Assets to WML Deployment Space"
   ]
  },
  {
   "cell_type": "code",
   "execution_count": 8,
   "id": "arbitrary-peter",
   "metadata": {
    "id": "368b100d-ee65-48b1-8282-50bb2d3e262b",
    "tags": []
   },
   "outputs": [
    {
     "data": {
      "text/plain": [
       "'1.0.141'"
      ]
     },
     "execution_count": 8,
     "metadata": {},
     "output_type": "execute_result"
    }
   ],
   "source": [
    "wml_client = wml_util.get_client(space_id=WML_SPACE_ID)\n",
    "wml_client.version"
   ]
  },
  {
   "cell_type": "code",
   "execution_count": 8,
   "id": "close-jason",
   "metadata": {
    "id": "a09d58ee-98ea-40af-aac1-5cb6aed0b425",
    "tags": []
   },
   "outputs": [],
   "source": [
    "# wml_util.list_files(wml_client)"
   ]
  },
  {
   "cell_type": "code",
   "execution_count": 9,
   "id": "tight-democrat",
   "metadata": {
    "id": "75cf1736-a974-411e-952d-e2573e043971",
    "tags": []
   },
   "outputs": [
    {
     "name": "stdout",
     "output_type": "stream",
     "text": [
      "Creating data asset...\n",
      "SUCCESS\n",
      "Finished publishing /userfs/tmp/Test_Model_wendy_ws_serialized2.zip as Test_Model_wendy_ws_serialized2.zip\n",
      "Finished deleting existing old assets with the same name\n",
      "Creating data asset...\n",
      "SUCCESS\n",
      "Finished publishing /userfs/tmp/deepliif-base.zip as deepliif-base.zip\n",
      "Finished deleting existing old assets with the same name\n"
     ]
    }
   ],
   "source": [
    "wml_util.upload_batch([PATH_MODEL,PATH_DEPENDENCY],wml_client,overwrite=False)"
   ]
  },
  {
   "cell_type": "markdown",
   "id": "optical-consolidation",
   "metadata": {
    "id": "1342b008-fca5-42d2-b509-3f6a26ae35d8"
   },
   "source": [
    "## 2. Update Metadata yaml for Main Model Asset\n",
    "This yaml file contains deployment information about a corresponding model file, plus needed input for a custom metric provider to use."
   ]
  },
  {
   "cell_type": "code",
   "execution_count": 10,
   "id": "streaming-owner",
   "metadata": {
    "id": "b5a5c7be-8db2-46c4-b7a9-e7d6c1ba84e0",
    "tags": []
   },
   "outputs": [],
   "source": [
    "def metadata_yml_fill(metadata_str):\n",
    "    variables = list(globals())\n",
    "    d_variables = {k:repr(eval(k)) for k in variables}\n",
    "    metadata_str_filled = metadata_str.format(**d_variables)\n",
    "    \n",
    "    return eval(metadata_str_filled)"
   ]
  },
  {
   "cell_type": "code",
   "execution_count": 11,
   "id": "intense-joint",
   "metadata": {
    "id": "cf120158-099f-4d74-b51e-34dd55081948",
    "tags": []
   },
   "outputs": [],
   "source": [
    "data_assets = wml_util.list_files(wml_client,keep_only_latest=True)\n",
    "model_asset_id = [k for k,v in data_assets.items() if v == model_asset_name][0]"
   ]
  },
  {
   "cell_type": "code",
   "execution_count": 12,
   "id": "unknown-omaha",
   "metadata": {
    "id": "a43f6654-acef-433b-af27-5149139f5586",
    "tags": []
   },
   "outputs": [],
   "source": [
    "metadata = metadata_yml_fill(metadata)\n",
    "# metadata"
   ]
  },
  {
   "cell_type": "code",
   "execution_count": 14,
   "id": "partial-trinity",
   "metadata": {
    "id": "587819a1-619a-4038-9cca-eb75c033889a",
    "tags": []
   },
   "outputs": [
    {
     "data": {
      "text/plain": [
       "{'d289073f-2079-4bce-ba93-cc4fa33eb0d7': {'model_asset': 'Test_Model_wendy_ws_serialized2.zip',\n",
       "  'model_name': 'DeepLIIF wendy',\n",
       "  'deployment_id': None,\n",
       "  'deployment_space_id': '81c825b4-a1ae-4c1e-8cf3-51b6e3b301b7',\n",
       "  'openscale_subscription_id': None,\n",
       "  'openscale_custom_metric_provider': {'segmentation_metrics': {'dir_gt': 'DeepLIIF_Datasets/model_eval/gt_images',\n",
       "    'dir_pred': 'DeepLIIF_Datasets/model_eval/model_images',\n",
       "    'volume_display_name': 'AdditionalDeepLIIFVolume',\n",
       "    'most_recent': 5,\n",
       "    'thresholds': {'precision': {'threshold': [60.0, 'lower']},\n",
       "     'precision_positive': {'threshold': [0.6, 'lower']},\n",
       "     'precision_negative': {'threshold': [0.6, 'lower']},\n",
       "     'recall': {'threshold': [15.0, 'lower']},\n",
       "     'recall_positive': {'threshold': [0.15, 'lower']},\n",
       "     'recall_negative': {'threshold': [0.15, 'lower']},\n",
       "     'f1': {'threshold': [45.0, 'lower']},\n",
       "     'f1_positive': {'threshold': [0.45, 'lower']},\n",
       "     'f1_negative': {'threshold': [0.45, 'lower']},\n",
       "     'Dice': {'threshold': [20.0, 'lower']},\n",
       "     'Dice_positive': {'threshold': [0.2, 'lower']},\n",
       "     'Dice_negative': {'threshold': [0.2, 'lower']},\n",
       "     'IOU': {'threshold': [12.0, 'lower']},\n",
       "     'IOU_positive': {'threshold': [0.12, 'lower']},\n",
       "     'IOU_negative': {'threshold': [0.12, 'lower']},\n",
       "     'PixAcc': {'threshold': [35.0, 'lower']},\n",
       "     'PixAcc_positive': {'threshold': [0.35, 'lower']},\n",
       "     'PixAcc_negative': {'threshold': [0.35, 'lower']}}},\n",
       "   'generic_metrics': {'dir_gt': 'DeepLIIF_Datasets/model_eval/gt_images',\n",
       "    'dir_pred': 'DeepLIIF_Datasets/model_eval/model_images',\n",
       "    'volume_display_name': 'AdditionalDeepLIIFVolume',\n",
       "    'most_recent': 1,\n",
       "    'thresholds': {'num_images_total_ground_truth': {'threshold': [5.0,\n",
       "       'lower']},\n",
       "     'num_images_total_predicted': {'threshold': [40.0, 'lower']},\n",
       "     'num_images_recent_ground_truth': {'threshold': [5.0, 'lower']},\n",
       "     'num_images_recent_predicted': {'threshold': [40.0, 'lower']}}}},\n",
       "  'wmla_deployment': {'deployment_name': 'deepliif-wendy',\n",
       "   'deployment_url': 'https://wmla-inference-cpd-wmla.apps.cpd.mskcc.org/dlim/v1/inference/deepliif-wendy',\n",
       "   'dependency_filename': 'deepliif-base.zip',\n",
       "   'volume_display_name': 'AdditionalDeepLIIFVolume',\n",
       "   'resource_configs': {'enable_gpus': 'True',\n",
       "    'n_cpus': 8,\n",
       "    'memory_allocation': 10000,\n",
       "    'n_replicas': 1,\n",
       "    'n_min_kernels': 1,\n",
       "    'task_execution_timeout': 120}}}}"
      ]
     },
     "execution_count": 14,
     "metadata": {},
     "output_type": "execute_result"
    }
   ],
   "source": [
    "metadata"
   ]
  },
  {
   "cell_type": "code",
   "execution_count": 13,
   "id": "alternate-companion",
   "metadata": {
    "id": "5203ef5e-b2e8-4fe1-a1bc-1e93ced58921",
    "tags": []
   },
   "outputs": [
    {
     "name": "stdout",
     "output_type": "stream",
     "text": [
      "Successfully saved data asset content to file: 'tmp/deployment_metadata.yml'\n",
      "Key d1a14d91-d223-4895-bc4d-4badfbb80172 already exists in yaml file deployment_metadata.yml, updating the values...\n",
      "Writing new metadata in..\n",
      "Creating data asset...\n",
      "SUCCESS\n",
      "Finished publishing tmp/deployment_metadata.yml as deployment_metadata.yml\n",
      "Finished deleting existing old assets with the same name\n"
     ]
    }
   ],
   "source": [
    "wml_util.metadata_yml_add(metadata,wml_client,overwrite=True)"
   ]
  },
  {
   "cell_type": "code",
   "execution_count": 14,
   "id": "quick-differential",
   "metadata": {
    "id": "2518643b-c5c2-4ce3-aa85-3a2c0945ebdd",
    "tags": []
   },
   "outputs": [
    {
     "name": "stdout",
     "output_type": "stream",
     "text": [
      "Successfully saved data asset content to file: 'tmp/deployment_metadata.yml'\n"
     ]
    },
    {
     "data": {
      "text/plain": [
       "{'deployment_id': None,\n",
       " 'deployment_space_id': '81c825b4-a1ae-4c1e-8cf3-51b6e3b301b7',\n",
       " 'model_asset': 'Test_Model_wendy_ws_serialized.zip',\n",
       " 'model_name': 'DeepLIIF rich test',\n",
       " 'openscale_custom_metric_provider': {'generic_metrics': {'dir_gt': 'DeepLIIF_Datasets/model_eval/gt_images',\n",
       "   'dir_pred': 'DeepLIIF_Datasets/model_eval/model_images',\n",
       "   'most_recent': 1,\n",
       "   'thresholds': {'num_images_recent_ground_truth': {'threshold': [5.0,\n",
       "      'lower']},\n",
       "    'num_images_recent_predicted': {'threshold': [40.0, 'lower']},\n",
       "    'num_images_total_ground_truth': {'threshold': [5.0, 'lower']},\n",
       "    'num_images_total_predicted': {'threshold': [40.0, 'lower']}},\n",
       "   'volume_display_name': 'AdditionalDeepLIIFVolume'},\n",
       "  'segmentation_metrics': {'dir_gt': 'DeepLIIF_Datasets/model_eval/gt_images',\n",
       "   'dir_pred': 'DeepLIIF_Datasets/model_eval/model_images',\n",
       "   'most_recent': 5,\n",
       "   'thresholds': {'Dice': {'threshold': [20.0, 'lower']},\n",
       "    'Dice_negative': {'threshold': [0.2, 'lower']},\n",
       "    'Dice_positive': {'threshold': [0.2, 'lower']},\n",
       "    'IOU': {'threshold': [12.0, 'lower']},\n",
       "    'IOU_negative': {'threshold': [0.12, 'lower']},\n",
       "    'IOU_positive': {'threshold': [0.12, 'lower']},\n",
       "    'PixAcc': {'threshold': [35.0, 'lower']},\n",
       "    'PixAcc_negative': {'threshold': [0.35, 'lower']},\n",
       "    'PixAcc_positive': {'threshold': [0.35, 'lower']},\n",
       "    'f1': {'threshold': [45.0, 'lower']},\n",
       "    'f1_negative': {'threshold': [0.45, 'lower']},\n",
       "    'f1_positive': {'threshold': [0.45, 'lower']},\n",
       "    'precision': {'threshold': [60.0, 'lower']},\n",
       "    'precision_negative': {'threshold': [0.6, 'lower']},\n",
       "    'precision_positive': {'threshold': [0.6, 'lower']},\n",
       "    'recall': {'threshold': [15.0, 'lower']},\n",
       "    'recall_negative': {'threshold': [0.15, 'lower']},\n",
       "    'recall_positive': {'threshold': [0.15, 'lower']}},\n",
       "   'volume_display_name': 'AdditionalDeepLIIFVolume'}},\n",
       " 'openscale_subscription_id': None,\n",
       " 'wmla_deployment': {'dependency_filename': 'deepliif-base.zip',\n",
       "  'deployment_name': 'deepliif-base',\n",
       "  'deployment_url': 'https://wmla-inference-cpd-wmla.apps.cpd.mskcc.org/dlim/v1/inference/deepliif-base',\n",
       "  'resource_configs': {'enable_gpus': 'True',\n",
       "   'memory_allocation': 10000,\n",
       "   'n_cpus': 8,\n",
       "   'n_min_kernels': 1,\n",
       "   'n_replicas': 1,\n",
       "   'task_execution_timeout': 120},\n",
       "  'volume_display_name': 'AdditionalDeepLIIFVolume'}}"
      ]
     },
     "execution_count": 14,
     "metadata": {},
     "output_type": "execute_result"
    }
   ],
   "source": [
    "wml_util.metadata_yml_load(wml_client)[model_asset_id]"
   ]
  },
  {
   "cell_type": "code",
   "execution_count": 19,
   "id": "exposed-faculty",
   "metadata": {
    "id": "49d091bc-d35f-4626-bed5-b8d457bfd845",
    "tags": []
   },
   "outputs": [],
   "source": [
    "model_asset_id"
   ]
  },
  {
   "cell_type": "markdown",
   "id": "exclusive-luxury",
   "metadata": {
    "id": "8ade2ba9-dcd0-45a3-bb21-0a3f5ab6a4af"
   },
   "source": [
    "## Kick off Deployment & Monitoring Pipeline"
   ]
  },
  {
   "cell_type": "code",
   "execution_count": 9,
   "id": "outside-robin",
   "metadata": {
    "id": "7b0c9566-3bb8-4c8c-85d8-b1b5f34d6350",
    "tags": []
   },
   "outputs": [],
   "source": [
    "import os\n",
    "import nbformat\n",
    "from nbconvert.preprocessors import ExecutePreprocessor\n",
    "import ws_utils as ws_util"
   ]
  },
  {
   "cell_type": "code",
   "execution_count": null,
   "id": "latter-multiple",
   "metadata": {
    "id": "9827c02e-861c-4d39-8eab-7d6b6583abe6",
    "tags": []
   },
   "outputs": [],
   "source": [
    "# pass variables needed in pipeline notebooks through env vars\n",
    "os.environ['CPD_USERNAME'] = '***'\n",
    "os.environ['CPD_API_KEY'] = '***'\n",
    "os.environ['REST_SERVER'] = 'https://wmla-console-cpd-wmla.apps.cpd.mskcc.org/dlim/v1/'\n",
    "os.environ['DLIM_PATH'] = os.environ['HOME']+'/bin'\n",
    "os.environ['KERNEL_FILENAME'] = 'kernel-update.py'\n",
    "\n",
    "os.environ['SERVICE_PROVIDER_NAME'] = SERVICE_PROVIDER_NAME\n",
    "os.environ['SUBSCRIPTION_NAME'] = subscription_name\n",
    "\n",
    "os.environ['MODEL_ASSET_ID'] = model_asset_id\n",
    "os.environ['WML_SPACE_ID'] = WML_SPACE_ID\n",
    "\n",
    "os.environ['WOS_GUID'] = data_mart_id"
   ]
  },
  {
   "cell_type": "raw",
   "id": "under-extent",
   "metadata": {
    "id": "a662eddd-bdd3-4283-b578-bbb48ad44ad6",
    "tags": []
   },
   "source": [
    "wml_client = wml_util.get_client(space_id='81c825b4-a1ae-4c1e-8cf3-51b6e3b301b7')"
   ]
  },
  {
   "cell_type": "raw",
   "id": "moderate-peeing",
   "metadata": {
    "id": "18f6b7f1-6c06-4270-bd6c-09fe5bb3e273",
    "tags": []
   },
   "source": [
    "wml_util.metadata_yml_load(wml_client)['4f5fb0b1-612b-4d85-a1fc-7af9d15ebb19']"
   ]
  },
  {
   "cell_type": "code",
   "execution_count": 8,
   "id": "driven-yugoslavia",
   "metadata": {
    "id": "5a7ecbe3-1622-4ea1-af98-1285b46c8803",
    "tags": []
   },
   "outputs": [
    {
     "name": "stdout",
     "output_type": "stream",
     "text": [
      "------------------------------ A2_WMLA_Model_Deploy.ipynb ------------------------------\n",
      "Executed notebook written to A2_WMLA_Model_Deploy_out.ipynb\n",
      "Successfully saved data asset content to file: 'tmp/deployment_metadata.yml'\n",
      "\n",
      "Successfully saved data asset content to file: '/userfs/deploy_submissions/deepliif-base/wmla_edi_utils.py'\n",
      "\n",
      "Successfully saved data asset content to file: '/userfs/deploy_submissions/deepliif-base/storage_volume_utils.py'\n",
      "\n",
      "Successfully saved data asset content to file: '/userfs/deploy_submissions/deepliif-base/cpd_utils.py'\n",
      "\n",
      "Successfully saved data asset content to file: '/userfs/deploy_submissions/deepliif-base/wml_sdk_utils.py'\n",
      "Found 6 data assets with name deepliif-base.zip, only the first one will be downloaded.\n",
      "\n",
      "Successfully saved data asset content to file: '/userfs/deploy_submissions/deepliif-base/deepliif-base.zip'\n",
      "\n",
      "CompletedProcess(args='unzip -j deepliif-base.zip; rm deepliif-base.zip', returncode=0)\n",
      "Writing /userfs/deploy_submissions/deepliif-base/model.json\n",
      "\n",
      "{'name': 'deepliif-base',\n",
      " 'kernel_path': 'kernel-update.py',\n",
      " 'readme': 'README.md',\n",
      " 'tag': 'test',\n",
      " 'weight_path': './',\n",
      " 'runtime': 'dlipy3',\n",
      " 'framework': 'PyTorch',\n",
      " 'schema_version': '1',\n",
      " 'mk_environments': [{'name': 'WML_SPACE_ID',\n",
      "   'value': '81c825b4-a1ae-4c1e-8cf3-51b6e3b301b7'},\n",
      "  {'name': 'VOLUME_DISPLAY_NAME', 'value': 'AdditionalDeepLIIFVolume'},\n",
      "  {'name': 'WML_SPACE_MODEL', 'value': 'Test_Model_wendy_ws_serialized2.zip'}]}\n",
      "['Stopping model \"deepliif-base\", run \"dlim model view deepliif-base -s\" to ensure stop.']\n",
      "[\"Failed due to Command 'dlim model undeploy deepliif --rest-server https://wmla-console-cpd-wmla.apps.cpd.mskcc.org/dlim/v1/ --jwt-token $USER_ACCESS_TOKEN -f' returned non-zero exit status 1.\",\n",
      " \"Model <deepliif> doesn't exist.\"]\n",
      "[\"Failed due to Command 'dlim model deploy -p /userfs/deploy_submissions/deepliif-base --rest-server https://wmla-console-cpd-wmla.apps.cpd.mskcc.org/dlim/v1/ --jwt-token $USER_ACCESS_TOKEN' returned non-zero exit status 1.\",\n",
      " 'Model <deepliif-base> already exists on inference service, do you want to update it? (y|n):EOF']\n",
      "['Model is updated successfully']\n",
      "['Starting model \"deepliif-base\", run \"dlim model view deepliif-base -s\" to ensure startup.']\n"
     ]
    }
   ],
   "source": [
    "paths_nb = ['A2_WMLA_Model_Deploy.ipynb',\n",
    "            'A3_OpenScale_Configuration.ipynb']\n",
    "\n",
    "for path_nb in paths_nb:\n",
    "    print('-'*30,path_nb,'-'*30)\n",
    "    ws_util.run_pipeline_notebook(path_nb,save_notebook=True)"
   ]
  },
  {
   "cell_type": "code",
   "execution_count": null,
   "id": "hundred-advisory",
   "metadata": {
    "id": "a4ff8e73-95b2-4c9c-8d0c-d85f752d11a2"
   },
   "outputs": [],
   "source": []
  }
 ],
 "metadata": {
  "kernelspec": {
   "display_name": "Python 3.8 + GPU with applications",
   "language": "python",
   "name": "python3"
  },
  "language_info": {
   "codemirror_mode": {
    "name": "ipython",
    "version": 3
   },
   "file_extension": ".py",
   "mimetype": "text/x-python",
   "name": "python",
   "nbconvert_exporter": "python",
   "pygments_lexer": "ipython3",
   "version": "3.8.11"
  }
 },
 "nbformat": 4,
 "nbformat_minor": 5
}
