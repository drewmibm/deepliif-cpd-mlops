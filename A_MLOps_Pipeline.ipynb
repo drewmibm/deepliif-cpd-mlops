{
 "cells": [
  {
   "cell_type": "markdown",
   "id": "moving-boards",
   "metadata": {
    "id": "a2868006-8dec-42f4-9520-b7ba65bba0c4",
    "tags": []
   },
   "source": [
    "# MLOps: Deploy and Monitor"
   ]
  },
  {
   "cell_type": "code",
   "execution_count": 1,
   "id": "alike-estimate",
   "metadata": {
    "id": "58b3ced1-0f5d-43e1-b654-6aac89dedacd",
    "tags": []
   },
   "outputs": [
    {
     "name": "stderr",
     "output_type": "stream",
     "text": [
      "/opt/conda/envs/Python-3.8-CUDA/lib/python3.8/site-packages/urllib3/connectionpool.py:1013: InsecureRequestWarning: Unverified HTTPS request is being made to host 'internal-nginx-svc'. Adding certificate verification is strongly advised. See: https://urllib3.readthedocs.io/en/1.26.x/advanced-usage.html#ssl-warnings\n",
      "  warnings.warn(\n",
      "/opt/conda/envs/Python-3.8-CUDA/lib/python3.8/site-packages/urllib3/connectionpool.py:1013: InsecureRequestWarning: Unverified HTTPS request is being made to host 'internal-nginx-svc'. Adding certificate verification is strongly advised. See: https://urllib3.readthedocs.io/en/1.26.x/advanced-usage.html#ssl-warnings\n",
      "  warnings.warn(\n"
     ]
    }
   ],
   "source": [
    "import os\n",
    "import wml_sdk_utils as wml_util\n",
    "import wos_sdk_utils as wos_util\n",
    "import ws_utils as ws_util\n",
    "\n",
    "wos_client = wos_util.get_client()"
   ]
  },
  {
   "cell_type": "markdown",
   "id": "mighty-simpson",
   "metadata": {
    "id": "d66b258c-b69a-46dc-a106-abb2112e9af0"
   },
   "source": [
    "## User Configuration\n",
    "### deployment admin to decide"
   ]
  },
  {
   "cell_type": "code",
   "execution_count": 2,
   "id": "neural-enclosure",
   "metadata": {
    "id": "978425d1-580e-44fb-b6b9-7d7982a774e9"
   },
   "outputs": [],
   "source": [
    "# decide which wml space & openscale deployment service provider to use\n",
    "WML_SPACE_ID = '81c825b4-a1ae-4c1e-8cf3-51b6e3b301b7' \n",
    "SERVICE_PROVIDER_NAME = \"OpenScale Headless Service Provider\"\n",
    "\n",
    "# infer asset name based on the folder name you will be uploading\n",
    "# if you received a model/script folder named folderA, then the final asset created in WML space will be folderA.zip\n",
    "FN_MODEL = 'Test_Model_wendy_ws_serialized.zip'\n",
    "DEPENDENCY_FILENAME = 'deepliif-base.zip'\n",
    "\n",
    "# decide as you wish\n",
    "MODEL_NAME = 'DeepLIIF rich test' # just give it name :)\n",
    "SUBSCRIPTION_NAME = \"DeepLIIF Monitor\" # a new subscription name"
   ]
  },
  {
   "cell_type": "markdown",
   "id": "broke-rwanda",
   "metadata": {
    "id": "d7d4d638-a6aa-4789-a9c2-1111ce78aa5d"
   },
   "source": [
    "### input from model owner: deployment related"
   ]
  },
  {
   "cell_type": "code",
   "execution_count": 3,
   "id": "indirect-discussion",
   "metadata": {
    "id": "9f808e0c-bea8-464e-9018-942726b0a6b4",
    "tags": []
   },
   "outputs": [],
   "source": [
    "# model and script files for deployment\n",
    "PATHS = ['/mnts/AdditionalDeepLIIFVolume/deepliif-ws-output/Test_Model_wendy_ws_serialized2',\n",
    "         '/userfs/wmla-tutorial/deployment-wmla/edi_deployment_files/deepliif-base'\n",
    "        ]\n",
    "\n",
    "# WMLA deployment information\n",
    "DEPLOYMENT_NAME = 'deepliif-base'\n",
    "RESOURCE_CONFIGS = {'enable_gpus':'True',\n",
    "                    'n_cpus':8,\n",
    "                    'memory_allocation':10000,\n",
    "                    'n_replicas':1,\n",
    "                    'n_min_kernels':1,\n",
    "                    'task_execution_timeout':2*60}"
   ]
  },
  {
   "cell_type": "markdown",
   "id": "sixth-potential",
   "metadata": {
    "id": "ff0c5818-56fe-4aa4-897f-6b76eb8e62f6"
   },
   "source": [
    "### input from model owner: monitor related"
   ]
  },
  {
   "cell_type": "code",
   "execution_count": 4,
   "id": "promising-quality",
   "metadata": {
    "id": "87e53175-f952-4480-881a-5e71e108391b",
    "tags": []
   },
   "outputs": [
    {
     "name": "stderr",
     "output_type": "stream",
     "text": [
      "/opt/conda/envs/Python-3.8-CUDA/lib/python3.8/site-packages/urllib3/connectionpool.py:1013: InsecureRequestWarning: Unverified HTTPS request is being made to host 'internal-nginx-svc'. Adding certificate verification is strongly advised. See: https://urllib3.readthedocs.io/en/1.26.x/advanced-usage.html#ssl-warnings\n",
      "  warnings.warn(\n"
     ]
    }
   ],
   "source": [
    "# openscale monitor related\n",
    "DIR_GT = 'DeepLIIF_Datasets/model_eval/gt_images'\n",
    "DIR_PRED = 'DeepLIIF_Datasets/model_eval/model_images'\n",
    "VOLUME_DISPLAY_NAME = 'AdditionalDeepLIIFVolume'\n",
    "\n",
    "# use the function to get default thresholds if default thresholds are desired\n",
    "THRESHOLDS_GENERIC = wos_util.get_default_thresholds('generic_metrics',wos_client)\n",
    "\n",
    "THRESHOLDS_SEGMENTATION = {'precision': {'threshold': [60.0, 'lower']},\n",
    " 'precision_positive': {'threshold': [0.6, 'lower']},\n",
    " 'precision_negative': {'threshold': [0.6, 'lower']},\n",
    " 'recall': {'threshold': [15.0, 'lower']},\n",
    " 'recall_positive': {'threshold': [0.15, 'lower']},\n",
    " 'recall_negative': {'threshold': [0.15, 'lower']},\n",
    " 'f1': {'threshold': [45.0, 'lower']},\n",
    " 'f1_positive': {'threshold': [0.45, 'lower']},\n",
    " 'f1_negative': {'threshold': [0.45, 'lower']},\n",
    " 'Dice': {'threshold': [20.0, 'lower']},\n",
    " 'Dice_positive': {'threshold': [0.20, 'lower']},\n",
    " 'Dice_negative': {'threshold': [0.20, 'lower']},\n",
    " 'IOU': {'threshold': [12.0, 'lower']},\n",
    " 'IOU_positive': {'threshold': [0.12, 'lower']},\n",
    " 'IOU_negative': {'threshold': [0.12, 'lower']},\n",
    " 'PixAcc': {'threshold': [35.0, 'lower']},\n",
    " 'PixAcc_positive': {'threshold': [0.35, 'lower']},\n",
    " 'PixAcc_negative': {'threshold': [0.35, 'lower']}}"
   ]
  },
  {
   "cell_type": "markdown",
   "id": "compressed-contemporary",
   "metadata": {
    "id": "7264d804-0bf9-4f1d-8a7a-b27807aa41d7"
   },
   "source": [
    "### deploy admin to modify `'openscale_custom_metric_provider'` section \n",
    "Make sure you added all the monitors you need / are asked to use."
   ]
  },
  {
   "cell_type": "code",
   "execution_count": 5,
   "id": "confidential-imperial",
   "metadata": {
    "id": "ab9b7dff-26c3-47a0-9edb-1f406599e701",
    "tags": []
   },
   "outputs": [],
   "source": [
    "# use double brackets to indicate that it's not for format to fill in a value but an actual bracket\n",
    "metadata = \"\"\"\n",
    "{{{model_asset_id}:{{\n",
    "                 'model_asset': {FN_MODEL},\n",
    "                 'model_name': {MODEL_NAME},\n",
    "                 'deployment_id': None,\n",
    "                 'deployment_space_id':{WML_SPACE_ID},\n",
    "                 'openscale_subscription_id': None,\n",
    "                 'openscale_custom_metric_provider': \n",
    "                     {{'segmentation_metrics':{{'dir_gt': {DIR_GT},\n",
    "                                              'dir_pred': {DIR_PRED},\n",
    "                                              'volume_display_name': {VOLUME_DISPLAY_NAME},\n",
    "                                              'most_recent': 5,\n",
    "                                              'thresholds': {THRESHOLDS_SEGMENTATION}}},\n",
    "                      'generic_metrics': {{'dir_gt': {DIR_GT},\n",
    "                                          'dir_pred': {DIR_PRED},\n",
    "                                          'volume_display_name': {VOLUME_DISPLAY_NAME},\n",
    "                                          'most_recent': 1,\n",
    "                                          'thresholds': {THRESHOLDS_GENERIC}}}\n",
    "                     }},\n",
    "                'wmla_deployment':{{'deployment_name':{DEPLOYMENT_NAME},\n",
    "                                   'deployment_url':{deployment_url},\n",
    "                                   'dependency_filename':{DEPENDENCY_FILENAME},\n",
    "                                   'volume_display_name':{VOLUME_DISPLAY_NAME},\n",
    "                                   'resource_configs':{RESOURCE_CONFIGS}}}\n",
    "             }}}}\n",
    "\"\"\""
   ]
  },
  {
   "cell_type": "markdown",
   "id": "seasonal-chart",
   "metadata": {
    "id": "6f075e0a-53bf-4ca6-8378-9d39c603efb9"
   },
   "source": [
    "### settings you don't need to worry about"
   ]
  },
  {
   "cell_type": "code",
   "execution_count": 6,
   "id": "every-ireland",
   "metadata": {
    "id": "aa29b9f5-249c-433c-b378-0a2efc52b73d",
    "tags": []
   },
   "outputs": [],
   "source": [
    "data_mart_id = '00000000-0000-0000-0000-000000000000'\n",
    "deployment_url = f'https://wmla-inference-cpd-wmla.apps.cpd.mskcc.org/dlim/v1/inference/{DEPLOYMENT_NAME}'"
   ]
  },
  {
   "cell_type": "markdown",
   "id": "genetic-wellington",
   "metadata": {
    "id": "d0749647-d5b1-4d2c-bca3-47cf3ef266fd"
   },
   "source": [
    "## 1. Publish Assets to WML Deployment Space"
   ]
  },
  {
   "cell_type": "code",
   "execution_count": 7,
   "id": "confirmed-dynamics",
   "metadata": {
    "id": "368b100d-ee65-48b1-8282-50bb2d3e262b",
    "tags": []
   },
   "outputs": [
    {
     "data": {
      "text/plain": [
       "'1.0.141'"
      ]
     },
     "execution_count": 7,
     "metadata": {},
     "output_type": "execute_result"
    }
   ],
   "source": [
    "wml_client = wml_util.get_client(space_id=WML_SPACE_ID)\n",
    "wml_client.version"
   ]
  },
  {
   "cell_type": "code",
   "execution_count": 8,
   "id": "atomic-protection",
   "metadata": {
    "id": "a09d58ee-98ea-40af-aac1-5cb6aed0b425",
    "tags": []
   },
   "outputs": [],
   "source": [
    "# wml_util.list_files(wml_client)"
   ]
  },
  {
   "cell_type": "code",
   "execution_count": 9,
   "id": "sapphire-french",
   "metadata": {
    "id": "75cf1736-a974-411e-952d-e2573e043971",
    "tags": []
   },
   "outputs": [
    {
     "name": "stdout",
     "output_type": "stream",
     "text": [
      "Creating data asset...\n",
      "SUCCESS\n",
      "Finished publishing /userfs/tmp/Test_Model_wendy_ws_serialized2.zip as Test_Model_wendy_ws_serialized2.zip\n",
      "Finished deleting existing old assets with the same name\n",
      "Creating data asset...\n",
      "SUCCESS\n",
      "Finished publishing /userfs/tmp/deepliif-base.zip as deepliif-base.zip\n",
      "Finished deleting existing old assets with the same name\n"
     ]
    }
   ],
   "source": [
    "wml_util.upload_batch(PATHS,wml_client,overwrite=True)"
   ]
  },
  {
   "cell_type": "markdown",
   "id": "alpha-estimate",
   "metadata": {
    "id": "1342b008-fca5-42d2-b509-3f6a26ae35d8"
   },
   "source": [
    "## 2. Update Metadata yaml for Main Model Asset\n",
    "This yaml file contains deployment information about a corresponding model file, plus needed input for a custom metric provider to use."
   ]
  },
  {
   "cell_type": "code",
   "execution_count": 10,
   "id": "metropolitan-tennessee",
   "metadata": {
    "id": "b5a5c7be-8db2-46c4-b7a9-e7d6c1ba84e0",
    "tags": []
   },
   "outputs": [],
   "source": [
    "def metadata_yml_fill(metadata_str,varnames_additional=[]):\n",
    "    variables = [x for x in globals() if x.isupper()] + varnames_additional\n",
    "    d_variables = {k:repr(eval(k)) for k in variables}\n",
    "    metadata_str_filled = metadata_str.format(**d_variables)\n",
    "    \n",
    "    return eval(metadata_str_filled)"
   ]
  },
  {
   "cell_type": "code",
   "execution_count": 11,
   "id": "regulation-kitty",
   "metadata": {
    "id": "cf120158-099f-4d74-b51e-34dd55081948",
    "tags": []
   },
   "outputs": [],
   "source": [
    "data_assets = wml_util.list_files(wml_client,keep_only_latest=True)\n",
    "model_asset_id = [k for k,v in data_assets.items() if v == FN_MODEL][0]"
   ]
  },
  {
   "cell_type": "code",
   "execution_count": 12,
   "id": "abandoned-wales",
   "metadata": {
    "id": "a43f6654-acef-433b-af27-5149139f5586",
    "tags": []
   },
   "outputs": [],
   "source": [
    "metadata = metadata_yml_fill(metadata,['model_asset_id','deployment_url'])\n",
    "# metadata"
   ]
  },
  {
   "cell_type": "code",
   "execution_count": 13,
   "id": "invalid-victorian",
   "metadata": {
    "id": "5203ef5e-b2e8-4fe1-a1bc-1e93ced58921",
    "tags": []
   },
   "outputs": [
    {
     "name": "stdout",
     "output_type": "stream",
     "text": [
      "Successfully saved data asset content to file: 'tmp/deployment_metadata.yml'\n",
      "Key d1a14d91-d223-4895-bc4d-4badfbb80172 already exists in yaml file deployment_metadata.yml, updating the values...\n",
      "Writing new metadata in..\n",
      "Creating data asset...\n",
      "SUCCESS\n",
      "Finished publishing tmp/deployment_metadata.yml as deployment_metadata.yml\n",
      "Finished deleting existing old assets with the same name\n"
     ]
    }
   ],
   "source": [
    "wml_util.metadata_yml_add(metadata,wml_client,overwrite=True)"
   ]
  },
  {
   "cell_type": "code",
   "execution_count": 14,
   "id": "monthly-switzerland",
   "metadata": {
    "id": "2518643b-c5c2-4ce3-aa85-3a2c0945ebdd",
    "tags": []
   },
   "outputs": [
    {
     "name": "stdout",
     "output_type": "stream",
     "text": [
      "Successfully saved data asset content to file: 'tmp/deployment_metadata.yml'\n"
     ]
    },
    {
     "data": {
      "text/plain": [
       "{'deployment_id': None,\n",
       " 'deployment_space_id': '81c825b4-a1ae-4c1e-8cf3-51b6e3b301b7',\n",
       " 'model_asset': 'Test_Model_wendy_ws_serialized.zip',\n",
       " 'model_name': 'DeepLIIF rich test',\n",
       " 'openscale_custom_metric_provider': {'generic_metrics': {'dir_gt': 'DeepLIIF_Datasets/model_eval/gt_images',\n",
       "   'dir_pred': 'DeepLIIF_Datasets/model_eval/model_images',\n",
       "   'most_recent': 1,\n",
       "   'thresholds': {'num_images_recent_ground_truth': {'threshold': [5.0,\n",
       "      'lower']},\n",
       "    'num_images_recent_predicted': {'threshold': [40.0, 'lower']},\n",
       "    'num_images_total_ground_truth': {'threshold': [5.0, 'lower']},\n",
       "    'num_images_total_predicted': {'threshold': [40.0, 'lower']}},\n",
       "   'volume_display_name': 'AdditionalDeepLIIFVolume'},\n",
       "  'segmentation_metrics': {'dir_gt': 'DeepLIIF_Datasets/model_eval/gt_images',\n",
       "   'dir_pred': 'DeepLIIF_Datasets/model_eval/model_images',\n",
       "   'most_recent': 5,\n",
       "   'thresholds': {'Dice': {'threshold': [20.0, 'lower']},\n",
       "    'Dice_negative': {'threshold': [0.2, 'lower']},\n",
       "    'Dice_positive': {'threshold': [0.2, 'lower']},\n",
       "    'IOU': {'threshold': [12.0, 'lower']},\n",
       "    'IOU_negative': {'threshold': [0.12, 'lower']},\n",
       "    'IOU_positive': {'threshold': [0.12, 'lower']},\n",
       "    'PixAcc': {'threshold': [35.0, 'lower']},\n",
       "    'PixAcc_negative': {'threshold': [0.35, 'lower']},\n",
       "    'PixAcc_positive': {'threshold': [0.35, 'lower']},\n",
       "    'f1': {'threshold': [45.0, 'lower']},\n",
       "    'f1_negative': {'threshold': [0.45, 'lower']},\n",
       "    'f1_positive': {'threshold': [0.45, 'lower']},\n",
       "    'precision': {'threshold': [60.0, 'lower']},\n",
       "    'precision_negative': {'threshold': [0.6, 'lower']},\n",
       "    'precision_positive': {'threshold': [0.6, 'lower']},\n",
       "    'recall': {'threshold': [15.0, 'lower']},\n",
       "    'recall_negative': {'threshold': [0.15, 'lower']},\n",
       "    'recall_positive': {'threshold': [0.15, 'lower']}},\n",
       "   'volume_display_name': 'AdditionalDeepLIIFVolume'}},\n",
       " 'openscale_subscription_id': None,\n",
       " 'wmla_deployment': {'dependency_filename': 'deepliif-base.zip',\n",
       "  'deployment_name': 'deepliif-base',\n",
       "  'deployment_url': 'https://wmla-inference-cpd-wmla.apps.cpd.mskcc.org/dlim/v1/inference/deepliif-base',\n",
       "  'resource_configs': {'enable_gpus': 'True',\n",
       "   'memory_allocation': 10000,\n",
       "   'n_cpus': 8,\n",
       "   'n_min_kernels': 1,\n",
       "   'n_replicas': 1,\n",
       "   'task_execution_timeout': 120},\n",
       "  'volume_display_name': 'AdditionalDeepLIIFVolume'}}"
      ]
     },
     "execution_count": 14,
     "metadata": {},
     "output_type": "execute_result"
    }
   ],
   "source": [
    "wml_util.metadata_yml_load(wml_client)[model_asset_id]"
   ]
  },
  {
   "cell_type": "markdown",
   "id": "rubber-interstate",
   "metadata": {
    "id": "8ade2ba9-dcd0-45a3-bb21-0a3f5ab6a4af"
   },
   "source": [
    "## Kick off Deployment & Monitoring Pipeline"
   ]
  },
  {
   "cell_type": "code",
   "execution_count": 15,
   "id": "varied-quebec",
   "metadata": {
    "id": "7b0c9566-3bb8-4c8c-85d8-b1b5f34d6350",
    "tags": []
   },
   "outputs": [],
   "source": [
    "import os\n",
    "import nbformat\n",
    "from nbconvert.preprocessors import ExecutePreprocessor\n",
    "import ws_utils as ws_util"
   ]
  },
  {
   "cell_type": "code",
   "execution_count": 16,
   "id": "wrong-reasoning",
   "metadata": {
    "id": "9827c02e-861c-4d39-8eab-7d6b6583abe6",
    "tags": []
   },
   "outputs": [],
   "source": [
    "# pass variables needed in pipeline notebooks through env vars\n",
    "os.environ['SERVICE_PROVIDER_NAME'] = SERVICE_PROVIDER_NAME\n",
    "os.environ['SUBSCRIPTION_NAME'] = SUBSCRIPTION_NAME\n",
    "\n",
    "os.environ['MODEL_ASSET_ID'] = model_asset_id\n",
    "os.environ['WML_SPACE_ID'] = WML_SPACE_ID\n",
    "\n",
    "os.environ['WOS_GUID'] = data_mart_id"
   ]
  },
  {
   "cell_type": "code",
   "execution_count": 17,
   "id": "roman-airfare",
   "metadata": {
    "id": "5a7ecbe3-1622-4ea1-af98-1285b46c8803",
    "tags": []
   },
   "outputs": [
    {
     "name": "stdout",
     "output_type": "stream",
     "text": [
      "------------------------------ A3_OpenScale_Configuration.ipynb ------------------------------\n",
      "Executed notebook written to A3_OpenScale_Configuration_out.ipynb\n",
      "Successfully saved data asset content to file: 'tmp/deployment_metadata.yml'\n",
      "\n",
      "Successfully saved data asset content to file: 'tmp/monitor_metadata.yml'\n",
      "\n",
      "Service provider ID: 1059fa1d-7dfc-4d7b-8e40-ae8aef72afe1\n",
      "\n",
      "Subscription ID: 7fc8fa35-85b3-49cf-97ec-15df1e6971ad\n",
      "\n",
      "Successfully saved data asset content to file: 'tmp/deployment_metadata.yml'\n",
      "Creating data asset...\n",
      "\n",
      "SUCCESS\n",
      "Finished publishing tmp/deployment_metadata.yml as deployment_metadata.yml\n",
      "\n",
      "Finished deleting existing old assets with the same name\n",
      "\n",
      "Successfully saved data asset content to file: 'tmp/deployment_metadata.yml'\n",
      "\n",
      "{'deployment_id': None,\n",
      " 'deployment_space_id': '81c825b4-a1ae-4c1e-8cf3-51b6e3b301b7',\n",
      " 'model_asset': 'Test_Model_wendy_ws_serialized.zip',\n",
      " 'model_name': 'DeepLIIF rich test',\n",
      " 'openscale_custom_metric_provider': {'generic_metrics': {'dir_gt': 'DeepLIIF_Datasets/model_eval/gt_images',\n",
      "   'dir_pred': 'DeepLIIF_Datasets/model_eval/model_images',\n",
      "   'most_recent': 1,\n",
      "   'thresholds': {'num_images_recent_ground_truth': {'threshold': [5.0,\n",
      "      'lower']},\n",
      "    'num_images_recent_predicted': {'threshold': [40.0, 'lower']},\n",
      "    'num_images_total_ground_truth': {'threshold': [5.0, 'lower']},\n",
      "    'num_images_total_predicted': {'threshold': [40.0, 'lower']}},\n",
      "   'volume_display_name': 'AdditionalDeepLIIFVolume'},\n",
      "  'segmentation_metrics': {'dir_gt': 'DeepLIIF_Datasets/model_eval/gt_images',\n",
      "   'dir_pred': 'DeepLIIF_Datasets/model_eval/model_images',\n",
      "   'most_recent': 5,\n",
      "   'thresholds': {'Dice': {'threshold': [20.0, 'lower']},\n",
      "    'Dice_negative': {'threshold': [0.2, 'lower']},\n",
      "    'Dice_positive': {'threshold': [0.2, 'lower']},\n",
      "    'IOU': {'threshold': [12.0, 'lower']},\n",
      "    'IOU_negative': {'threshold': [0.12, 'lower']},\n",
      "    'IOU_positive': {'threshold': [0.12, 'lower']},\n",
      "    'PixAcc': {'threshold': [35.0, 'lower']},\n",
      "    'PixAcc_negative': {'threshold': [0.35, 'lower']},\n",
      "    'PixAcc_positive': {'threshold': [0.35, 'lower']},\n",
      "    'f1': {'threshold': [45.0, 'lower']},\n",
      "    'f1_negative': {'threshold': [0.45, 'lower']},\n",
      "    'f1_positive': {'threshold': [0.45, 'lower']},\n",
      "    'precision': {'threshold': [60.0, 'lower']},\n",
      "    'precision_negative': {'threshold': [0.6, 'lower']},\n",
      "    'precision_positive': {'threshold': [0.6, 'lower']},\n",
      "    'recall': {'threshold': [15.0, 'lower']},\n",
      "    'recall_negative': {'threshold': [0.15, 'lower']},\n",
      "    'recall_positive': {'threshold': [0.15, 'lower']}},\n",
      "   'volume_display_name': 'AdditionalDeepLIIFVolume'}},\n",
      " 'openscale_subscription_id': '7fc8fa35-85b3-49cf-97ec-15df1e6971ad',\n",
      " 'wmla_deployment': {'dependency_filename': 'deepliif-base.zip',\n",
      "  'deployment_name': 'deepliif-base',\n",
      "  'deployment_url': 'https://wmla-inference-cpd-wmla.apps.cpd.mskcc.org/dlim/v1/inference/deepliif-base',\n",
      "  'resource_configs': {'enable_gpus': 'True',\n",
      "   'memory_allocation': 10000,\n",
      "   'n_cpus': 8,\n",
      "   'n_min_kernels': 1,\n",
      "   'n_replicas': 1,\n",
      "   'task_execution_timeout': 120},\n",
      "  'volume_display_name': 'AdditionalDeepLIIFVolume'}}\n",
      "dict_keys(['generic_metrics', 'segmentation_metrics'])\n",
      "******************** checking generic_metrics ********************\n",
      "No existing instance for monitor generic_metrics found with subscription 7fc8fa35-85b3-49cf-97ec-15df1e6971ad\n",
      "None\n",
      "******************** checking segmentation_metrics ********************\n",
      "No existing instance for monitor segmentation_metrics found with subscription 7fc8fa35-85b3-49cf-97ec-15df1e6971ad\n",
      "None\n",
      "\n",
      "No existing instance for monitor generic_metrics found with subscription 7fc8fa35-85b3-49cf-97ec-15df1e6971ad\n",
      "\n",
      "\n",
      "\n",
      "===================================================================================\n",
      "\n",
      " Waiting for end of monitor instance creation a6c257ea-eaca-4df7-89d2-5f93a4238e81 \n",
      "\n",
      "===================================================================================\n",
      "\n",
      "\n",
      "\n",
      "\n",
      "active\n",
      "\n",
      "---------------------------------------\n",
      " Monitor instance successfully created \n",
      "---------------------------------------\n",
      "\n",
      "\n",
      "{\n",
      "  \"metadata\": {\n",
      "    \"id\": \"a6c257ea-eaca-4df7-89d2-5f93a4238e81\",\n",
      "    \"crn\": \"crn:v1:bluemix:public:aiopenscale:us-south:a/na:00000000-0000-0000-0000-000000000000:monitor_instance:a6c257ea-eaca-4df7-89d2-5f93a4238e81\",\n",
      "    \"url\": \"/v2/monitor_instances/a6c257ea-eaca-4df7-89d2-5f93a4238e81\",\n",
      "    \"created_at\": \"2022-03-12T20:54:19.932000Z\",\n",
      "    \"created_by\": \"wangw6\"\n",
      "  },\n",
      "  \"entity\": {\n",
      "    \"data_mart_id\": \"00000000-0000-0000-0000-000000000000\",\n",
      "    \"monitor_definition_id\": \"generic_metrics\",\n",
      "    \"target\": {\n",
      "      \"target_type\": \"subscription\",\n",
      "      \"target_id\": \"7fc8fa35-85b3-49cf-97ec-15df1e6971ad\"\n",
      "    },\n",
      "    \"parameters\": {\n",
      "      \"custom_metrics_provider_id\": \"3d472886-52c4-4941-b4eb-e6cc8abb887c\",\n",
      "      \"custom_metrics_wait_time\": 360\n",
      "    },\n",
      "    \"thresholds\": [\n",
      "      {\n",
      "        \"metric_id\": \"num_images_recent_ground_truth\",\n",
      "        \"type\": \"lower_limit\",\n",
      "        \"value\": 5.0\n",
      "      },\n",
      "      {\n",
      "        \"metric_id\": \"num_images_recent_predicted\",\n",
      "        \"type\": \"lower_limit\",\n",
      "        \"value\": 40.0\n",
      "      },\n",
      "      {\n",
      "        \"metric_id\": \"num_images_total_ground_truth\",\n",
      "        \"type\": \"lower_limit\",\n",
      "        \"value\": 5.0\n",
      "      },\n",
      "      {\n",
      "        \"metric_id\": \"num_images_total_predicted\",\n",
      "        \"type\": \"lower_limit\",\n",
      "        \"value\": 40.0\n",
      "      }\n",
      "    ],\n",
      "    \"schedule\": {\n",
      "      \"repeat_interval\": 60,\n",
      "      \"repeat_unit\": \"minute\",\n",
      "      \"repeat_type\": \"minute\"\n",
      "    },\n",
      "    \"status\": {\n",
      "      \"state\": \"active\"\n",
      "    }\n",
      "  }\n",
      "}\n",
      "No existing instance for monitor segmentation_metrics found with subscription 7fc8fa35-85b3-49cf-97ec-15df1e6971ad\n",
      "\n",
      "\n",
      "\n",
      "===================================================================================\n",
      "\n",
      " Waiting for end of monitor instance creation 4ff02c97-fd35-4a41-ba84-010f13d6bec4 \n",
      "\n",
      "===================================================================================\n",
      "\n",
      "\n",
      "\n",
      "\n",
      "active\n",
      "\n",
      "---------------------------------------\n",
      " Monitor instance successfully created \n",
      "---------------------------------------\n",
      "\n",
      "\n",
      "{\n",
      "  \"metadata\": {\n",
      "    \"id\": \"4ff02c97-fd35-4a41-ba84-010f13d6bec4\",\n",
      "    \"crn\": \"crn:v1:bluemix:public:aiopenscale:us-south:a/na:00000000-0000-0000-0000-000000000000:monitor_instance:4ff02c97-fd35-4a41-ba84-010f13d6bec4\",\n",
      "    \"url\": \"/v2/monitor_instances/4ff02c97-fd35-4a41-ba84-010f13d6bec4\",\n",
      "    \"created_at\": \"2022-03-12T20:54:25.240000Z\",\n",
      "    \"created_by\": \"wangw6\"\n",
      "  },\n",
      "  \"entity\": {\n",
      "    \"data_mart_id\": \"00000000-0000-0000-0000-000000000000\",\n",
      "    \"monitor_definition_id\": \"segmentation_metrics\",\n",
      "    \"target\": {\n",
      "      \"target_type\": \"subscription\",\n",
      "      \"target_id\": \"7fc8fa35-85b3-49cf-97ec-15df1e6971ad\"\n",
      "    },\n",
      "    \"parameters\": {\n",
      "      \"custom_metrics_provider_id\": \"54543a45-8785-465f-98d6-b69ff0725d55\",\n",
      "      \"custom_metrics_wait_time\": 360\n",
      "    },\n",
      "    \"thresholds\": [\n",
      "      {\n",
      "        \"metric_id\": \"Dice\",\n",
      "        \"type\": \"lower_limit\",\n",
      "        \"value\": 20.0\n",
      "      },\n",
      "      {\n",
      "        \"metric_id\": \"Dice_negative\",\n",
      "        \"type\": \"lower_limit\",\n",
      "        \"value\": 0.2\n",
      "      },\n",
      "      {\n",
      "        \"metric_id\": \"Dice_positive\",\n",
      "        \"type\": \"lower_limit\",\n",
      "        \"value\": 0.2\n",
      "      },\n",
      "      {\n",
      "        \"metric_id\": \"IOU\",\n",
      "        \"type\": \"lower_limit\",\n",
      "        \"value\": 12.0\n",
      "      },\n",
      "      {\n",
      "        \"metric_id\": \"IOU_negative\",\n",
      "        \"type\": \"lower_limit\",\n",
      "        \"value\": 0.12\n",
      "      },\n",
      "      {\n",
      "        \"metric_id\": \"IOU_positive\",\n",
      "        \"type\": \"lower_limit\",\n",
      "        \"value\": 0.12\n",
      "      },\n",
      "      {\n",
      "        \"metric_id\": \"PixAcc\",\n",
      "        \"type\": \"lower_limit\",\n",
      "        \"value\": 35.0\n",
      "      },\n",
      "      {\n",
      "        \"metric_id\": \"PixAcc_negative\",\n",
      "        \"type\": \"lower_limit\",\n",
      "        \"value\": 0.35\n",
      "      },\n",
      "      {\n",
      "        \"metric_id\": \"PixAcc_positive\",\n",
      "        \"type\": \"lower_limit\",\n",
      "        \"value\": 0.35\n",
      "      },\n",
      "      {\n",
      "        \"metric_id\": \"f1\",\n",
      "        \"type\": \"lower_limit\",\n",
      "        \"value\": 45.0\n",
      "      },\n",
      "      {\n",
      "        \"metric_id\": \"f1_negative\",\n",
      "        \"type\": \"lower_limit\",\n",
      "        \"value\": 0.45\n",
      "      },\n",
      "      {\n",
      "        \"metric_id\": \"f1_positive\",\n",
      "        \"type\": \"lower_limit\",\n",
      "        \"value\": 0.45\n",
      "      },\n",
      "      {\n",
      "        \"metric_id\": \"precision\",\n",
      "        \"type\": \"lower_limit\",\n",
      "        \"value\": 60.0\n",
      "      },\n",
      "      {\n",
      "        \"metric_id\": \"precision_negative\",\n",
      "        \"type\": \"lower_limit\",\n",
      "        \"value\": 0.6\n",
      "      },\n",
      "      {\n",
      "        \"metric_id\": \"precision_positive\",\n",
      "        \"type\": \"lower_limit\",\n",
      "        \"value\": 0.6\n",
      "      },\n",
      "      {\n",
      "        \"metric_id\": \"recall\",\n",
      "        \"type\": \"lower_limit\",\n",
      "        \"value\": 15.0\n",
      "      },\n",
      "      {\n",
      "        \"metric_id\": \"recall_negative\",\n",
      "        \"type\": \"lower_limit\",\n",
      "        \"value\": 0.15\n",
      "      },\n",
      "      {\n",
      "        \"metric_id\": \"recall_positive\",\n",
      "        \"type\": \"lower_limit\",\n",
      "        \"value\": 0.15\n",
      "      }\n",
      "    ],\n",
      "    \"schedule\": {\n",
      "      \"repeat_interval\": 60,\n",
      "      \"repeat_unit\": \"minute\",\n",
      "      \"repeat_type\": \"minute\"\n",
      "    },\n",
      "    \"status\": {\n",
      "      \"state\": \"active\"\n",
      "    }\n",
      "  }\n",
      "}\n",
      "\n",
      "****************************** generic_metrics ******************************\n",
      "\n",
      "{'predictions': [{'values': [[{'measurement_id': 'd66f6e94-c5be-42ff-9081-0c5324873b59',\n",
      "                               'metrics': [{'num_images_recent_ground_truth': 5,\n",
      "                                            'num_images_recent_predicted': 40,\n",
      "                                            'num_images_total_ground_truth': 5,\n",
      "                                            'num_images_total_predicted': 40}],\n",
      "                               'run_id': 'f5d732f3-baac-4c1e-9c7a-cbacf3c06da6',\n",
      "                               'timestamp': '2022-03-12T20:54:30.442343Z'}]]}]}\n",
      "****************************** segmentation_metrics ******************************\n",
      "\n",
      "{'predictions': [{'values': [[{'measurement_id': '8ca0bb6e-9165-47ab-be47-327e0eb387aa',\n",
      "                               'metrics': [{'dice': 17.12481177333475,\n",
      "                                            'dice_negative': 0.2325323832644352,\n",
      "                                            'dice_positive': 0.10996385220225972,\n",
      "                                            'f1': 17.12481177333475,\n",
      "                                            'f1_negative': 0.23253238326443526,\n",
      "                                            'f1_positive': 0.10996385220225972,\n",
      "                                            'iou': 9.497731909543694,\n",
      "                                            'iou_negative': 0.13171889768096506,\n",
      "                                            'iou_positive': 0.058235740509908804,\n",
      "                                            'pixacc': 31.13739013671875,\n",
      "                                            'pixacc_negative': 0.3235160827636719,\n",
      "                                            'pixacc_positive': 0.29923171997070314,\n",
      "                                            'precision': 73.81256389519754,\n",
      "                                            'precision_negative': 0.8045789513535849,\n",
      "                                            'precision_positive': 0.671672326550366,\n",
      "                                            'recall': 9.799327205869504,\n",
      "                                            'recall_negative': 0.13605478929431086,\n",
      "                                            'recall_positive': 0.059931754823079206}],\n",
      "                               'run_id': 'd571357c-338b-4277-a9cf-7182600403a7',\n",
      "                               'timestamp': '2022-03-12T20:54:32.557422Z'}]]}]}\n",
      "\n"
     ]
    }
   ],
   "source": [
    "paths_nb = ['A3_OpenScale_Configuration.ipynb']\n",
    "\n",
    "for path_nb in paths_nb:\n",
    "    print('-'*30,path_nb,'-'*30)\n",
    "    ws_util.run_pipeline_notebook(path_nb,save_notebook=True)"
   ]
  },
  {
   "cell_type": "code",
   "execution_count": null,
   "id": "large-mercy",
   "metadata": {
    "id": "c25e6ebd-1ba5-42f2-959a-3e657453ede7"
   },
   "outputs": [],
   "source": []
  }
 ],
 "metadata": {
  "kernelspec": {
   "display_name": "Python 3.8 + GPU with applications",
   "language": "python",
   "name": "python3"
  },
  "language_info": {
   "codemirror_mode": {
    "name": "ipython",
    "version": 3
   },
   "file_extension": ".py",
   "mimetype": "text/x-python",
   "name": "python",
   "nbconvert_exporter": "python",
   "pygments_lexer": "ipython3",
   "version": "3.8.11"
  }
 },
 "nbformat": 4,
 "nbformat_minor": 5
}
