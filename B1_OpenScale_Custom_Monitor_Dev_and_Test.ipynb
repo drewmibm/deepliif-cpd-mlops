{
 "cells": [
  {
   "cell_type": "markdown",
   "id": "presidential-insight",
   "metadata": {
    "id": "96ab0c85-0ee8-4aca-b9ad-d06704ffae88",
    "tags": []
   },
   "source": [
    "# Develop and Test Custom Metrics Provider Function\n",
    "\n",
    "WML deployable function can take a script, but not a set of scripts with dependency on each other. To bring in utility scripts, use the `scripts` argument in `wml_sdk_utils.prepare_function()`. It sends the content of each specified script as string to the deployable function script by inserting `d_scripts[{script_name}] = repr(script_content)`, and later you need a bit of code to write the string to a script, so that you could load your util scripts.\n",
    "\n",
    "If you want to bring in a whole module folder, you will need to adapt the `wml_sdk_utils.prepare_function()` to be able to comsume a folder of scripts, which should work."
   ]
  },
  {
   "cell_type": "code",
   "execution_count": 1,
   "id": "popular-samoa",
   "metadata": {
    "id": "bdde5e0b-d78c-414a-99fa-2db098c2e143",
    "tags": []
   },
   "outputs": [],
   "source": [
    "import os\n",
    "\n",
    "path_custom_metrics_script = 'custom_metrics_segmentation.py'\n",
    "\n",
    "variables = {\"os.environ['RUNTIME_ENV_APSX_URL']\":os.environ['RUNTIME_ENV_APSX_URL'],\n",
    "             \"os.environ['USERNAME']\":'wangw6',\n",
    "             \"os.environ['APIKEY']\":'********',\n",
    "             'space_id':'934341dc-0a71-4d86-9c09-a47261359cca'}\n",
    "\n",
    "scripts = ['wml_sdk_utils.py']"
   ]
  },
  {
   "cell_type": "code",
   "execution_count": 2,
   "id": "sensitive-knitting",
   "metadata": {
    "id": "9051d742-892c-420c-b40a-95564138f08d",
    "tags": []
   },
   "outputs": [],
   "source": [
    "import wml_sdk_utils as wml_util\n",
    "\n",
    "wml_client = wml_util.get_client(space_id = '934341dc-0a71-4d86-9c09-a47261359cca')"
   ]
  },
  {
   "cell_type": "code",
   "execution_count": 3,
   "id": "artificial-bobby",
   "metadata": {
    "id": "2702da35-7bac-4669-a267-06e1f426fa3b",
    "tags": []
   },
   "outputs": [
    {
     "name": "stdout",
     "output_type": "stream",
     "text": [
      "Finished writing essential information into custom_metrics_segmentation_edited.py\n"
     ]
    }
   ],
   "source": [
    "wml_util.function_prepare(path_custom_metrics_script,variables,scripts)\n",
    "path_custom_metrics_script_final = path_custom_metrics_script.replace('.py','_edited.py')"
   ]
  },
  {
   "cell_type": "code",
   "execution_count": 4,
   "id": "applied-illinois",
   "metadata": {
    "id": "85d0bce8-d0e2-434d-b333-fee199800217",
    "tags": []
   },
   "outputs": [],
   "source": [
    "# wml_util.metadata_yml_load(wml_client)"
   ]
  },
  {
   "cell_type": "markdown",
   "id": "internal-height",
   "metadata": {
    "id": "8ff67805-7949-47ca-8790-8c792dd2eefd"
   },
   "source": [
    "## test code outside of functions"
   ]
  },
  {
   "cell_type": "code",
   "execution_count": 5,
   "id": "engaged-superintendent",
   "metadata": {
    "id": "f73cb869-db89-4c1a-85b6-5160bf380503",
    "tags": []
   },
   "outputs": [
    {
     "name": "stdout",
     "output_type": "stream",
     "text": [
      "Successfully saved data asset content to file: 'storage_volume_utils.py'\n",
      "Successfully saved data asset content to file: 'cpd_utils.py'\n",
      "Successfully saved data asset content to file: 'DeepLIIF_Statistics.zip'\n"
     ]
    }
   ],
   "source": [
    "exec(open(path_custom_metrics_script_final,'r').read())"
   ]
  },
  {
   "cell_type": "markdown",
   "id": "demonstrated-communist",
   "metadata": {
    "id": "1aa62a07-5de3-4c91-8411-1a736834efb6"
   },
   "source": [
    "## test the key metric-calculatioon function: get_metrics"
   ]
  },
  {
   "cell_type": "code",
   "execution_count": 6,
   "id": "occasional-wholesale",
   "metadata": {
    "id": "76b36af6-e848-47c8-98e4-d44b69f95acf",
    "tags": []
   },
   "outputs": [
    {
     "name": "stdout",
     "output_type": "stream",
     "text": [
      "Successfully saved data asset content to file: 'storage_volume_utils.py'\n",
      "Successfully saved data asset content to file: 'cpd_utils.py'\n",
      "Successfully saved data asset content to file: 'DeepLIIF_Statistics.zip'\n"
     ]
    }
   ],
   "source": [
    "exec(open(path_custom_metrics_script_final,'r').read())"
   ]
  },
  {
   "cell_type": "code",
   "execution_count": 9,
   "id": "macro-velvet",
   "metadata": {
    "id": "cd8483e4-2505-45ee-ac03-1efd4abdf9f3",
    "tags": []
   },
   "outputs": [
    {
     "name": "stdout",
     "output_type": "stream",
     "text": [
      "Successfully saved data asset content to file: 'tmp/deployment_metadata.yml'\n",
      "deleting tmp/deployment_metadata.yml...\n",
      "/userfs\n",
      "elasped time for downloading gt: 2.1642048358917236\n",
      "elasped time for downloading pred: 17.21240735054016\n",
      "Finished downloading all images.\n",
      "CPU times: user 3.53 s, sys: 436 ms, total: 3.96 s\n",
      "Wall time: 25.6 s\n"
     ]
    },
    {
     "data": {
      "text/plain": [
       "{'precision': 73.76041224794962,\n",
       " 'precision_positive': 0.6755419463498027,\n",
       " 'precision_negative': 0.7996662986091894,\n",
       " 'recall': 10.346697576444317,\n",
       " 'recall_positive': 0.05577876386726529,\n",
       " 'recall_negative': 0.15115518766162106,\n",
       " 'f1': 17.826432134592743,\n",
       " 'f1_positive': 0.10280627229116457,\n",
       " 'f1_negative': 0.25372237040069023,\n",
       " 'dice': 17.826432134592743,\n",
       " 'dice_positive': 0.10280627229116454,\n",
       " 'dice_negative': 0.25372237040069023,\n",
       " 'iou': 10.010237323285434,\n",
       " 'iou_positive': 0.05433885474811699,\n",
       " 'iou_negative': 0.1458658917175917,\n",
       " 'pixacc': 30.86512565612793,\n",
       " 'pixacc_positive': 0.2909820556640625,\n",
       " 'pixacc_negative': 0.3263204574584961}"
      ]
     },
     "execution_count": 9,
     "metadata": {},
     "output_type": "execute_result"
    }
   ],
   "source": [
    "%%time\n",
    "get_metrics(subscription_id='')"
   ]
  },
  {
   "cell_type": "markdown",
   "id": "traditional-optimization",
   "metadata": {
    "id": "f51005a8-7b52-4f4f-b8f4-fef6485f9a3a",
    "tags": []
   },
   "source": [
    "## test a real call\n",
    "you can get an example `input_data` afer running notebook A3"
   ]
  },
  {
   "cell_type": "code",
   "execution_count": 9,
   "id": "surprising-interval",
   "metadata": {
    "id": "db34a09b-0bab-4720-b9b2-62a8871bebd3",
    "tags": []
   },
   "outputs": [],
   "source": [
    "# input_data = {'input_data': [{'values': {'data_mart_id': '00000000-0000-0000-0000-000000000000',\n",
    "#     'subscription_id': '39e20506-75c9-4eb6-9831-859adc0fb921',\n",
    "#     'custom_monitor_id': 'segmentation_metrics',\n",
    "#     'custom_monitor_instance_id': '51b4c016-4f9e-44ca-8ca9-7386f5030d0a',\n",
    "#     'custom_monitor_instance_params': {'custom_metrics_provider_id': '9ebccdf3-efdf-4321-9505-42fb1ffe04ad',\n",
    "#      'custom_metrics_wait_time': 360,\n",
    "#      'run_details': {'run_id': '1e05b494-d7bc-4556-93f6-466ed7c79f5e',\n",
    "#       'run_status': 'Running'}}}}]}\n"
   ]
  },
  {
   "cell_type": "code",
   "execution_count": 10,
   "id": "rental-capitol",
   "metadata": {
    "id": "34731093-d219-4c94-9c03-f37545b512c2",
    "tags": []
   },
   "outputs": [],
   "source": [
    "# %%time\n",
    "# score(input_data)"
   ]
  }
 ],
 "metadata": {
  "kernelspec": {
   "display_name": "Python 3.8",
   "language": "python",
   "name": "python3"
  },
  "language_info": {
   "codemirror_mode": {
    "name": "ipython",
    "version": 3
   },
   "file_extension": ".py",
   "mimetype": "text/x-python",
   "name": "python",
   "nbconvert_exporter": "python",
   "pygments_lexer": "ipython3",
   "version": "3.8.11"
  }
 },
 "nbformat": 4,
 "nbformat_minor": 5
}
