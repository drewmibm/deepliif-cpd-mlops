{
 "cells": [
  {
   "cell_type": "markdown",
   "id": "flush-arkansas",
   "metadata": {
    "id": "c04b7ed0-afae-482a-b58d-2a15e25689b0",
    "tags": []
   },
   "source": [
    "# Deploy a model on WMLA"
   ]
  },
  {
   "cell_type": "markdown",
   "id": "unavailable-significance",
   "metadata": {
    "id": "d8ff2312-ea2d-4ee6-bd9e-b907d2d69602"
   },
   "source": [
    "# 1. Setup and prepare working directory"
   ]
  },
  {
   "cell_type": "code",
   "execution_count": null,
   "id": "muslim-packet",
   "metadata": {
    "id": "0184c408-2a40-471e-9852-e46da638fb55",
    "tags": []
   },
   "outputs": [],
   "source": [
    "import os\n",
    "import json\n",
    "import shutil\n",
    "import subprocess\n",
    "\n",
    "import requests\n",
    "import urllib3\n",
    "\n",
    "import wml_sdk_utils as wml_util\n",
    "import storage_volume_utils as sv\n",
    "import wml_sdk_utils as wsdk\n",
    "import wmla_edi_utils as edi\n",
    "import wmla_utils as wmla_util\n",
    "\n",
    "urllib3.disable_warnings(urllib3.exceptions.InsecureRequestWarning)"
   ]
  },
  {
   "cell_type": "code",
   "execution_count": null,
   "id": "embedded-friendship",
   "metadata": {
    "id": "77e5f8f6-bd41-4e31-bd54-3f43b33b5a30",
    "tags": []
   },
   "outputs": [],
   "source": [
    "# Supplied as environment variables in cli_mlops.py or A_MLOps_Pipeline.ipynb\n",
    "WML_SPACE_ID = os.getenv('WML_SPACE_ID')\n",
    "MODEL_ASSET_ID = os.getenv('MODEL_ASSET_ID')\n",
    "REST_SERVER = os.getenv('REST_SERVER')\n",
    "DLIM_PATH = os.getenv('DLIM_PATH')\n",
    "KERNEL_FILENAME = os.getenv('KERNEL_FILENAME','kernel.py')\n",
    "CUSTOM_ARG = os.getenv('CUSTOM_ARG')"
   ]
  },
  {
   "cell_type": "code",
   "execution_count": null,
   "id": "desperate-section",
   "metadata": {
    "id": "c59f4df4-c796-4bb5-bc16-b2d0ad3d985b",
    "tags": []
   },
   "outputs": [],
   "source": [
    "# Initiate WML client\n",
    "wml_client = wsdk.get_client(space_id=WML_SPACE_ID)\n",
    "metadata_deployment = wml_util.metadata_yml_load(wml_client,'deployment')[MODEL_ASSET_ID]"
   ]
  },
  {
   "cell_type": "code",
   "execution_count": null,
   "id": "received-viking",
   "metadata": {
    "id": "9d471f85-a31b-4db4-8980-b131c449f11a",
    "tags": []
   },
   "outputs": [],
   "source": [
    "# From config yaml file\n",
    "WML_SPACE_MODEL = metadata_deployment['model_asset']\n",
    "DEPLOY_NAME = metadata_deployment['wmla_deployment']['deployment_name']\n",
    "DEPLOY_DEPENDENCY_FILE = metadata_deployment['wmla_deployment']['dependency_filename']\n",
    "VOLUME_DISPLAY_NAME = metadata_deployment['wmla_deployment']['volume_display_name']\n",
    "DEPLOYMENT_URL = metadata_deployment['wmla_deployment']['deployment_url']\n",
    "\n",
    "resource_configs = metadata_deployment['wmla_deployment']['resource_configs']\n",
    "KERNEL_MIN = resource_configs.get('kernel_min',1)\n",
    "KERNEL_MAX = resource_configs.get('kernel_max',100)\n",
    "KERNEL_DELAY_RELEASE_TIME = resource_configs.get('kernel_delay_release_time',60)\n",
    "TASK_EXECUTION_TIMEOUT = resource_configs.get('task_execution_timeout',60)\n",
    "\n",
    "ENABLE_GPUS = bool(resource_configs['enable_gpus'])\n",
    "NCPUS = resource_configs.get('n_cpus',8)\n",
    "MEM = resource_configs.get('memory_allocation',1000)\n",
    "RESOURCES = f\"ncpus={NCPUS},ncpus_limit={NCPUS},mem={MEM},mem_limit={MEM}\""
   ]
  },
  {
   "cell_type": "code",
   "execution_count": null,
   "id": "written-session",
   "metadata": {
    "id": "32a1d338-c25d-436f-ab8c-9afdadccab1c",
    "tags": []
   },
   "outputs": [],
   "source": [
    "# Prepare additional dependencies\n",
    "DIR_DEPLOY_SUBMISSION = f'/userfs/deploy_submissions/{DEPLOY_NAME}'\n",
    "os.environ['DIR_DEPLOY_SUBMISSION'] = DIR_DEPLOY_SUBMISSION\n",
    "os.environ['DEPLOY_NAME'] = DEPLOY_NAME\n",
    "    \n",
    "# Add to path\n",
    "if not DLIM_PATH in os.environ['PATH']:\n",
    "    os.environ['PATH'] = os.environ['PATH'] + f':{DLIM_PATH}'"
   ]
  },
  {
   "cell_type": "markdown",
   "id": "encouraging-glossary",
   "metadata": {
    "id": "7fa9d37a-7ac3-4d2b-aa55-7fe3fa528481"
   },
   "source": [
    "## 1.1 Save misc. model files to working directory\n",
    "\n",
    "Deployments are submitted using the `dlim` CLI tool, which requires all deployment dependencies be collected in a job submission folder."
   ]
  },
  {
   "cell_type": "code",
   "execution_count": null,
   "id": "biblical-shade",
   "metadata": {
    "id": "ead1b6f6-5a75-48cf-8b7a-c41987e9d314",
    "tags": []
   },
   "outputs": [],
   "source": [
    "!rm -rf $DIR_DEPLOY_SUBMISSION\n",
    "!mkdir -p $DIR_DEPLOY_SUBMISSION"
   ]
  },
  {
   "cell_type": "code",
   "execution_count": null,
   "id": "provincial-blame",
   "metadata": {
    "id": "d64a4d80-1ae7-4c57-91a0-d573bf851414",
    "tags": []
   },
   "outputs": [],
   "source": [
    "general_dependencies = ['wmla_edi_utils.py',\n",
    "                        'storage_volume_utils.py',\n",
    "                        'cpd_utils.py',\n",
    "                        'wml_sdk_utils.py',]\n",
    "files = general_dependencies + [DEPLOY_DEPENDENCY_FILE]\n",
    "wsdk.download_batch(files, wml_client, os.getenv('DIR_DEPLOY_SUBMISSION'))\n",
    "\n",
    "# Extract dependency file & clean up\n",
    "DEPLOY_DEPENDENCY = os.path.splitext(DEPLOY_DEPENDENCY_FILE)[0]\n",
    "shutil.unpack_archive(f\"{os.getenv('DIR_DEPLOY_SUBMISSION')}/{DEPLOY_DEPENDENCY_FILE}\", \n",
    "                      extract_dir=os.getenv('DIR_DEPLOY_SUBMISSION'))\n",
    "shutil.copytree(src=f\"{os.getenv('DIR_DEPLOY_SUBMISSION')}/{DEPLOY_DEPENDENCY}/\",\n",
    "                dst=os.getenv('DIR_DEPLOY_SUBMISSION'),\n",
    "                dirs_exist_ok=True)\n",
    "shutil.rmtree(f\"{os.getenv('DIR_DEPLOY_SUBMISSION')}/{DEPLOY_DEPENDENCY}\")\n",
    "os.remove(f\"{os.getenv('DIR_DEPLOY_SUBMISSION')}/{DEPLOY_DEPENDENCY_FILE}\")"
   ]
  },
  {
   "cell_type": "code",
   "execution_count": null,
   "id": "enclosed-knife",
   "metadata": {
    "id": "9c3fdcb0-1324-4490-bb10-e5c7b41c4f27"
   },
   "outputs": [],
   "source": [
    "if CUSTOM_ARG is not None:\n",
    "    custom_arg = CUSTOM_ARG.split(' ')\n",
    "\n",
    "    variables = {}\n",
    "    for pair in custom_arg:\n",
    "        pair_parsed = pair.split('=')\n",
    "        variables[pair_parsed[0]] = pair_parsed[1]\n",
    "\n",
    "    wmla_util.kernel_file_prepare(f'{DIR_DEPLOY_SUBMISSION}/{KERNEL_FILENAME}',variables)\n",
    "    print('custom arguments added:',CUSTOM_ARG)"
   ]
  },
  {
   "cell_type": "code",
   "execution_count": null,
   "id": "fiscal-vulnerability",
   "metadata": {
    "id": "0d560f41-0c40-4ac2-86e6-78c3f6fddf4f",
    "tags": []
   },
   "outputs": [],
   "source": [
    "%%writefile $DIR_DEPLOY_SUBMISSION/model.json\n",
    "\n",
    "{\"name\": \"__PLACEHOLDER__\", \n",
    " \"kernel_path\": \"__PLACEHOLDER__\", \n",
    " \"readme\": \"__PLACEHOLDER__\",\n",
    " \"tag\": \"test\", \n",
    " \"weight_path\": \"./\",  \n",
    " \"runtime\": \"dlipy3\", \n",
    " \"framework\": \"PyTorch\", \n",
    " \"schema_version\": \"1\"}"
   ]
  },
  {
   "cell_type": "code",
   "execution_count": null,
   "id": "executed-understanding",
   "metadata": {
    "id": "80fa8a75-ef78-4f63-9c3f-d3941972e56c",
    "tags": []
   },
   "outputs": [],
   "source": [
    "## fill in the information\n",
    "conf = json.load(open(f'{DIR_DEPLOY_SUBMISSION}/model.json'))\n",
    "conf['name'] = DEPLOY_NAME\n",
    "conf['kernel_path'] = KERNEL_FILENAME\n",
    "conf['readme'] = 'README.md'\n",
    "conf['mk_environments'] = [{'name':'WML_SPACE_ID', 'value':WML_SPACE_ID},\n",
    "                           {'name':'WML_SPACE_MODEL', 'value':WML_SPACE_MODEL}]\n",
    "\n",
    "with open(f'{DIR_DEPLOY_SUBMISSION}/model.json', 'w') as f:\n",
    "    json.dump(conf, f)\n",
    "    \n",
    "conf = json.load(open(f'{DIR_DEPLOY_SUBMISSION}/model.json'))"
   ]
  },
  {
   "cell_type": "markdown",
   "id": "diverse-carroll",
   "metadata": {
    "id": "a67567d0-2bf0-4391-bb74-8f6ca2efbf50"
   },
   "source": [
    "## **Edit files before continuing**"
   ]
  },
  {
   "cell_type": "markdown",
   "id": "written-queue",
   "metadata": {
    "id": "8d03086c-86e8-4748-8369-d7d67624e8de"
   },
   "source": [
    "# 2. Submit deployment"
   ]
  },
  {
   "cell_type": "markdown",
   "id": "equipped-horizontal",
   "metadata": {
    "id": "000aa223-2842-4893-bb27-0111755bc9f9",
    "tags": []
   },
   "source": [
    "## 2.1 Remove deployment with same name if it already exists"
   ]
  },
  {
   "cell_type": "code",
   "execution_count": null,
   "id": "opening-cassette",
   "metadata": {
    "id": "4b586c7b-9490-4d8e-bcd8-e67be854309d",
    "tags": []
   },
   "outputs": [],
   "source": [
    "edi.run_subprocess_and_retry(f\"dlim model stop {DEPLOY_NAME} --rest-server {REST_SERVER} --jwt-token $USER_ACCESS_TOKEN -f\",\n",
    "                         f\"Stopping model \\\"{DEPLOY_NAME}\\\", run \\\"dlim model view {DEPLOY_NAME} -s\\\" to ensure stop.\")"
   ]
  },
  {
   "cell_type": "code",
   "execution_count": null,
   "id": "elementary-sarah",
   "metadata": {
    "id": "fd6ad1aa-516a-4205-ad98-ae336943afbf",
    "tags": []
   },
   "outputs": [],
   "source": [
    "edi.run_subprocess_and_retry(f\"dlim model undeploy {DEPLOY_NAME} --rest-server {REST_SERVER} --jwt-token $USER_ACCESS_TOKEN -f\", \n",
    "                         f\"Undeployed model \\\"{DEPLOY_NAME}\\\", run \\\"dlim model list\\\" to ensure deletion.\", delay=10)"
   ]
  },
  {
   "cell_type": "markdown",
   "id": "altered-decimal",
   "metadata": {
    "id": "c1f43aee-9c3f-4397-8163-1d42ce5dee6c"
   },
   "source": [
    "## 2.2 Deploy model"
   ]
  },
  {
   "cell_type": "code",
   "execution_count": null,
   "id": "funky-friend",
   "metadata": {
    "id": "6de064d3-cf92-48a4-b859-7d8c3a546eed",
    "tags": []
   },
   "outputs": [],
   "source": [
    "edi.run_subprocess_and_retry(f\"dlim model deploy -p {DIR_DEPLOY_SUBMISSION} --rest-server {REST_SERVER} --jwt-token $USER_ACCESS_TOKEN\",\n",
    "                         f\"Model <{DEPLOY_NAME}> is deployed successfully\", delay=5, verification_line=-1)"
   ]
  },
  {
   "cell_type": "markdown",
   "id": "simple-athletics",
   "metadata": {
    "id": "f0af33fe-e2a9-40b7-8d63-9f35c90e1052"
   },
   "source": [
    "## 2.1 Modify configuration"
   ]
  },
  {
   "cell_type": "code",
   "execution_count": null,
   "id": "tribal-adoption",
   "metadata": {
    "id": "4af86ae1-035c-4f63-828e-5d9e02bb55d7",
    "tags": []
   },
   "outputs": [],
   "source": [
    "# Request profile as JSON\n",
    "!dlim model viewprofile $DEPLOY_NAME -j --rest-server $REST_SERVER --jwt-token $USER_ACCESS_TOKEN > $DIR_DEPLOY_SUBMISSION/update_model.json\n",
    "with open(f\"{DIR_DEPLOY_SUBMISSION}/update_model.json\",'r') as f:\n",
    "    update_model = json.load(f)\n",
    "\n",
    "# Apply changes\n",
    "update_model['policy']['kernel_min'] = KERNEL_MIN\n",
    "update_model['policy']['kernel_max'] = KERNEL_MAX\n",
    "update_model['policy']['kernel_delay_release_time'] = KERNEL_DELAY_RELEASE_TIME\n",
    "update_model['policy']['task_execution_timeout'] = TASK_EXECUTION_TIMEOUT\n",
    "update_model['resource_allocation']['kernel']['resources'] = RESOURCES\n",
    "if ENABLE_GPUS:\n",
    "    update_model['kernel']['gpu'] = 'exclusive'\n",
    "\n",
    "# Update profile\n",
    "with open(f\"{DIR_DEPLOY_SUBMISSION}/update_model.json\",'w') as f:\n",
    "    json.dump(update_model, f)\n",
    "edi.run_subprocess_and_retry(f\"dlim model updateprofile {DEPLOY_NAME} -f {DIR_DEPLOY_SUBMISSION}/update_model.json --rest-server {REST_SERVER} --jwt-token $USER_ACCESS_TOKEN\",\n",
    "                         \"Model is updated successfully\")"
   ]
  },
  {
   "cell_type": "markdown",
   "id": "short-domestic",
   "metadata": {
    "id": "9b13cbfc-954b-4e7f-aa1a-d966066a7a8f"
   },
   "source": [
    "# 3. Start deployment"
   ]
  },
  {
   "cell_type": "code",
   "execution_count": null,
   "id": "rubber-giant",
   "metadata": {
    "id": "77bf5401-c90c-4fed-acab-f2768aaba8f6",
    "tags": []
   },
   "outputs": [],
   "source": [
    "edi.run_subprocess_and_retry(f\"dlim model start {DEPLOY_NAME} --rest-server {REST_SERVER} --jwt-token $USER_ACCESS_TOKEN\", \n",
    "                         f\"Starting model \\\"{DEPLOY_NAME}\\\", run \\\"dlim model view {DEPLOY_NAME} -s\\\" to ensure startup.\")"
   ]
  },
  {
   "cell_type": "code",
   "execution_count": null,
   "id": "conscious-definition",
   "metadata": {
    "id": "1e37e625-b618-4b99-8ef6-bf8f0a7671a0"
   },
   "outputs": [],
   "source": [
    "edi.wait_for_model_idle_status(DEPLOY_NAME)"
   ]
  },
  {
   "cell_type": "markdown",
   "id": "alternate-recipient",
   "metadata": {
    "id": "030f72d6-10b9-40f3-86f4-3e4c0efc0123"
   },
   "source": [
    "# 4. Test scoring"
   ]
  },
  {
   "cell_type": "raw",
   "id": "adverse-administration",
   "metadata": {
    "id": "7fd4c280-fc6d-489f-93ca-4bf6ac82d0a8",
    "tags": []
   },
   "source": [
    "headers = {'Authorization': f'Bearer {os.getenv(\"USER_ACCESS_TOKEN\")}'}\n",
    "data = {\n",
    "        #'local_input_image':serialize_tensor(ts=img),\n",
    "        #'storage_volume_name':'DeepLIIFData',\n",
    "        'img_path_on_pvc':'edi_deployments/sample_input_images/22_2_real_A.png',\n",
    "        #'save_path_on_pvc':'edi_inference/output_images',\n",
    "        'tile_size':512,\n",
    "        'images_to_return':'all',\n",
    "        }"
   ]
  },
  {
   "cell_type": "raw",
   "id": "duplicate-appraisal",
   "metadata": {
    "id": "668b59c1-8fc9-4b40-97a2-511c939b2bdf",
    "tags": []
   },
   "source": [
    "r = requests.post(DEPLOYMENT_URL, headers=headers,\n",
    "                  json = data, verify = False)\n",
    "r.status_code"
   ]
  },
  {
   "cell_type": "raw",
   "id": "handy-dylan",
   "metadata": {
    "id": "70854f08-5a50-48d9-b1e2-d22d0312ec53",
    "tags": []
   },
   "source": [
    "r.text"
   ]
  }
 ],
 "metadata": {
  "kernelspec": {
   "display_name": "Python 3.8 + GPU with applications",
   "language": "python",
   "name": "python3"
  },
  "language_info": {
   "codemirror_mode": {
    "name": "ipython",
    "version": 3
   },
   "file_extension": ".py",
   "mimetype": "text/x-python",
   "name": "python",
   "nbconvert_exporter": "python",
   "pygments_lexer": "ipython3",
   "version": "3.8.11"
  }
 },
 "nbformat": 4,
 "nbformat_minor": 5
}
