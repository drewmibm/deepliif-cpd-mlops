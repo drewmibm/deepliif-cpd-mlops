{
 "cells": [
  {
   "cell_type": "markdown",
   "metadata": {
    "id": "323c4a86-a69d-4b72-801e-ca3574399fc9"
   },
   "source": [
    "# WML-A Job Submission via WML-A CLI\n",
    "\n",
    "Offical examples can be found here: https://wmla-console-cpd-wmla.apps.cpd.mskcc.org/ui/#/cliTools"
   ]
  },
  {
   "cell_type": "code",
   "execution_count": 1,
   "metadata": {
    "id": "f495e746-a983-4243-bdef-8f7fd3360a66",
    "tags": []
   },
   "outputs": [],
   "source": [
    "import os\n",
    "import wmla_utils as wmla_util"
   ]
  },
  {
   "cell_type": "code",
   "execution_count": 2,
   "metadata": {
    "id": "f777502a-d09c-43de-9290-32b34fd9eeb3",
    "tags": []
   },
   "outputs": [
    {
     "name": "stdout",
     "output_type": "stream",
     "text": [
      "exec-start:        the wmla framework to use, such as PyTorch, distPyTorch, etc.\n",
      "model-dir:         a local folder to be submitted, with model training scripts\n",
      "model-main:        the main file to execute for training\n",
      "cs-datastore-meta: location of data, this usually refers to the folder in WMLA's data volume; you can check the content or interact with it from WMLA's notebook server, under the 'data' folder\n",
      "workerDeviceNum:   number of GPU devices in one worker pod\n",
      "workerMemory:      memory of worker pod, increase the value if needed\n",
      "msd-env:           custom environment variables & values; when used in cli, the command looks like this: \n",
      "                   python dlicmd.py --msd-env varA=1 --msd-env varB=mytoken ...\n",
      "numWorker:         number of worker pods to use; in the context of distributed deep learning, this is similar to the number of processes to open\n",
      "* PyTorch's doc recommends to use 1 GPU per process in DistributedDataParallel. In WMLA, this is equivalent to workerDeviceNum = 1.\n"
     ]
    },
    {
     "data": {
      "text/plain": [
       "{'exec-start': 'distPyTorch',\n",
       " 'model-dir': '/userfs/job_submission',\n",
       " 'model-main': 'train_command.py',\n",
       " 'cs-datastore-meta': 'type=fs,data_path=My_Datasets/',\n",
       " 'workerDeviceNum': 1,\n",
       " 'workerMemory': '8g',\n",
       " 'msd-env': ['varA=1', 'varB=mytoken'],\n",
       " 'numWorker': 2}"
      ]
     },
     "execution_count": 2,
     "metadata": {},
     "output_type": "execute_result"
    }
   ],
   "source": [
    "wmla_framework = 'distPyTorch'\n",
    "wmla_util.get_options_training(wmla_framework)"
   ]
  },
  {
   "cell_type": "code",
   "execution_count": 3,
   "metadata": {
    "id": "7f143f88-1e14-4179-b5e7-c936ca9c105b",
    "tags": []
   },
   "outputs": [],
   "source": [
    "volume_display_name = 'DeepLIIFData'\n",
    "file_training = 'cli.py' # use None if your main training file and execution file are the same one\n",
    "\n",
    "options = {'exec-start': wmla_framework,\n",
    "           'numWorker': 2,\n",
    "           'workerDeviceNum': 1,\n",
    "           'workerMemory': '8g',\n",
    "           'model-dir': '/userfs/job_submission',\n",
    "           'model-main': 'train_command.py',\n",
    "           'cs-datastore-meta': 'type=fs,data_path=DeepLIIF_Datasets/',\n",
    "           'msd-env': [f\"USER_ACCESS_TOKEN={os.environ['USER_ACCESS_TOKEN']}\",\n",
    "                       f\"BASE_URL=https://cpd-cpd.apps.cpd.mskcc.org\",\n",
    "                       f\"VOLUME_DISPLAY_NAME={volume_display_name}\"]}\n",
    "\n",
    "paths_file = [\"/userfs/deepliif-repo/*\",\n",
    "              \"/userfs/train_command.py\",\n",
    "              \"/userfs/monitor_gpu.sh\",\n",
    "              \"/userfs/storage_volume_utils.py\",\n",
    "              \"/userfs/cpd_utils.py\"]\n",
    "\n",
    "paths_folder = [\"/userfs/deepliif-repo/deepliif\"]"
   ]
  },
  {
   "cell_type": "code",
   "execution_count": 4,
   "metadata": {
    "id": "a7d8b9f4-8664-404e-8798-9d9ccf3b20fc",
    "tags": []
   },
   "outputs": [],
   "source": [
    "os.environ['DIR_job_submission'] = options['model-dir']\n",
    "os.environ['file_exec'] = options['model-main']\n",
    "os.environ['VOLUME_DISPLAY_NAME'] = volume_display_name\n",
    "os.environ['HOST'] = 'wmla-console-cpd-wmla.apps.cpd.mskcc.org'"
   ]
  },
  {
   "cell_type": "code",
   "execution_count": 5,
   "metadata": {
    "id": "c3270799-aa9d-4681-b0df-e32400b36eeb",
    "tags": []
   },
   "outputs": [
    {
     "name": "stdout",
     "output_type": "stream",
     "text": [
      "Copying files and/or folders to /userfs/job_submission...\n",
      "cp: -r not specified; omitting directory '/userfs/deepliif-repo/checkpoints'\n",
      "cp: -r not specified; omitting directory '/userfs/deepliif-repo/Datasets'\n",
      "cp: -r not specified; omitting directory '/userfs/deepliif-repo/deepliif'\n",
      "cp: -r not specified; omitting directory '/userfs/deepliif-repo/DeepLIIF_Statistics'\n",
      "cp: -r not specified; omitting directory '/userfs/deepliif-repo/docs'\n",
      "cp: -r not specified; omitting directory '/userfs/deepliif-repo/images'\n",
      "cp: -r not specified; omitting directory '/userfs/deepliif-repo/model-server'\n",
      "cp: -r not specified; omitting directory '/userfs/deepliif-repo/Registration'\n",
      "cp: -r not specified; omitting directory '/userfs/deepliif-repo/Sample_Large_Tissues'\n",
      "cp: -r not specified; omitting directory '/userfs/deepliif-repo/Scripts'\n",
      "\n",
      "Patching /userfs/job_submission/cli.py for wmla framework distPyTorch...\n",
      "Done\n"
     ]
    }
   ],
   "source": [
    "wmla_util.prepare_submission_folder_training(paths_file,paths_folder,wmla_framework=wmla_framework,\n",
    "                                             file_training=file_training)"
   ]
  },
  {
   "cell_type": "code",
   "execution_count": 6,
   "metadata": {
    "id": "a899a930-0165-4bb5-a907-ca746c546635",
    "tags": []
   },
   "outputs": [
    {
     "name": "stdout",
     "output_type": "stream",
     "text": [
      "Copying files and directories ...\n",
      "Content size: 110.8K\n",
      "{\n",
      "  \"execId\": \"cpd-wmla-14\",\n",
      "  \"appId\": \"cpd-wmla-14\"\n",
      "}\n",
      "\n"
     ]
    }
   ],
   "source": [
    "wmla_util.submit_training(options,path_cli='wmla-utils/dlicmd.py')"
   ]
  }
 ],
 "metadata": {
  "kernelspec": {
   "display_name": "Python 3.8 with applications",
   "language": "python",
   "name": "python3"
  },
  "language_info": {
   "codemirror_mode": {
    "name": "ipython",
    "version": 3
   },
   "file_extension": ".py",
   "mimetype": "text/x-python",
   "name": "python",
   "nbconvert_exporter": "python",
   "pygments_lexer": "ipython3",
   "version": "3.8.11"
  }
 },
 "nbformat": 4,
 "nbformat_minor": 4
}
